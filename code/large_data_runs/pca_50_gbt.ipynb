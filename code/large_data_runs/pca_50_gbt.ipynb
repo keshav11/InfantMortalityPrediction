{
 "cells": [
  {
   "cell_type": "markdown",
   "metadata": {
    "collapsed": true
   },
   "source": [
    "## CSE545-SDG3-Team-Matrix \n",
    "\n"
   ]
  },
  {
   "cell_type": "code",
   "execution_count": 1,
   "metadata": {
    "collapsed": true
   },
   "outputs": [],
   "source": [
    "import findspark\n",
    "findspark.init()\n",
    "import pyspark\n",
    "from pyspark.sql import SQLContext\n",
    "from pyspark.sql.types import *\n",
    "import numpy as np\n",
    "import pandas as pd\n",
    "import scipy\n",
    "import matplotlib.pyplot as plt\n",
    "import seaborn as sns\n",
    "from pyspark.sql.functions import *\n",
    "from pyspark.sql.window import *\n",
    "from pyspark.sql.types import *\n",
    "import os"
   ]
  },
  {
   "cell_type": "code",
   "execution_count": 2,
   "metadata": {
    "collapsed": false
   },
   "outputs": [
    {
     "data": {
      "text/plain": [
       "'2.2.1'"
      ]
     },
     "execution_count": 2,
     "metadata": {},
     "output_type": "execute_result"
    }
   ],
   "source": [
    "sconf = pyspark.SparkConf()\n",
    "sc = pyspark.SparkContext(appName=\"SDG3-TeamMatrix\")\n",
    "sqlCtx = SQLContext(sc)\n",
    "sconf.set(\"spark.driver.maxResultSize\", \"24g\")\n",
    "sconf.set(\"spark.driver.memory\", \"24g\")\n",
    "sconf.set(\"spark.executor.memory\", \"24g\")\n",
    "sconf.set(\"spark.core.connection.ack.wait.timeout\", \"120000\")\n",
    "sc.version"
   ]
  },
  {
   "cell_type": "code",
   "execution_count": 3,
   "metadata": {
    "collapsed": false
   },
   "outputs": [
    {
     "name": "stdout",
     "output_type": "stream",
     "text": [
      "../LinkPE14US/*.*PUB\n"
     ]
    },
    {
     "data": {
      "text/plain": [
       "4021418"
      ]
     },
     "execution_count": 3,
     "metadata": {},
     "output_type": "execute_result"
    }
   ],
   "source": [
    "data_path = r'../LinkPE14US'\n",
    "print(os.path.join(data_path, \"*.*PUB\"))#all\n",
    "#print(os.path.join(data_path, \"VS14LINK.USMERGEDPUB\"))#*.*PUB\n",
    "df = sqlCtx.read.text(os.path.join(data_path, \"*.*PUB\"))  #all #*.*PUB\n",
    "#df = sqlCtx.read.text(os.path.join(data_path, \"VS14LINK.USMERGEDPUB\"))  #merged\n",
    "#df = sqlCtx.read.text(os.path.join(data_path, \"VS14LINK.USNUMPUB\"))  #350 mb\n",
    "#df = sqlCtx.read.text(\"/VS14LINK.USDENPUB\") # 5gb\n",
    "#df = sqlCtx.read.text(\"/*.*PUB\") # both\n",
    "\n",
    "df.count()\n",
    "\n"
   ]
  },
  {
   "cell_type": "code",
   "execution_count": 4,
   "metadata": {
    "collapsed": false
   },
   "outputs": [],
   "source": [
    "def blank_as_Y(x):\n",
    "    return when(col(x) == '', 'Y').otherwise('N') # 1 == alive, 0 == demised for ICD10"
   ]
  },
  {
   "cell_type": "code",
   "execution_count": 5,
   "metadata": {
    "collapsed": false
   },
   "outputs": [
    {
     "name": "stdout",
     "output_type": "stream",
     "text": [
      "number of features  1\n"
     ]
    }
   ],
   "source": [
    "# pandas data frame after adding column metadata\n",
    "#pndf type = pyspark.sql.dataframe.DataFrame\n",
    "pndf = df.select(\n",
    "    df.value.substr(9,4).cast(IntegerType()).alias('Birth_Year'),\n",
    "    df.value.substr(13,2).cast(IntegerType()).alias('Birth_Month'),\n",
    "    df.value.substr(19,4).cast(IntegerType()).alias('Time_of_Birth'),\n",
    "    df.value.substr(23,1).cast(IntegerType()).alias('Birth_DOW'),\n",
    "    df.value.substr(32,1).cast(IntegerType()).alias('Birth_Place'),\n",
    "    df.value.substr(50,1).cast(IntegerType()).alias('Facility_Recode'),\n",
    "    df.value.substr(75,2).cast(IntegerType()).alias('Mothers_Age_Recode'),\n",
    "    df.value.substr(84,1).cast(IntegerType()).alias('Mothers_Nativity'),\n",
    "    df.value.substr(104,1).cast(IntegerType()).alias('Residence_Status'),\n",
    "    df.value.substr(105,2).cast(IntegerType()).alias('Mothers_Race'),\n",
    "    df.value.substr(110,1).cast(IntegerType()).alias('Bridge_Race_Mother'),\n",
    "    df.value.substr(115,1).cast(IntegerType()).alias('Mothers_Hispanic_Origin_Recode'),\n",
    "    df.value.substr(119,1).cast(IntegerType()).alias('Paternity_Ack'),\n",
    "    df.value.substr(120,1).cast(IntegerType()).alias('Marital_Status'),\n",
    "    df.value.substr(124,1).cast(IntegerType()).alias('Mothers_Education'),\n",
    "    df.value.substr(147,2).cast(IntegerType()).alias('Fathers_Age'),\n",
    "    df.value.substr(149,2).cast(IntegerType()).alias('Fathers_Age_Recode'),\n",
    "    df.value.substr(151,2).cast(IntegerType()).alias('Fathers_Race_Recode'),\n",
    "    df.value.substr(156,1).cast(IntegerType()).alias('Bridge_Race_Father'),\n",
    "    df.value.substr(160,1).cast(IntegerType()).alias('Fathers_Hispanic_Origin_Recode'),\n",
    "    df.value.substr(163,1).cast(IntegerType()).alias('Fathers_Education'),\n",
    "    df.value.substr(171,2).cast(IntegerType()).alias('Prior_Births_Living'),\n",
    "    df.value.substr(173,2).cast(IntegerType()).alias('Prior_Births_Dead'),\n",
    "    df.value.substr(175,2).cast(IntegerType()).alias('Prior_Other_Terminations'),\n",
    "    df.value.substr(179,1).cast(IntegerType()).alias('Live_Birth_Order_Recode'),\n",
    "    df.value.substr(182,1).cast(IntegerType()).alias('Total_Birth_Order_Recode'),\n",
    "    df.value.substr(198,3).cast(IntegerType()).alias('Interval_Last_Live_Birth_Recode'),\n",
    "    df.value.substr(201,2).cast(IntegerType()).alias('Interval_Last_Live_Birth_Recode11'),\n",
    "    df.value.substr(206,3).cast(IntegerType()).alias('Interval_Last_Other_Pregnancy_Recode'),\n",
    "    df.value.substr(209,2).cast(IntegerType()).alias('Interval_Last_Other_Pregnancy_Recode11'),\n",
    "    df.value.substr(214,3).cast(IntegerType()).alias('Interval_Last_Pregnancy_Recode'),\n",
    "    df.value.substr(217,2).cast(IntegerType()).alias('Interval_Last_Pregnancy_Recode11'),\n",
    "    df.value.substr(238,2).cast(IntegerType()).alias('Num_Prenatal_Visits'),\n",
    "    df.value.substr(242,2).cast(IntegerType()).alias('Num_Prenatal_Visits_Recode'),\n",
    "    df.value.substr(253,2).cast(IntegerType()).alias('Cigarettes_Before_Pregnancy'),\n",
    "    df.value.substr(255,2).cast(IntegerType()).alias('Cigarettes_1st_Trimester'),\n",
    "    df.value.substr(257,2).cast(IntegerType()).alias('Cigarettes_2nd_Trimester'),\n",
    "    df.value.substr(259,2).cast(IntegerType()).alias('Cigarettes_3rd_Trimester'),\n",
    "    df.value.substr(261,1).cast(IntegerType()).alias('Cigarettes_Before_Pregnancy_Recode'),\n",
    "    df.value.substr(262,1).cast(IntegerType()).alias('Cigarettes_1st_Trimester_Recode'),\n",
    "    df.value.substr(263,1).cast(IntegerType()).alias('Cigarettes_2nd_Trimester_Recode'),\n",
    "    df.value.substr(264,1).cast(IntegerType()).alias('Cigarettes_3rd_Trimester_Recode'),\n",
    "    df.value.substr(280,2).cast(IntegerType()).alias('Mothers_Height_Inches'),\n",
    "    df.value.substr(287,1).cast(IntegerType()).alias('BMI_Recode'),\n",
    "    df.value.substr(292,3).cast(IntegerType()).alias('Pre_Pregnancy_Weight_Recode'),\n",
    "    df.value.substr(299,3).cast(IntegerType()).alias('Delivery_Weight_Recode'),\n",
    "    df.value.substr(304,2).cast(IntegerType()).alias('Weight_Gain'),\n",
    "    df.value.substr(306,1).cast(IntegerType()).alias('Weight_Gain_Recode'),\n",
    "    df.value.substr(313,1).cast(StringType()).alias('Pre_Pregnancy_Diabetes'),\n",
    "    df.value.substr(314,1).cast(StringType()).alias('Gestational_Diabetes'),\n",
    "    df.value.substr(315,1).cast(StringType()).alias('Pre_Pregnancy_Hypertension'),\n",
    "    df.value.substr(316,1).cast(StringType()).alias('Gestational_Hypertension'),\n",
    "    df.value.substr(317,1).cast(StringType()).alias('Hypertension_Eclmapsia'),\n",
    "    df.value.substr(318,1).cast(StringType()).alias('Previous_Preterm_Birth'),\n",
    "    df.value.substr(325,1).cast(StringType()).alias('Infertility_Treatment'),\n",
    "    df.value.substr(326,1).cast(StringType()).alias('Fertility_Enhancing_Drugs'),\n",
    "    df.value.substr(327,1).cast(StringType()).alias('Assistive_Reproductive_Technology'),\n",
    "    df.value.substr(331,1).cast(StringType()).alias('Prev_Cesareans'),\n",
    "    df.value.substr(332,2).cast(IntegerType()).alias('Num_Prev_Cesareans'),\n",
    "    df.value.substr(337,1).cast(StringType()).alias('No_Risk_Factors_Checked'),\n",
    "    \n",
    "    df.value.substr(343,1).cast(StringType()).alias('Gonorrhea'),\n",
    "    df.value.substr(344,1).cast(StringType()).alias('Syphillis'),\n",
    "    df.value.substr(345,1).cast(StringType()).alias('Chlamydia'),\n",
    "    df.value.substr(346,1).cast(StringType()).alias('HepatitisB'),\n",
    "    df.value.substr(347,1).cast(StringType()).alias('HepatitisC'),\n",
    "    df.value.substr(353,1).cast(StringType()).alias('No_Infections_Checked'),\n",
    "    df.value.substr(360,1).cast(StringType()).alias('Sucessful_External_Cephalic_Version'),\n",
    "    df.value.substr(361,1).cast(StringType()).alias('Failed_External_Cephalic_Version'),\n",
    "    \n",
    "    df.value.substr(383,1).cast(StringType()).alias('Induction_Of_Labor'),\n",
    "    df.value.substr(384,1).cast(StringType()).alias('Augmentation_Of_Labor'),\n",
    "    df.value.substr(385,1).cast(StringType()).alias('Steroids_Mother'),\n",
    "    df.value.substr(386,1).cast(StringType()).alias('Antibiotics_Mother'),\n",
    "    df.value.substr(386,1).cast(StringType()).alias('Chorioamnionitis_Mother'),\n",
    "    df.value.substr(387,1).cast(StringType()).alias('Anesthesia_Mother'),\n",
    "    df.value.substr(395,1).cast(StringType()).alias('No_Labor_Checked'),\n",
    "    df.value.substr(401,1).cast(IntegerType()).alias('Fetal_Presentation'),\n",
    "    df.value.substr(402,1).cast(IntegerType()).alias('Final_Route_and_Method_Of_Delivery'),\n",
    "    df.value.substr(403,1).cast(IntegerType()).alias('Trail_Of_Labor_Attempted'),\n",
    "    df.value.substr(407,1).cast(IntegerType()).alias('Delivery_Method_Recode'),\n",
    "    df.value.substr(415,1).cast(StringType()).alias('Maternal_Transfusion'),\n",
    "    df.value.substr(416,1).cast(StringType()).alias('Perineal_Laceration'),\n",
    "    df.value.substr(417,1).cast(StringType()).alias('Ruptured_Uterus'),\n",
    "    df.value.substr(418,1).cast(StringType()).alias('Unplanned_Hysterectomy'),\n",
    "    df.value.substr(419,1).cast(StringType()).alias('Admit_to_Intensive_Care'),\n",
    "    df.value.substr(427,1).cast(IntegerType()).alias('No_Maternal_Morbidity_Checked'),\n",
    "    df.value.substr(433,1).cast(IntegerType()).alias('Attendant'),\n",
    "    df.value.substr(434,1).cast(StringType()).alias('Mother_Transferred'),\n",
    "\n",
    "    \n",
    "    #435 - 870\n",
    "    df.value.substr(435,1).cast(IntegerType()).alias('Payment_Source'),\n",
    "    df.value.substr(436,1).cast(IntegerType()).alias('Payment_Recode'),\n",
    "    df.value.substr(444,2).cast(IntegerType()).alias('Five_Minute_APGAR_Score'),\n",
    "    df.value.substr(446,1).cast(IntegerType()).alias('Five_Minute_APGAR_Recode'),\n",
    "    df.value.substr(448,2).cast(IntegerType()).alias('Ten_Minute_APGAR_Score'),\n",
    "    df.value.substr(450,1).cast(IntegerType()).alias('Ten_Minute_APGAR_Recode'),\n",
    "    df.value.substr(454,1).cast(IntegerType()).alias('Plurality'),\n",
    "    df.value.substr(475,1).cast(StringType()).alias('Sex_Of_Infant'),\n",
    "    df.value.substr(477,2).cast(IntegerType()).alias('Last_Normal_Menses_Month'),\n",
    "    df.value.substr(481,4).cast(IntegerType()).alias('Last_Normal_Menses_Year'),\n",
    "    df.value.substr(489,1).cast(IntegerType()).alias('Obstetric_Estimate_of_Gestation_Used_Flag'),\n",
    "    df.value.substr(490,2).cast(IntegerType()).alias('Combined_Gestation_Detail_in_Weeks'),\n",
    "    df.value.substr(492,1).cast(IntegerType()).alias('Combined_Gestation_Recode_Weeks'),\n",
    "    df.value.substr(509,2).cast(IntegerType()).alias('Birth_Weight_Recode_14'),\n",
    "    df.value.substr(511,1).cast(IntegerType()).alias('Birth_Weight_Recode_4'),\n",
    "    df.value.substr(512,4).cast(IntegerType()).alias('Imputed_Birthwieght'),\n",
    "    #Abnormal Conditions of the Newborn\n",
    "    df.value.substr(517,1).cast(StringType()).alias('Assisted_Ventilation'),\n",
    "    df.value.substr(518,1).cast(StringType()).alias('Assisted_Ventilation_Greater_Than_6_Hours'),\n",
    "    df.value.substr(519,1).cast(StringType()).alias('Admission_to_NICU'),\n",
    "    df.value.substr(520,1).cast(StringType()).alias('Surfactant'),\n",
    "    df.value.substr(521,1).cast(StringType()).alias('Antibiotics'),\n",
    "    df.value.substr(522,1).cast(StringType()).alias('Seizures'),\n",
    "    df.value.substr(531,1).cast(IntegerType()).alias('No_Abnormal_Conditions_Checked'),\n",
    "    #Congenital Anomalies of the Newborn\n",
    "    df.value.substr(537,1).cast(StringType()).alias('Anencephaly'),\n",
    "    df.value.substr(538,1).cast(StringType()).alias('Meningomyelocele_or_Spina_Bifida'),\n",
    "    df.value.substr(539,1).cast(StringType()).alias('Cyanotic_Congenital_Heart_Disease'),\n",
    "    df.value.substr(540,1).cast(StringType()).alias('Congenital_Diaphragmatic_Hernia'),\n",
    "    df.value.substr(541,1).cast(StringType()).alias('Omphalocele'),\n",
    "    df.value.substr(542,1).cast(StringType()).alias('Gastroschisis'),\n",
    "    df.value.substr(549,1).cast(StringType()).alias('Limb_Reduction_Defect'),\n",
    "    df.value.substr(550,1).cast(StringType()).alias('Cleft_Lip_w_or_wo_Cleft_Palate'),\n",
    "    df.value.substr(551,1).cast(StringType()).alias('Cleft_Palate_alone'),\n",
    "    df.value.substr(553,1).cast(StringType()).alias('Suspected_Chromosomal_Disorder'),\n",
    "    df.value.substr(554,1).cast(StringType()).alias('Hypospadias'),\n",
    "    df.value.substr(561,1).cast(IntegerType()).alias('No_Congenital_Anomalies_Checked'),\n",
    "    df.value.substr(568,1).cast(StringType()).alias('Infant_Living_at_Time_of_Report'),\n",
    "    df.value.substr(569,1).cast(StringType()).alias('Infant_Being_Breastfed'), \n",
    "    #\n",
    "    #1330 - 1743\n",
    "    df.value.substr(1331,1).cast(IntegerType()).alias('Diabetes'),\n",
    "    df.value.substr(1332,1).cast(IntegerType()).alias('Chronic_Hypertension'),\n",
    "    df.value.substr(1333,1).cast(IntegerType()).alias('Prepregnacy_Associated_Hypertension'),\n",
    "    df.value.substr(1334,1).cast(IntegerType()).alias('Eclampsia'),\n",
    "    df.value.substr(1335,1).cast(IntegerType()).alias('Forceps'),\n",
    "    df.value.substr(1336,1).cast(IntegerType()).alias('Vacuum'),\n",
    "    df.value.substr(1337,1).cast(IntegerType()).alias('Induction_of_Labor1'),\n",
    "    df.value.substr(1338,1).cast(IntegerType()).alias('Breech1'),\n",
    "    df.value.substr(1341,1).cast(IntegerType()).alias('Spina_Bifida_Meningocele1'),\n",
    "    df.value.substr(1342,1).cast(IntegerType()).alias('Omphalocele_Gastroschisis1'),\n",
    "    \n",
    "    df.value.substr(1343,1).cast(IntegerType()).alias('Cleft_Lip_Palate1'), \n",
    "    df.value.substr(1344,1).cast(IntegerType()).alias('Diaphragmatic_Herni1a'),\n",
    "    df.value.substr(1345,1).cast(IntegerType()).alias('Down_Syndrome1'),\n",
    "    df.value.substr(1356,3).cast(IntegerType()).alias('Age_at_Death_in_Days'),\n",
    "    df.value.substr(1359,1).cast(IntegerType()).alias('Infant_age_recode_5'),\n",
    "    df.value.substr(1360,2).cast(IntegerType()).alias('Infant_age_recode_22'), \n",
    "    df.value.substr(1362,1).cast(IntegerType()).alias('Manner_of_Death'),\n",
    "    \n",
    "    df.value.substr(1366,1).cast(IntegerType()).alias('Place_of_injury_for_causes_W00_Y34_except_Y06'),\n",
    "    df.value.substr(1368,4).cast(StringType()).alias('ICD10'), #underlying cause of death - this is used to determine the LABEL for ML\n",
    "    df.value.substr(1671,1).cast(IntegerType()).alias('Day_of_Week_of_Death'),\n",
    "    df.value.substr(1672,4).cast(IntegerType()).alias('Data_Year'),\n",
    "    df.value.substr(1742,1).cast(IntegerType()).alias('Month_of_Death')\n",
    "    \n",
    "    \n",
    ").withColumn(\"id\", monotonically_increasing_id())\n",
    "\n",
    "pndf.printSchema\n",
    "pndf = pndf.na.fill({'Num_Prev_Cesareans': 0.0})\n",
    "\n",
    "# derive the infant_living column from ICD10 - must for ML prediction\n",
    "pndf = pndf.withColumn(\"Infant_Living\", blank_as_Y(\"ICD10\")) # dervied 0/1 label  # 1 == alive, 0 == demised for ICD10\n",
    "print(\"number of features \", len(df.columns))"
   ]
  },
  {
   "cell_type": "code",
   "execution_count": 6,
   "metadata": {
    "collapsed": false
   },
   "outputs": [
    {
     "name": "stdout",
     "output_type": "stream",
     "text": [
      "171998\n",
      "+-------+-------+\n",
      "|summary|  ICD10|\n",
      "+-------+-------+\n",
      "|  count|4021418|\n",
      "|   mean|   null|\n",
      "| stddev|   null|\n",
      "|    min|       |\n",
      "|    max|   Y848|\n",
      "+-------+-------+\n",
      "\n",
      "# Infants Living >>  3998175\n"
     ]
    }
   ],
   "source": [
    "print(pndf.filter(pndf['Infant_Living_at_Time_of_Report']!='Y').count())\n",
    "#pndf.describe().filter($\"ICD10\" === \"count\").show\n",
    "#print(pndf.filter(pndf[\"ICD10\"].isNotNull).count())\n",
    "\n",
    "#pndf.filter(\"ICD10 is not null\").count()\n",
    "#print(pndf.count())\n",
    "#pndf = pndf.toPandas()\n",
    "pndf.describe(['ICD10']).show()\n",
    "#type(pndf)\n",
    "#pndf.printSchema\n",
    "print(\"# Infants Living >> \",pndf.filter(pndf['Infant_Living']=='Y').count())\n",
    "#pndf.select('Infant_Living').show()"
   ]
  },
  {
   "cell_type": "code",
   "execution_count": 7,
   "metadata": {
    "collapsed": false
   },
   "outputs": [
    {
     "data": {
      "text/plain": [
       "pyspark.sql.dataframe.DataFrame"
      ]
     },
     "execution_count": 7,
     "metadata": {},
     "output_type": "execute_result"
    }
   ],
   "source": [
    "type(pndf)"
   ]
  },
  {
   "cell_type": "code",
   "execution_count": 8,
   "metadata": {
    "collapsed": false
   },
   "outputs": [
    {
     "name": "stdout",
     "output_type": "stream",
     "text": [
      "Before cleanup count of PNDF  4021418\n",
      "After fill count of PNDF  4021418\n",
      "After cleanup count of PNDF  4021418\n"
     ]
    },
    {
     "data": {
      "text/plain": [
       "[Row(Birth_Year=2014, Birth_Month=6, Time_of_Birth=1436, Birth_DOW=4, Birth_Place=1, Facility_Recode=1, Mothers_Age_Recode=23, Mothers_Nativity=1, Residence_Status=1, Mothers_Race=2, Bridge_Race_Mother=2, Mothers_Hispanic_Origin_Recode=0, Paternity_Ack=None, Marital_Status=1, Mothers_Education=4, Fathers_Age=24, Fathers_Age_Recode=3, Fathers_Race_Recode=2, Bridge_Race_Father=2, Fathers_Hispanic_Origin_Recode=0, Fathers_Education=3, Prior_Births_Living=2, Prior_Births_Dead=0, Prior_Other_Terminations=0, Live_Birth_Order_Recode=3, Total_Birth_Order_Recode=3, Interval_Last_Live_Birth_Recode=15, Interval_Last_Live_Birth_Recode11=2, Interval_Last_Other_Pregnancy_Recode=888, Interval_Last_Other_Pregnancy_Recode11=88, Interval_Last_Pregnancy_Recode=15, Interval_Last_Pregnancy_Recode11=2, Num_Prenatal_Visits=12, Num_Prenatal_Visits_Recode=7, Cigarettes_Before_Pregnancy=0, Cigarettes_1st_Trimester=0, Cigarettes_2nd_Trimester=0, Cigarettes_3rd_Trimester=0, Cigarettes_Before_Pregnancy_Recode=0, Cigarettes_1st_Trimester_Recode=0, Cigarettes_2nd_Trimester_Recode=0, Cigarettes_3rd_Trimester_Recode=0, Mothers_Height_Inches=62, BMI_Recode=1, Pre_Pregnancy_Weight_Recode=98, Delivery_Weight_Recode=112, Weight_Gain=14, Weight_Gain_Recode=2, Pre_Pregnancy_Diabetes='N', Gestational_Diabetes='N', Pre_Pregnancy_Hypertension='N', Gestational_Hypertension='N', Hypertension_Eclmapsia='N', Previous_Preterm_Birth='N', Infertility_Treatment='N', Fertility_Enhancing_Drugs='X', Assistive_Reproductive_Technology='X', Prev_Cesareans='N', Num_Prev_Cesareans=0, No_Risk_Factors_Checked='1', Gonorrhea='N', Syphillis='N', Chlamydia='N', HepatitisB='N', HepatitisC='N', No_Infections_Checked='1', Sucessful_External_Cephalic_Version='N', Failed_External_Cephalic_Version='N', Induction_Of_Labor='N', Augmentation_Of_Labor='N', Steroids_Mother='N', Antibiotics_Mother='N', Chorioamnionitis_Mother='N', Anesthesia_Mother='N', No_Labor_Checked='0', Fetal_Presentation=1, Final_Route_and_Method_Of_Delivery=1, Trail_Of_Labor_Attempted=None, Delivery_Method_Recode=1, Maternal_Transfusion='N', Perineal_Laceration='N', Ruptured_Uterus='N', Unplanned_Hysterectomy='N', Admit_to_Intensive_Care='N', No_Maternal_Morbidity_Checked=1, Attendant=2, Mother_Transferred='N', Payment_Source=1, Payment_Recode=1, Five_Minute_APGAR_Score=9, Five_Minute_APGAR_Recode=4, Ten_Minute_APGAR_Score=88, Ten_Minute_APGAR_Recode=5, Plurality=1, Sex_Of_Infant='F', Last_Normal_Menses_Month=9, Last_Normal_Menses_Year=2013, Obstetric_Estimate_of_Gestation_Used_Flag=None, Combined_Gestation_Detail_in_Weeks=39, Combined_Gestation_Recode_Weeks=0, Birth_Weight_Recode_14=8, Birth_Weight_Recode_4=3, Imputed_Birthwieght=2835, Assisted_Ventilation='N', Assisted_Ventilation_Greater_Than_6_Hours='N', Admission_to_NICU='N', Surfactant='N', Antibiotics='N', Seizures='N', No_Abnormal_Conditions_Checked=1, Anencephaly='N', Meningomyelocele_or_Spina_Bifida='N', Cyanotic_Congenital_Heart_Disease='N', Congenital_Diaphragmatic_Hernia='N', Omphalocele='N', Gastroschisis='N', Limb_Reduction_Defect='N', Cleft_Lip_w_or_wo_Cleft_Palate='N', Cleft_Palate_alone='N', Suspected_Chromosomal_Disorder='N', Hypospadias='N', No_Congenital_Anomalies_Checked=1, Infant_Living_at_Time_of_Report='Y', Infant_Being_Breastfed='Y', Diabetes=2, Chronic_Hypertension=2, Prepregnacy_Associated_Hypertension=2, Eclampsia=2, Forceps=2, Vacuum=2, Induction_of_Labor1=2, Breech1=2, Spina_Bifida_Meningocele1=2, Omphalocele_Gastroschisis1=2, Cleft_Lip_Palate1=2, Diaphragmatic_Herni1a=2, Down_Syndrome1=2, Age_at_Death_in_Days=None, Infant_age_recode_5=None, Infant_age_recode_22=None, Manner_of_Death=None, Place_of_injury_for_causes_W00_Y34_except_Y06=None, ICD10='', Day_of_Week_of_Death=None, Data_Year=None, Month_of_Death=None, id=0, Infant_Living='Y', Cleft_Palate_alone_numeric=0.0, Infant_Being_Breastfed_numeric=0.0, Syphillis_numeric=0.0, Chlamydia_numeric=0.0, Pre_Pregnancy_Hypertension_numeric=0.0, Omphalocele_numeric=0.0, Mother_Transferred_numeric=0.0, No_Risk_Factors_Checked_numeric=0.0, Anesthesia_Mother_numeric=0.0, Unplanned_Hysterectomy_numeric=0.0, No_Labor_Checked_numeric=0.0, Prev_Cesareans_numeric=0.0, Sex_Of_Infant_numeric=1.0, Antibiotics_numeric=0.0, Antibiotics_Mother_numeric=0.0, Gastroschisis_numeric=0.0, HepatitisC_numeric=0.0, Surfactant_numeric=0.0, Meningomyelocele_or_Spina_Bifida_numeric=0.0, Induction_Of_Labor_numeric=0.0, Ruptured_Uterus_numeric=0.0, Perineal_Laceration_numeric=0.0, Seizures_numeric=0.0, Congenital_Diaphragmatic_Hernia_numeric=0.0, Limb_Reduction_Defect_numeric=0.0, Assistive_Reproductive_Technology_numeric=0.0, Hypertension_Eclmapsia_numeric=0.0, Fertility_Enhancing_Drugs_numeric=0.0, Steroids_Mother_numeric=0.0, Assisted_Ventilation_numeric=0.0, Maternal_Transfusion_numeric=0.0, Admission_to_NICU_numeric=0.0, Previous_Preterm_Birth_numeric=0.0, Cleft_Lip_w_or_wo_Cleft_Palate_numeric=0.0, Sucessful_External_Cephalic_Version_numeric=0.0, Gonorrhea_numeric=0.0, Hypospadias_numeric=0.0, Infant_Living_numeric=0.0, Suspected_Chromosomal_Disorder_numeric=0.0, Gestational_Diabetes_numeric=0.0, Gestational_Hypertension_numeric=0.0, Cyanotic_Congenital_Heart_Disease_numeric=0.0, ICD10_numeric=0.0, Anencephaly_numeric=0.0, Failed_External_Cephalic_Version_numeric=0.0, HepatitisB_numeric=0.0, Admit_to_Intensive_Care_numeric=0.0, Pre_Pregnancy_Diabetes_numeric=0.0, Augmentation_Of_Labor_numeric=0.0, No_Infections_Checked_numeric=0.0, Assisted_Ventilation_Greater_Than_6_Hours_numeric=0.0, Infant_Living_at_Time_of_Report_numeric=0.0, Chorioamnionitis_Mother_numeric=0.0, Infertility_Treatment_numeric=0.0, label=0.0)]"
      ]
     },
     "execution_count": 8,
     "metadata": {},
     "output_type": "execute_result"
    }
   ],
   "source": [
    "from pyspark.ml.feature import StringIndexer\n",
    "from pyspark.ml import Pipeline\n",
    "\n",
    "print(\"Before cleanup count of PNDF \",pndf.count())\n",
    "pndf = pndf.na.fill(\"NA\") #pndf.na.fill(\"0.0\") pndf.na.drop()\n",
    "print(\"After fill count of PNDF \",pndf.count())\n",
    "\n",
    "# String Indexer .setHandleInvalid(\"keep\")\n",
    "stringColumns = ['Pre_Pregnancy_Diabetes','Gestational_Diabetes','Pre_Pregnancy_Hypertension', 'Gestational_Hypertension',\\\n",
    "                'Hypertension_Eclmapsia','Previous_Preterm_Birth','Infertility_Treatment','Fertility_Enhancing_Drugs',\\\n",
    "                'Assistive_Reproductive_Technology', 'Prev_Cesareans','No_Risk_Factors_Checked','Sex_Of_Infant','Assisted_Ventilation',\\\n",
    "                'Assisted_Ventilation_Greater_Than_6_Hours', 'Admission_to_NICU','Surfactant','Antibiotics','Seizures','Anencephaly',\\\n",
    "                'Meningomyelocele_or_Spina_Bifida','Cyanotic_Congenital_Heart_Disease','Congenital_Diaphragmatic_Hernia',\\\n",
    "                'Omphalocele','Gastroschisis','Limb_Reduction_Defect','Cleft_Lip_w_or_wo_Cleft_Palate','Cleft_Palate_alone',\\\n",
    "                'Suspected_Chromosomal_Disorder','Hypospadias','Infant_Living_at_Time_of_Report','Infant_Being_Breastfed',\\\n",
    "                 'Gonorrhea','Syphillis','Chlamydia','HepatitisB','HepatitisC','No_Infections_Checked','Sucessful_External_Cephalic_Version',\\\n",
    "                 'Failed_External_Cephalic_Version','Induction_Of_Labor','Augmentation_Of_Labor','Steroids_Mother','Antibiotics_Mother','Chorioamnionitis_Mother',\\\n",
    "                 'Anesthesia_Mother','No_Labor_Checked','Maternal_Transfusion','Perineal_Laceration','Ruptured_Uterus','Unplanned_Hysterectomy',\\\n",
    "                 'Admit_to_Intensive_Care','Mother_Transferred','ICD10', 'Infant_Living']\n",
    "indexers = [StringIndexer(inputCol=column, outputCol=column+\"_numeric\").fit(pndf) for column in list(  set(stringColumns)) ]\n",
    "label_stringIndexer = StringIndexer(inputCol=\"Infant_Living\", outputCol='label') # TODO Change to 'Infant_Living' after fixing cleanup\n",
    "indexers.append(label_stringIndexer)\n",
    "\n",
    "pipeline = Pipeline(stages=indexers)\n",
    "pndf = pipeline.fit(pndf).transform(pndf)\n",
    "# print(pndf.select([column for column in pndf.columns if column not in drop_list]))\n",
    "# pca_cols = list(set(pca_cols).difference(set(drop_list)))\n",
    "\n",
    "# pndf = stringIndexer.fit(pndf).transform(pndf)\n",
    "print(\"After cleanup count of PNDF \",pndf.count())\n",
    "pndf.head(1)\n"
   ]
  },
  {
   "cell_type": "code",
   "execution_count": 9,
   "metadata": {
    "collapsed": false
   },
   "outputs": [
    {
     "data": {
      "text/plain": [
       "Row(Birth_Year=2014, Birth_Month=6, Time_of_Birth=1436, Birth_DOW=4, Birth_Place=1, Facility_Recode=1, Mothers_Age_Recode=23, Mothers_Nativity=1, Residence_Status=1, Mothers_Race=2, Bridge_Race_Mother=2, Mothers_Hispanic_Origin_Recode=0, Paternity_Ack=-1, Marital_Status=1, Mothers_Education=4, Fathers_Age=24, Fathers_Age_Recode=3, Fathers_Race_Recode=2, Bridge_Race_Father=2, Fathers_Hispanic_Origin_Recode=0, Fathers_Education=3, Prior_Births_Living=2, Prior_Births_Dead=0, Prior_Other_Terminations=0, Live_Birth_Order_Recode=3, Total_Birth_Order_Recode=3, Interval_Last_Live_Birth_Recode=15, Interval_Last_Live_Birth_Recode11=2, Interval_Last_Other_Pregnancy_Recode=888, Interval_Last_Other_Pregnancy_Recode11=88, Interval_Last_Pregnancy_Recode=15, Interval_Last_Pregnancy_Recode11=2, Num_Prenatal_Visits=12, Num_Prenatal_Visits_Recode=7, Cigarettes_Before_Pregnancy=0, Cigarettes_1st_Trimester=0, Cigarettes_2nd_Trimester=0, Cigarettes_3rd_Trimester=0, Cigarettes_Before_Pregnancy_Recode=0, Cigarettes_1st_Trimester_Recode=0, Cigarettes_2nd_Trimester_Recode=0, Cigarettes_3rd_Trimester_Recode=0, Mothers_Height_Inches=62, BMI_Recode=1, Pre_Pregnancy_Weight_Recode=98, Delivery_Weight_Recode=112, Weight_Gain=14, Weight_Gain_Recode=2, Pre_Pregnancy_Diabetes='N', Gestational_Diabetes='N', Pre_Pregnancy_Hypertension='N', Gestational_Hypertension='N', Hypertension_Eclmapsia='N', Previous_Preterm_Birth='N', Infertility_Treatment='N', Fertility_Enhancing_Drugs='X', Assistive_Reproductive_Technology='X', Prev_Cesareans='N', Num_Prev_Cesareans=0, No_Risk_Factors_Checked='1', Gonorrhea='N', Syphillis='N', Chlamydia='N', HepatitisB='N', HepatitisC='N', No_Infections_Checked='1', Sucessful_External_Cephalic_Version='N', Failed_External_Cephalic_Version='N', Induction_Of_Labor='N', Augmentation_Of_Labor='N', Steroids_Mother='N', Antibiotics_Mother='N', Chorioamnionitis_Mother='N', Anesthesia_Mother='N', No_Labor_Checked='0', Fetal_Presentation=1, Final_Route_and_Method_Of_Delivery=1, Trail_Of_Labor_Attempted=-1, Delivery_Method_Recode=1, Maternal_Transfusion='N', Perineal_Laceration='N', Ruptured_Uterus='N', Unplanned_Hysterectomy='N', Admit_to_Intensive_Care='N', No_Maternal_Morbidity_Checked=1, Attendant=2, Mother_Transferred='N', Payment_Source=1, Payment_Recode=1, Five_Minute_APGAR_Score=9, Five_Minute_APGAR_Recode=4, Ten_Minute_APGAR_Score=88, Ten_Minute_APGAR_Recode=5, Plurality=1, Sex_Of_Infant='F', Last_Normal_Menses_Month=9, Last_Normal_Menses_Year=2013, Obstetric_Estimate_of_Gestation_Used_Flag=-1, Combined_Gestation_Detail_in_Weeks=39, Combined_Gestation_Recode_Weeks=0, Birth_Weight_Recode_14=8, Birth_Weight_Recode_4=3, Imputed_Birthwieght=2835, Assisted_Ventilation='N', Assisted_Ventilation_Greater_Than_6_Hours='N', Admission_to_NICU='N', Surfactant='N', Antibiotics='N', Seizures='N', No_Abnormal_Conditions_Checked=1, Anencephaly='N', Meningomyelocele_or_Spina_Bifida='N', Cyanotic_Congenital_Heart_Disease='N', Congenital_Diaphragmatic_Hernia='N', Omphalocele='N', Gastroschisis='N', Limb_Reduction_Defect='N', Cleft_Lip_w_or_wo_Cleft_Palate='N', Cleft_Palate_alone='N', Suspected_Chromosomal_Disorder='N', Hypospadias='N', No_Congenital_Anomalies_Checked=1, Infant_Living_at_Time_of_Report='Y', Infant_Being_Breastfed='Y', Diabetes=2, Chronic_Hypertension=2, Prepregnacy_Associated_Hypertension=2, Eclampsia=2, Forceps=2, Vacuum=2, Induction_of_Labor1=2, Breech1=2, Spina_Bifida_Meningocele1=2, Omphalocele_Gastroschisis1=2, Cleft_Lip_Palate1=2, Diaphragmatic_Herni1a=2, Down_Syndrome1=2, Age_at_Death_in_Days=-1, Infant_age_recode_5=-1, Infant_age_recode_22=-1, Manner_of_Death=-1, Place_of_injury_for_causes_W00_Y34_except_Y06=-1, ICD10='', Day_of_Week_of_Death=-1, Data_Year=-1, Month_of_Death=-1, id=0, Infant_Living='Y', Cleft_Palate_alone_numeric=0.0, Infant_Being_Breastfed_numeric=0.0, Syphillis_numeric=0.0, Chlamydia_numeric=0.0, Pre_Pregnancy_Hypertension_numeric=0.0, Omphalocele_numeric=0.0, Mother_Transferred_numeric=0.0, No_Risk_Factors_Checked_numeric=0.0, Anesthesia_Mother_numeric=0.0, Unplanned_Hysterectomy_numeric=0.0, No_Labor_Checked_numeric=0.0, Prev_Cesareans_numeric=0.0, Sex_Of_Infant_numeric=1.0, Antibiotics_numeric=0.0, Antibiotics_Mother_numeric=0.0, Gastroschisis_numeric=0.0, HepatitisC_numeric=0.0, Surfactant_numeric=0.0, Meningomyelocele_or_Spina_Bifida_numeric=0.0, Induction_Of_Labor_numeric=0.0, Ruptured_Uterus_numeric=0.0, Perineal_Laceration_numeric=0.0, Seizures_numeric=0.0, Congenital_Diaphragmatic_Hernia_numeric=0.0, Limb_Reduction_Defect_numeric=0.0, Assistive_Reproductive_Technology_numeric=0.0, Hypertension_Eclmapsia_numeric=0.0, Fertility_Enhancing_Drugs_numeric=0.0, Steroids_Mother_numeric=0.0, Assisted_Ventilation_numeric=0.0, Maternal_Transfusion_numeric=0.0, Admission_to_NICU_numeric=0.0, Previous_Preterm_Birth_numeric=0.0, Cleft_Lip_w_or_wo_Cleft_Palate_numeric=0.0, Sucessful_External_Cephalic_Version_numeric=0.0, Gonorrhea_numeric=0.0, Hypospadias_numeric=0.0, Infant_Living_numeric=0.0, Suspected_Chromosomal_Disorder_numeric=0.0, Gestational_Diabetes_numeric=0.0, Gestational_Hypertension_numeric=0.0, Cyanotic_Congenital_Heart_Disease_numeric=0.0, ICD10_numeric=0.0, Anencephaly_numeric=0.0, Failed_External_Cephalic_Version_numeric=0.0, HepatitisB_numeric=0.0, Admit_to_Intensive_Care_numeric=0.0, Pre_Pregnancy_Diabetes_numeric=0.0, Augmentation_Of_Labor_numeric=0.0, No_Infections_Checked_numeric=0.0, Assisted_Ventilation_Greater_Than_6_Hours_numeric=0.0, Infant_Living_at_Time_of_Report_numeric=0.0, Chorioamnionitis_Mother_numeric=0.0, Infertility_Treatment_numeric=0.0, label=0.0, features=SparseVector(145, {0: 2014.0, 1: 6.0, 2: 1436.0, 3: 4.0, 4: 1.0, 5: 1.0, 6: 23.0, 7: 1.0, 8: 1.0, 9: 2.0, 10: 2.0, 12: -1.0, 13: 1.0, 14: 4.0, 15: 24.0, 16: 3.0, 17: 2.0, 18: 2.0, 20: 3.0, 21: 2.0, 24: 3.0, 25: 3.0, 26: 15.0, 27: 2.0, 28: 888.0, 29: 88.0, 30: 15.0, 31: 2.0, 32: 12.0, 33: 7.0, 42: 62.0, 43: 1.0, 44: 98.0, 45: 112.0, 46: 14.0, 47: 2.0, 49: 1.0, 50: 1.0, 51: -1.0, 52: 1.0, 53: 1.0, 54: 2.0, 55: 1.0, 56: 1.0, 57: 9.0, 58: 4.0, 59: 88.0, 60: 5.0, 61: 1.0, 62: 9.0, 63: 2013.0, 64: -1.0, 65: 39.0, 67: 8.0, 68: 3.0, 69: 2835.0, 70: 1.0, 71: 1.0, 72: 2.0, 73: 2.0, 74: 2.0, 75: 2.0, 76: 2.0, 77: 2.0, 78: 2.0, 79: 2.0, 80: 2.0, 81: 2.0, 82: 2.0, 83: 2.0, 84: 2.0, 85: -1.0, 86: -1.0, 87: -1.0, 88: -1.0, 89: -1.0, 90: -1.0, 91: -1.0, 92: -1.0, 106: 1.0}))"
      ]
     },
     "execution_count": 9,
     "metadata": {},
     "output_type": "execute_result"
    }
   ],
   "source": [
    "from pyspark.ml.feature import VectorAssembler\n",
    "\n",
    "pca_cols = pndf.columns\n",
    "pca_cols = [e for e in pca_cols if e not in stringColumns]\n",
    "no_label_pca_cols = [e for e in pca_cols if e not in ['Infant_Living_at_Time_of_Report_numeric','Infant_Living_at_Time_of_Report',\\\n",
    "                                                    'Infant_Living','Infant_Living_numeric','label','ICD10_numeric','ICD10']] #removed labels\n",
    "\n",
    "assembler = VectorAssembler(inputCols=no_label_pca_cols, outputCol='features' )\n",
    "vector_df = assembler.transform(pndf.na.fill(-1.0)) #pndf.na.drop()\n",
    "vector_df.head()"
   ]
  },
  {
   "cell_type": "code",
   "execution_count": 10,
   "metadata": {
    "collapsed": false
   },
   "outputs": [
    {
     "data": {
      "text/plain": [
       "['Birth_Year',\n",
       " 'Birth_Month',\n",
       " 'Time_of_Birth',\n",
       " 'Birth_DOW',\n",
       " 'Birth_Place',\n",
       " 'Facility_Recode',\n",
       " 'Mothers_Age_Recode',\n",
       " 'Mothers_Nativity',\n",
       " 'Residence_Status',\n",
       " 'Mothers_Race',\n",
       " 'Bridge_Race_Mother',\n",
       " 'Mothers_Hispanic_Origin_Recode',\n",
       " 'Paternity_Ack',\n",
       " 'Marital_Status',\n",
       " 'Mothers_Education',\n",
       " 'Fathers_Age',\n",
       " 'Fathers_Age_Recode',\n",
       " 'Fathers_Race_Recode',\n",
       " 'Bridge_Race_Father',\n",
       " 'Fathers_Hispanic_Origin_Recode',\n",
       " 'Fathers_Education',\n",
       " 'Prior_Births_Living',\n",
       " 'Prior_Births_Dead',\n",
       " 'Prior_Other_Terminations',\n",
       " 'Live_Birth_Order_Recode',\n",
       " 'Total_Birth_Order_Recode',\n",
       " 'Interval_Last_Live_Birth_Recode',\n",
       " 'Interval_Last_Live_Birth_Recode11',\n",
       " 'Interval_Last_Other_Pregnancy_Recode',\n",
       " 'Interval_Last_Other_Pregnancy_Recode11',\n",
       " 'Interval_Last_Pregnancy_Recode',\n",
       " 'Interval_Last_Pregnancy_Recode11',\n",
       " 'Num_Prenatal_Visits',\n",
       " 'Num_Prenatal_Visits_Recode',\n",
       " 'Cigarettes_Before_Pregnancy',\n",
       " 'Cigarettes_1st_Trimester',\n",
       " 'Cigarettes_2nd_Trimester',\n",
       " 'Cigarettes_3rd_Trimester',\n",
       " 'Cigarettes_Before_Pregnancy_Recode',\n",
       " 'Cigarettes_1st_Trimester_Recode',\n",
       " 'Cigarettes_2nd_Trimester_Recode',\n",
       " 'Cigarettes_3rd_Trimester_Recode',\n",
       " 'Mothers_Height_Inches',\n",
       " 'BMI_Recode',\n",
       " 'Pre_Pregnancy_Weight_Recode',\n",
       " 'Delivery_Weight_Recode',\n",
       " 'Weight_Gain',\n",
       " 'Weight_Gain_Recode',\n",
       " 'Num_Prev_Cesareans',\n",
       " 'Fetal_Presentation',\n",
       " 'Final_Route_and_Method_Of_Delivery',\n",
       " 'Trail_Of_Labor_Attempted',\n",
       " 'Delivery_Method_Recode',\n",
       " 'No_Maternal_Morbidity_Checked',\n",
       " 'Attendant',\n",
       " 'Payment_Source',\n",
       " 'Payment_Recode',\n",
       " 'Five_Minute_APGAR_Score',\n",
       " 'Five_Minute_APGAR_Recode',\n",
       " 'Ten_Minute_APGAR_Score',\n",
       " 'Ten_Minute_APGAR_Recode',\n",
       " 'Plurality',\n",
       " 'Last_Normal_Menses_Month',\n",
       " 'Last_Normal_Menses_Year',\n",
       " 'Obstetric_Estimate_of_Gestation_Used_Flag',\n",
       " 'Combined_Gestation_Detail_in_Weeks',\n",
       " 'Combined_Gestation_Recode_Weeks',\n",
       " 'Birth_Weight_Recode_14',\n",
       " 'Birth_Weight_Recode_4',\n",
       " 'Imputed_Birthwieght',\n",
       " 'No_Abnormal_Conditions_Checked',\n",
       " 'No_Congenital_Anomalies_Checked',\n",
       " 'Diabetes',\n",
       " 'Chronic_Hypertension',\n",
       " 'Prepregnacy_Associated_Hypertension',\n",
       " 'Eclampsia',\n",
       " 'Forceps',\n",
       " 'Vacuum',\n",
       " 'Induction_of_Labor1',\n",
       " 'Breech1',\n",
       " 'Spina_Bifida_Meningocele1',\n",
       " 'Omphalocele_Gastroschisis1',\n",
       " 'Cleft_Lip_Palate1',\n",
       " 'Diaphragmatic_Herni1a',\n",
       " 'Down_Syndrome1',\n",
       " 'Age_at_Death_in_Days',\n",
       " 'Infant_age_recode_5',\n",
       " 'Infant_age_recode_22',\n",
       " 'Manner_of_Death',\n",
       " 'Place_of_injury_for_causes_W00_Y34_except_Y06',\n",
       " 'Day_of_Week_of_Death',\n",
       " 'Data_Year',\n",
       " 'Month_of_Death',\n",
       " 'id',\n",
       " 'Cleft_Palate_alone_numeric',\n",
       " 'Infant_Being_Breastfed_numeric',\n",
       " 'Syphillis_numeric',\n",
       " 'Chlamydia_numeric',\n",
       " 'Pre_Pregnancy_Hypertension_numeric',\n",
       " 'Omphalocele_numeric',\n",
       " 'Mother_Transferred_numeric',\n",
       " 'No_Risk_Factors_Checked_numeric',\n",
       " 'Anesthesia_Mother_numeric',\n",
       " 'Unplanned_Hysterectomy_numeric',\n",
       " 'No_Labor_Checked_numeric',\n",
       " 'Prev_Cesareans_numeric',\n",
       " 'Sex_Of_Infant_numeric',\n",
       " 'Antibiotics_numeric',\n",
       " 'Antibiotics_Mother_numeric',\n",
       " 'Gastroschisis_numeric',\n",
       " 'HepatitisC_numeric',\n",
       " 'Surfactant_numeric',\n",
       " 'Meningomyelocele_or_Spina_Bifida_numeric',\n",
       " 'Induction_Of_Labor_numeric',\n",
       " 'Ruptured_Uterus_numeric',\n",
       " 'Perineal_Laceration_numeric',\n",
       " 'Seizures_numeric',\n",
       " 'Congenital_Diaphragmatic_Hernia_numeric',\n",
       " 'Limb_Reduction_Defect_numeric',\n",
       " 'Assistive_Reproductive_Technology_numeric',\n",
       " 'Hypertension_Eclmapsia_numeric',\n",
       " 'Fertility_Enhancing_Drugs_numeric',\n",
       " 'Steroids_Mother_numeric',\n",
       " 'Assisted_Ventilation_numeric',\n",
       " 'Maternal_Transfusion_numeric',\n",
       " 'Admission_to_NICU_numeric',\n",
       " 'Previous_Preterm_Birth_numeric',\n",
       " 'Cleft_Lip_w_or_wo_Cleft_Palate_numeric',\n",
       " 'Sucessful_External_Cephalic_Version_numeric',\n",
       " 'Gonorrhea_numeric',\n",
       " 'Hypospadias_numeric',\n",
       " 'Infant_Living_numeric',\n",
       " 'Suspected_Chromosomal_Disorder_numeric',\n",
       " 'Gestational_Diabetes_numeric',\n",
       " 'Gestational_Hypertension_numeric',\n",
       " 'Cyanotic_Congenital_Heart_Disease_numeric',\n",
       " 'ICD10_numeric',\n",
       " 'Anencephaly_numeric',\n",
       " 'Failed_External_Cephalic_Version_numeric',\n",
       " 'HepatitisB_numeric',\n",
       " 'Admit_to_Intensive_Care_numeric',\n",
       " 'Pre_Pregnancy_Diabetes_numeric',\n",
       " 'Augmentation_Of_Labor_numeric',\n",
       " 'No_Infections_Checked_numeric',\n",
       " 'Assisted_Ventilation_Greater_Than_6_Hours_numeric',\n",
       " 'Infant_Living_at_Time_of_Report_numeric',\n",
       " 'Chorioamnionitis_Mother_numeric',\n",
       " 'Infertility_Treatment_numeric',\n",
       " 'label']"
      ]
     },
     "execution_count": 10,
     "metadata": {},
     "output_type": "execute_result"
    }
   ],
   "source": [
    "pca_cols"
   ]
  },
  {
   "cell_type": "code",
   "execution_count": null,
   "metadata": {
    "collapsed": true
   },
   "outputs": [],
   "source": []
  },
  {
   "cell_type": "markdown",
   "metadata": {},
   "source": [
    "### Scaling and Normalization"
   ]
  },
  {
   "cell_type": "code",
   "execution_count": 11,
   "metadata": {
    "collapsed": false
   },
   "outputs": [
    {
     "data": {
      "text/plain": [
       "Row(Birth_Year=2014, Birth_Month=6, Time_of_Birth=1436, Birth_DOW=4, Birth_Place=1, Facility_Recode=1, Mothers_Age_Recode=23, Mothers_Nativity=1, Residence_Status=1, Mothers_Race=2, Bridge_Race_Mother=2, Mothers_Hispanic_Origin_Recode=0, Paternity_Ack=-1, Marital_Status=1, Mothers_Education=4, Fathers_Age=24, Fathers_Age_Recode=3, Fathers_Race_Recode=2, Bridge_Race_Father=2, Fathers_Hispanic_Origin_Recode=0, Fathers_Education=3, Prior_Births_Living=2, Prior_Births_Dead=0, Prior_Other_Terminations=0, Live_Birth_Order_Recode=3, Total_Birth_Order_Recode=3, Interval_Last_Live_Birth_Recode=15, Interval_Last_Live_Birth_Recode11=2, Interval_Last_Other_Pregnancy_Recode=888, Interval_Last_Other_Pregnancy_Recode11=88, Interval_Last_Pregnancy_Recode=15, Interval_Last_Pregnancy_Recode11=2, Num_Prenatal_Visits=12, Num_Prenatal_Visits_Recode=7, Cigarettes_Before_Pregnancy=0, Cigarettes_1st_Trimester=0, Cigarettes_2nd_Trimester=0, Cigarettes_3rd_Trimester=0, Cigarettes_Before_Pregnancy_Recode=0, Cigarettes_1st_Trimester_Recode=0, Cigarettes_2nd_Trimester_Recode=0, Cigarettes_3rd_Trimester_Recode=0, Mothers_Height_Inches=62, BMI_Recode=1, Pre_Pregnancy_Weight_Recode=98, Delivery_Weight_Recode=112, Weight_Gain=14, Weight_Gain_Recode=2, Pre_Pregnancy_Diabetes='N', Gestational_Diabetes='N', Pre_Pregnancy_Hypertension='N', Gestational_Hypertension='N', Hypertension_Eclmapsia='N', Previous_Preterm_Birth='N', Infertility_Treatment='N', Fertility_Enhancing_Drugs='X', Assistive_Reproductive_Technology='X', Prev_Cesareans='N', Num_Prev_Cesareans=0, No_Risk_Factors_Checked='1', Gonorrhea='N', Syphillis='N', Chlamydia='N', HepatitisB='N', HepatitisC='N', No_Infections_Checked='1', Sucessful_External_Cephalic_Version='N', Failed_External_Cephalic_Version='N', Induction_Of_Labor='N', Augmentation_Of_Labor='N', Steroids_Mother='N', Antibiotics_Mother='N', Chorioamnionitis_Mother='N', Anesthesia_Mother='N', No_Labor_Checked='0', Fetal_Presentation=1, Final_Route_and_Method_Of_Delivery=1, Trail_Of_Labor_Attempted=-1, Delivery_Method_Recode=1, Maternal_Transfusion='N', Perineal_Laceration='N', Ruptured_Uterus='N', Unplanned_Hysterectomy='N', Admit_to_Intensive_Care='N', No_Maternal_Morbidity_Checked=1, Attendant=2, Mother_Transferred='N', Payment_Source=1, Payment_Recode=1, Five_Minute_APGAR_Score=9, Five_Minute_APGAR_Recode=4, Ten_Minute_APGAR_Score=88, Ten_Minute_APGAR_Recode=5, Plurality=1, Sex_Of_Infant='F', Last_Normal_Menses_Month=9, Last_Normal_Menses_Year=2013, Obstetric_Estimate_of_Gestation_Used_Flag=-1, Combined_Gestation_Detail_in_Weeks=39, Combined_Gestation_Recode_Weeks=0, Birth_Weight_Recode_14=8, Birth_Weight_Recode_4=3, Imputed_Birthwieght=2835, Assisted_Ventilation='N', Assisted_Ventilation_Greater_Than_6_Hours='N', Admission_to_NICU='N', Surfactant='N', Antibiotics='N', Seizures='N', No_Abnormal_Conditions_Checked=1, Anencephaly='N', Meningomyelocele_or_Spina_Bifida='N', Cyanotic_Congenital_Heart_Disease='N', Congenital_Diaphragmatic_Hernia='N', Omphalocele='N', Gastroschisis='N', Limb_Reduction_Defect='N', Cleft_Lip_w_or_wo_Cleft_Palate='N', Cleft_Palate_alone='N', Suspected_Chromosomal_Disorder='N', Hypospadias='N', No_Congenital_Anomalies_Checked=1, Infant_Living_at_Time_of_Report='Y', Infant_Being_Breastfed='Y', Diabetes=2, Chronic_Hypertension=2, Prepregnacy_Associated_Hypertension=2, Eclampsia=2, Forceps=2, Vacuum=2, Induction_of_Labor1=2, Breech1=2, Spina_Bifida_Meningocele1=2, Omphalocele_Gastroschisis1=2, Cleft_Lip_Palate1=2, Diaphragmatic_Herni1a=2, Down_Syndrome1=2, Age_at_Death_in_Days=-1, Infant_age_recode_5=-1, Infant_age_recode_22=-1, Manner_of_Death=-1, Place_of_injury_for_causes_W00_Y34_except_Y06=-1, ICD10='', Day_of_Week_of_Death=-1, Data_Year=-1, Month_of_Death=-1, id=0, Infant_Living='Y', Cleft_Palate_alone_numeric=0.0, Infant_Being_Breastfed_numeric=0.0, Syphillis_numeric=0.0, Chlamydia_numeric=0.0, Pre_Pregnancy_Hypertension_numeric=0.0, Omphalocele_numeric=0.0, Mother_Transferred_numeric=0.0, No_Risk_Factors_Checked_numeric=0.0, Anesthesia_Mother_numeric=0.0, Unplanned_Hysterectomy_numeric=0.0, No_Labor_Checked_numeric=0.0, Prev_Cesareans_numeric=0.0, Sex_Of_Infant_numeric=1.0, Antibiotics_numeric=0.0, Antibiotics_Mother_numeric=0.0, Gastroschisis_numeric=0.0, HepatitisC_numeric=0.0, Surfactant_numeric=0.0, Meningomyelocele_or_Spina_Bifida_numeric=0.0, Induction_Of_Labor_numeric=0.0, Ruptured_Uterus_numeric=0.0, Perineal_Laceration_numeric=0.0, Seizures_numeric=0.0, Congenital_Diaphragmatic_Hernia_numeric=0.0, Limb_Reduction_Defect_numeric=0.0, Assistive_Reproductive_Technology_numeric=0.0, Hypertension_Eclmapsia_numeric=0.0, Fertility_Enhancing_Drugs_numeric=0.0, Steroids_Mother_numeric=0.0, Assisted_Ventilation_numeric=0.0, Maternal_Transfusion_numeric=0.0, Admission_to_NICU_numeric=0.0, Previous_Preterm_Birth_numeric=0.0, Cleft_Lip_w_or_wo_Cleft_Palate_numeric=0.0, Sucessful_External_Cephalic_Version_numeric=0.0, Gonorrhea_numeric=0.0, Hypospadias_numeric=0.0, Infant_Living_numeric=0.0, Suspected_Chromosomal_Disorder_numeric=0.0, Gestational_Diabetes_numeric=0.0, Gestational_Hypertension_numeric=0.0, Cyanotic_Congenital_Heart_Disease_numeric=0.0, ICD10_numeric=0.0, Anencephaly_numeric=0.0, Failed_External_Cephalic_Version_numeric=0.0, HepatitisB_numeric=0.0, Admit_to_Intensive_Care_numeric=0.0, Pre_Pregnancy_Diabetes_numeric=0.0, Augmentation_Of_Labor_numeric=0.0, No_Infections_Checked_numeric=0.0, Assisted_Ventilation_Greater_Than_6_Hours_numeric=0.0, Infant_Living_at_Time_of_Report_numeric=0.0, Chorioamnionitis_Mother_numeric=0.0, Infertility_Treatment_numeric=0.0, label=0.0, features=SparseVector(145, {0: 2014.0, 1: 6.0, 2: 1436.0, 3: 4.0, 4: 1.0, 5: 1.0, 6: 23.0, 7: 1.0, 8: 1.0, 9: 2.0, 10: 2.0, 12: -1.0, 13: 1.0, 14: 4.0, 15: 24.0, 16: 3.0, 17: 2.0, 18: 2.0, 20: 3.0, 21: 2.0, 24: 3.0, 25: 3.0, 26: 15.0, 27: 2.0, 28: 888.0, 29: 88.0, 30: 15.0, 31: 2.0, 32: 12.0, 33: 7.0, 42: 62.0, 43: 1.0, 44: 98.0, 45: 112.0, 46: 14.0, 47: 2.0, 49: 1.0, 50: 1.0, 51: -1.0, 52: 1.0, 53: 1.0, 54: 2.0, 55: 1.0, 56: 1.0, 57: 9.0, 58: 4.0, 59: 88.0, 60: 5.0, 61: 1.0, 62: 9.0, 63: 2013.0, 64: -1.0, 65: 39.0, 67: 8.0, 68: 3.0, 69: 2835.0, 70: 1.0, 71: 1.0, 72: 2.0, 73: 2.0, 74: 2.0, 75: 2.0, 76: 2.0, 77: 2.0, 78: 2.0, 79: 2.0, 80: 2.0, 81: 2.0, 82: 2.0, 83: 2.0, 84: 2.0, 85: -1.0, 86: -1.0, 87: -1.0, 88: -1.0, 89: -1.0, 90: -1.0, 91: -1.0, 92: -1.0, 106: 1.0}), scaledFeatures=SparseVector(145, {0: 78041.6398, 1: 1.7535, 2: 2.1496, 3: 2.1654, 4: 2.0679, 5: 8.0667, 6: 3.9007, 7: 2.3416, 8: 1.9119, 9: 1.1182, 10: 2.4153, 12: -0.0, 13: 2.0379, 14: 1.9811, 15: 0.9904, 16: 1.2414, 17: 0.053, 18: 0.6535, 20: 1.1679, 21: 0.3424, 24: 2.2184, 25: 1.7155, 26: 0.0356, 27: 0.048, 28: 2.5955, 29: 2.5868, 30: 0.0343, 31: 0.0463, 32: 0.7905, 33: 3.3962, 42: 4.6705, 43: 0.5581, 44: 0.6322, 45: 0.8122, 46: 0.6855, 47: 1.1933, 49: 0.7769, 50: 0.6688, 51: -0.0, 52: 0.789, 53: 1.7527, 54: 2.7399, 55: 0.6806, 56: 0.8871, 57: 1.4875, 58: 8.1905, 59: 4.6137, 60: 4.3155, 61: 5.0845, 62: 0.453, 63: 1.2224, 64: -2.2545, 65: 12.2224, 67: 5.9351, 68: 8.4485, 69: 4.5734, 70: 1.6154, 71: 1.7323, 72: 5.111, 73: 6.0585, 74: 5.3011, 75: 6.4725, 76: 8.8178, 77: 7.4711, 78: 4.1372, 79: 1.8636, 80: 5.0835, 81: 5.0791, 82: 5.0727, 83: 5.0833, 84: 5.0771, 85: -0.1561, 86: -2.9582, 87: -1.297, 88: -1.8831, 89: -13.4741, 90: -2.4348, 91: -0.0065, 92: -9.9681, 106: 2.0006}))"
      ]
     },
     "execution_count": 11,
     "metadata": {},
     "output_type": "execute_result"
    }
   ],
   "source": [
    "from pyspark.ml.feature import StandardScaler\n",
    "scaler = StandardScaler(inputCol='features', \n",
    "                        outputCol='scaledFeatures', withMean=False, withStd=True) # TODO: should withMean be True??\n",
    "scaled_df = scaler.fit(vector_df).transform(vector_df)\n",
    "scaled_df.head()"
   ]
  },
  {
   "cell_type": "code",
   "execution_count": 12,
   "metadata": {
    "collapsed": false
   },
   "outputs": [
    {
     "data": {
      "text/plain": [
       "Row(Birth_Year=2014, Birth_Month=6, Time_of_Birth=1436, Birth_DOW=4, Birth_Place=1, Facility_Recode=1, Mothers_Age_Recode=23, Mothers_Nativity=1, Residence_Status=1, Mothers_Race=2, Bridge_Race_Mother=2, Mothers_Hispanic_Origin_Recode=0, Paternity_Ack=-1, Marital_Status=1, Mothers_Education=4, Fathers_Age=24, Fathers_Age_Recode=3, Fathers_Race_Recode=2, Bridge_Race_Father=2, Fathers_Hispanic_Origin_Recode=0, Fathers_Education=3, Prior_Births_Living=2, Prior_Births_Dead=0, Prior_Other_Terminations=0, Live_Birth_Order_Recode=3, Total_Birth_Order_Recode=3, Interval_Last_Live_Birth_Recode=15, Interval_Last_Live_Birth_Recode11=2, Interval_Last_Other_Pregnancy_Recode=888, Interval_Last_Other_Pregnancy_Recode11=88, Interval_Last_Pregnancy_Recode=15, Interval_Last_Pregnancy_Recode11=2, Num_Prenatal_Visits=12, Num_Prenatal_Visits_Recode=7, Cigarettes_Before_Pregnancy=0, Cigarettes_1st_Trimester=0, Cigarettes_2nd_Trimester=0, Cigarettes_3rd_Trimester=0, Cigarettes_Before_Pregnancy_Recode=0, Cigarettes_1st_Trimester_Recode=0, Cigarettes_2nd_Trimester_Recode=0, Cigarettes_3rd_Trimester_Recode=0, Mothers_Height_Inches=62, BMI_Recode=1, Pre_Pregnancy_Weight_Recode=98, Delivery_Weight_Recode=112, Weight_Gain=14, Weight_Gain_Recode=2, Pre_Pregnancy_Diabetes='N', Gestational_Diabetes='N', Pre_Pregnancy_Hypertension='N', Gestational_Hypertension='N', Hypertension_Eclmapsia='N', Previous_Preterm_Birth='N', Infertility_Treatment='N', Fertility_Enhancing_Drugs='X', Assistive_Reproductive_Technology='X', Prev_Cesareans='N', Num_Prev_Cesareans=0, No_Risk_Factors_Checked='1', Gonorrhea='N', Syphillis='N', Chlamydia='N', HepatitisB='N', HepatitisC='N', No_Infections_Checked='1', Sucessful_External_Cephalic_Version='N', Failed_External_Cephalic_Version='N', Induction_Of_Labor='N', Augmentation_Of_Labor='N', Steroids_Mother='N', Antibiotics_Mother='N', Chorioamnionitis_Mother='N', Anesthesia_Mother='N', No_Labor_Checked='0', Fetal_Presentation=1, Final_Route_and_Method_Of_Delivery=1, Trail_Of_Labor_Attempted=-1, Delivery_Method_Recode=1, Maternal_Transfusion='N', Perineal_Laceration='N', Ruptured_Uterus='N', Unplanned_Hysterectomy='N', Admit_to_Intensive_Care='N', No_Maternal_Morbidity_Checked=1, Attendant=2, Mother_Transferred='N', Payment_Source=1, Payment_Recode=1, Five_Minute_APGAR_Score=9, Five_Minute_APGAR_Recode=4, Ten_Minute_APGAR_Score=88, Ten_Minute_APGAR_Recode=5, Plurality=1, Sex_Of_Infant='F', Last_Normal_Menses_Month=9, Last_Normal_Menses_Year=2013, Obstetric_Estimate_of_Gestation_Used_Flag=-1, Combined_Gestation_Detail_in_Weeks=39, Combined_Gestation_Recode_Weeks=0, Birth_Weight_Recode_14=8, Birth_Weight_Recode_4=3, Imputed_Birthwieght=2835, Assisted_Ventilation='N', Assisted_Ventilation_Greater_Than_6_Hours='N', Admission_to_NICU='N', Surfactant='N', Antibiotics='N', Seizures='N', No_Abnormal_Conditions_Checked=1, Anencephaly='N', Meningomyelocele_or_Spina_Bifida='N', Cyanotic_Congenital_Heart_Disease='N', Congenital_Diaphragmatic_Hernia='N', Omphalocele='N', Gastroschisis='N', Limb_Reduction_Defect='N', Cleft_Lip_w_or_wo_Cleft_Palate='N', Cleft_Palate_alone='N', Suspected_Chromosomal_Disorder='N', Hypospadias='N', No_Congenital_Anomalies_Checked=1, Infant_Living_at_Time_of_Report='Y', Infant_Being_Breastfed='Y', Diabetes=2, Chronic_Hypertension=2, Prepregnacy_Associated_Hypertension=2, Eclampsia=2, Forceps=2, Vacuum=2, Induction_of_Labor1=2, Breech1=2, Spina_Bifida_Meningocele1=2, Omphalocele_Gastroschisis1=2, Cleft_Lip_Palate1=2, Diaphragmatic_Herni1a=2, Down_Syndrome1=2, Age_at_Death_in_Days=-1, Infant_age_recode_5=-1, Infant_age_recode_22=-1, Manner_of_Death=-1, Place_of_injury_for_causes_W00_Y34_except_Y06=-1, ICD10='', Day_of_Week_of_Death=-1, Data_Year=-1, Month_of_Death=-1, id=0, Infant_Living='Y', Cleft_Palate_alone_numeric=0.0, Infant_Being_Breastfed_numeric=0.0, Syphillis_numeric=0.0, Chlamydia_numeric=0.0, Pre_Pregnancy_Hypertension_numeric=0.0, Omphalocele_numeric=0.0, Mother_Transferred_numeric=0.0, No_Risk_Factors_Checked_numeric=0.0, Anesthesia_Mother_numeric=0.0, Unplanned_Hysterectomy_numeric=0.0, No_Labor_Checked_numeric=0.0, Prev_Cesareans_numeric=0.0, Sex_Of_Infant_numeric=1.0, Antibiotics_numeric=0.0, Antibiotics_Mother_numeric=0.0, Gastroschisis_numeric=0.0, HepatitisC_numeric=0.0, Surfactant_numeric=0.0, Meningomyelocele_or_Spina_Bifida_numeric=0.0, Induction_Of_Labor_numeric=0.0, Ruptured_Uterus_numeric=0.0, Perineal_Laceration_numeric=0.0, Seizures_numeric=0.0, Congenital_Diaphragmatic_Hernia_numeric=0.0, Limb_Reduction_Defect_numeric=0.0, Assistive_Reproductive_Technology_numeric=0.0, Hypertension_Eclmapsia_numeric=0.0, Fertility_Enhancing_Drugs_numeric=0.0, Steroids_Mother_numeric=0.0, Assisted_Ventilation_numeric=0.0, Maternal_Transfusion_numeric=0.0, Admission_to_NICU_numeric=0.0, Previous_Preterm_Birth_numeric=0.0, Cleft_Lip_w_or_wo_Cleft_Palate_numeric=0.0, Sucessful_External_Cephalic_Version_numeric=0.0, Gonorrhea_numeric=0.0, Hypospadias_numeric=0.0, Infant_Living_numeric=0.0, Suspected_Chromosomal_Disorder_numeric=0.0, Gestational_Diabetes_numeric=0.0, Gestational_Hypertension_numeric=0.0, Cyanotic_Congenital_Heart_Disease_numeric=0.0, ICD10_numeric=0.0, Anencephaly_numeric=0.0, Failed_External_Cephalic_Version_numeric=0.0, HepatitisB_numeric=0.0, Admit_to_Intensive_Care_numeric=0.0, Pre_Pregnancy_Diabetes_numeric=0.0, Augmentation_Of_Labor_numeric=0.0, No_Infections_Checked_numeric=0.0, Assisted_Ventilation_Greater_Than_6_Hours_numeric=0.0, Infant_Living_at_Time_of_Report_numeric=0.0, Chorioamnionitis_Mother_numeric=0.0, Infertility_Treatment_numeric=0.0, label=0.0, features=SparseVector(145, {0: 2014.0, 1: 6.0, 2: 1436.0, 3: 4.0, 4: 1.0, 5: 1.0, 6: 23.0, 7: 1.0, 8: 1.0, 9: 2.0, 10: 2.0, 12: -1.0, 13: 1.0, 14: 4.0, 15: 24.0, 16: 3.0, 17: 2.0, 18: 2.0, 20: 3.0, 21: 2.0, 24: 3.0, 25: 3.0, 26: 15.0, 27: 2.0, 28: 888.0, 29: 88.0, 30: 15.0, 31: 2.0, 32: 12.0, 33: 7.0, 42: 62.0, 43: 1.0, 44: 98.0, 45: 112.0, 46: 14.0, 47: 2.0, 49: 1.0, 50: 1.0, 51: -1.0, 52: 1.0, 53: 1.0, 54: 2.0, 55: 1.0, 56: 1.0, 57: 9.0, 58: 4.0, 59: 88.0, 60: 5.0, 61: 1.0, 62: 9.0, 63: 2013.0, 64: -1.0, 65: 39.0, 67: 8.0, 68: 3.0, 69: 2835.0, 70: 1.0, 71: 1.0, 72: 2.0, 73: 2.0, 74: 2.0, 75: 2.0, 76: 2.0, 77: 2.0, 78: 2.0, 79: 2.0, 80: 2.0, 81: 2.0, 82: 2.0, 83: 2.0, 84: 2.0, 85: -1.0, 86: -1.0, 87: -1.0, 88: -1.0, 89: -1.0, 90: -1.0, 91: -1.0, 92: -1.0, 106: 1.0}), scaledFeatures=SparseVector(145, {0: 78041.6398, 1: 1.7535, 2: 2.1496, 3: 2.1654, 4: 2.0679, 5: 8.0667, 6: 3.9007, 7: 2.3416, 8: 1.9119, 9: 1.1182, 10: 2.4153, 12: -0.0, 13: 2.0379, 14: 1.9811, 15: 0.9904, 16: 1.2414, 17: 0.053, 18: 0.6535, 20: 1.1679, 21: 0.3424, 24: 2.2184, 25: 1.7155, 26: 0.0356, 27: 0.048, 28: 2.5955, 29: 2.5868, 30: 0.0343, 31: 0.0463, 32: 0.7905, 33: 3.3962, 42: 4.6705, 43: 0.5581, 44: 0.6322, 45: 0.8122, 46: 0.6855, 47: 1.1933, 49: 0.7769, 50: 0.6688, 51: -0.0, 52: 0.789, 53: 1.7527, 54: 2.7399, 55: 0.6806, 56: 0.8871, 57: 1.4875, 58: 8.1905, 59: 4.6137, 60: 4.3155, 61: 5.0845, 62: 0.453, 63: 1.2224, 64: -2.2545, 65: 12.2224, 67: 5.9351, 68: 8.4485, 69: 4.5734, 70: 1.6154, 71: 1.7323, 72: 5.111, 73: 6.0585, 74: 5.3011, 75: 6.4725, 76: 8.8178, 77: 7.4711, 78: 4.1372, 79: 1.8636, 80: 5.0835, 81: 5.0791, 82: 5.0727, 83: 5.0833, 84: 5.0771, 85: -0.1561, 86: -2.9582, 87: -1.297, 88: -1.8831, 89: -13.4741, 90: -2.4348, 91: -0.0065, 92: -9.9681, 106: 2.0006}), normalizeFeatures=SparseVector(145, {0: 0.997, 1: 0.0, 2: 0.0, 3: 0.0, 4: 0.0, 5: 0.0001, 6: 0.0, 7: 0.0, 8: 0.0, 9: 0.0, 10: 0.0, 12: -0.0, 13: 0.0, 14: 0.0, 15: 0.0, 16: 0.0, 17: 0.0, 18: 0.0, 20: 0.0, 21: 0.0, 24: 0.0, 25: 0.0, 26: 0.0, 27: 0.0, 28: 0.0, 29: 0.0, 30: 0.0, 31: 0.0, 32: 0.0, 33: 0.0, 42: 0.0001, 43: 0.0, 44: 0.0, 45: 0.0, 46: 0.0, 47: 0.0, 49: 0.0, 50: 0.0, 51: -0.0, 52: 0.0, 53: 0.0, 54: 0.0, 55: 0.0, 56: 0.0, 57: 0.0, 58: 0.0001, 59: 0.0001, 60: 0.0001, 61: 0.0001, 62: 0.0, 63: 0.0, 64: -0.0, 65: 0.0002, 67: 0.0001, 68: 0.0001, 69: 0.0001, 70: 0.0, 71: 0.0, 72: 0.0001, 73: 0.0001, 74: 0.0001, 75: 0.0001, 76: 0.0001, 77: 0.0001, 78: 0.0001, 79: 0.0, 80: 0.0001, 81: 0.0001, 82: 0.0001, 83: 0.0001, 84: 0.0001, 85: -0.0, 86: -0.0, 87: -0.0, 88: -0.0, 89: -0.0002, 90: -0.0, 91: -0.0, 92: -0.0001, 106: 0.0}))"
      ]
     },
     "execution_count": 12,
     "metadata": {},
     "output_type": "execute_result"
    }
   ],
   "source": [
    "from pyspark.ml.feature import Normalizer\n",
    "nrmlzer = Normalizer(inputCol='scaledFeatures', outputCol='normalizeFeatures', p=1.0)\n",
    "l1Normalized = nrmlzer.transform(scaled_df)\n",
    "l1Normalized.head()"
   ]
  },
  {
   "cell_type": "markdown",
   "metadata": {},
   "source": [
    "### Dimensionality Reduction: PCA"
   ]
  },
  {
   "cell_type": "code",
   "execution_count": 13,
   "metadata": {
    "collapsed": false,
    "scrolled": false
   },
   "outputs": [
    {
     "name": "stdout",
     "output_type": "stream",
     "text": [
      "+--------------------+\n",
      "|        features_pca|\n",
      "+--------------------+\n",
      "|[-0.9895561699049...|\n",
      "|[-0.9893376823447...|\n",
      "|[-0.9892376040348...|\n",
      "|[-0.9895018011174...|\n",
      "|[-0.9894338626113...|\n",
      "|[-0.9894029379166...|\n",
      "|[-0.9895225345531...|\n",
      "|[-0.9895338754910...|\n",
      "|[-0.9895059581080...|\n",
      "|[-0.9894231522579...|\n",
      "|[-0.9893571992073...|\n",
      "|[-0.9892523148937...|\n",
      "|[-0.9888961676490...|\n",
      "|[-0.9895454897051...|\n",
      "|[-0.9888745821064...|\n",
      "|[-0.9893845315502...|\n",
      "|[-0.9895759921387...|\n",
      "|[-0.9894245420701...|\n",
      "|[-0.9889613683667...|\n",
      "|[-0.9893966045534...|\n",
      "+--------------------+\n",
      "only showing top 20 rows\n",
      "\n"
     ]
    }
   ],
   "source": [
    "from pyspark.ml.feature import PCA\n",
    "num_principal_comp = 50\n",
    "pca = PCA(k=num_principal_comp, inputCol='normalizeFeatures', outputCol='features_pca')\n",
    "pca_model = pca.fit(l1Normalized)\n",
    "pca_feat = pca_model.transform(l1Normalized)#.select('features_pca') #need the entire set of columns\n",
    "#pca_feat.show(truncate=True)\n",
    "pca_feat.select('features_pca').show()"
   ]
  },
  {
   "cell_type": "code",
   "execution_count": 14,
   "metadata": {
    "collapsed": true
   },
   "outputs": [],
   "source": [
    "### Machine Learning\n"
   ]
  },
  {
   "cell_type": "code",
   "execution_count": 15,
   "metadata": {
    "collapsed": false
   },
   "outputs": [
    {
     "name": "stdout",
     "output_type": "stream",
     "text": [
      "4021418\n"
     ]
    }
   ],
   "source": [
    "#ML\n",
    "from pyspark.ml import Pipeline\n",
    "from pyspark.ml.classification import GBTClassifier\n",
    "\n",
    "\n",
    "classifier = GBTClassifier(labelCol=\"label\", featuresCol=\"features\", maxIter=10)\n",
    "#LogisticRegression(maxIter=10, regParam=0.3, elasticNetParam=0.8)\n",
    "\n",
    "#DecisionTreeClassifier(labelCol = 'label', featuresCol = 'features')\n",
    "#indexers.append(assembler)\n",
    "#indexers.append(classifier)\n",
    "pipeline = Pipeline(stages=[classifier])\n",
    "\n",
    "#t1 = vector_df.sample(True, 0.2, 42)\n",
    "\n",
    "(train, test) = pca_feat.randomSplit([0.7, 0.3])\n",
    "model = pipeline.fit(train)\n",
    "print(pca_feat.count())"
   ]
  },
  {
   "cell_type": "code",
   "execution_count": 16,
   "metadata": {
    "collapsed": false
   },
   "outputs": [
    {
     "data": {
      "text/plain": [
       "'from pyspark.ml.tuning import CrossValidator, ParamGridBuilder\\nfrom pyspark.ml.evaluation import MulticlassClassificationEvaluator\\nparamGrid = ParamGridBuilder()     .addGrid(classifier.maxIter, [5, 10, 15])     .build()\\n\\ncrossval = CrossValidator(estimator=pipeline,\\n                          estimatorParamMaps=paramGrid,\\n                          evaluator=MulticlassClassificationEvaluator(),\\n                          numFolds=5)  # use 3+ folds in practice\\n\\n# Run cross-validation, and choose the best set of parameters.\\nmodel = crossval.fit(train)\\n'"
      ]
     },
     "execution_count": 16,
     "metadata": {},
     "output_type": "execute_result"
    }
   ],
   "source": [
    "# K-fold cross validation - uncomment to get best model params - very slow step here.\n",
    "\"\"\"from pyspark.ml.tuning import CrossValidator, ParamGridBuilder\n",
    "from pyspark.ml.evaluation import MulticlassClassificationEvaluator\n",
    "paramGrid = ParamGridBuilder() \\\n",
    "    .addGrid(classifier.maxIter, [5, 10, 15]) \\\n",
    "    .build()\n",
    "\n",
    "crossval = CrossValidator(estimator=pipeline,\n",
    "                          estimatorParamMaps=paramGrid,\n",
    "                          evaluator=MulticlassClassificationEvaluator(),\n",
    "                          numFolds=5)  # use 3+ folds in practice\n",
    "\n",
    "# Run cross-validation, and choose the best set of parameters.\n",
    "model = crossval.fit(train)\n",
    "\"\"\""
   ]
  },
  {
   "cell_type": "code",
   "execution_count": 17,
   "metadata": {
    "collapsed": false
   },
   "outputs": [
    {
     "name": "stdout",
     "output_type": "stream",
     "text": [
      "+-------------+\n",
      "|Infant_living|\n",
      "+-------------+\n",
      "|            Y|\n",
      "|            N|\n",
      "+-------------+\n",
      "\n"
     ]
    }
   ],
   "source": [
    "pca_feat.select('Infant_living').distinct().show()"
   ]
  },
  {
   "cell_type": "code",
   "execution_count": 18,
   "metadata": {
    "collapsed": false
   },
   "outputs": [
    {
     "data": {
      "text/plain": [
       "'The AUROC is 0.9999999999999999 and the AUPR is 1.0.'"
      ]
     },
     "execution_count": 18,
     "metadata": {},
     "output_type": "execute_result"
    }
   ],
   "source": [
    "# model evaluation\n",
    "from pyspark.ml.evaluation import BinaryClassificationEvaluator\n",
    "\n",
    "predictions = model.transform(test)\n",
    "evaluator = BinaryClassificationEvaluator()\n",
    "#print(predictions.show())\n",
    "auroc = evaluator.evaluate(predictions, {evaluator.metricName: \"areaUnderROC\"})\n",
    "aupr = evaluator.evaluate(predictions, {evaluator.metricName: \"areaUnderPR\"})\n",
    "\"The AUROC is %s and the AUPR is %s.\" % (auroc, aupr)"
   ]
  },
  {
   "cell_type": "code",
   "execution_count": 19,
   "metadata": {
    "collapsed": false
   },
   "outputs": [
    {
     "name": "stdout",
     "output_type": "stream",
     "text": [
      "+-----+\n",
      "|label|\n",
      "+-----+\n",
      "|  0.0|\n",
      "|  1.0|\n",
      "+-----+\n",
      "\n"
     ]
    }
   ],
   "source": [
    "pndf.select('label').distinct().show()"
   ]
  },
  {
   "cell_type": "code",
   "execution_count": 20,
   "metadata": {
    "collapsed": false
   },
   "outputs": [
    {
     "data": {
      "text/plain": [
       "4021418"
      ]
     },
     "execution_count": 20,
     "metadata": {},
     "output_type": "execute_result"
    }
   ],
   "source": [
    "vector_df.count()"
   ]
  },
  {
   "cell_type": "code",
   "execution_count": 21,
   "metadata": {
    "collapsed": false
   },
   "outputs": [
    {
     "data": {
      "text/plain": [
       "4021418"
      ]
     },
     "execution_count": 21,
     "metadata": {},
     "output_type": "execute_result"
    }
   ],
   "source": [
    "pndf.count()"
   ]
  },
  {
   "cell_type": "code",
   "execution_count": null,
   "metadata": {
    "collapsed": true
   },
   "outputs": [],
   "source": []
  }
 ],
 "metadata": {
  "anaconda-cloud": {},
  "kernelspec": {
   "display_name": "Python [default]",
   "language": "python",
   "name": "python3"
  },
  "language_info": {
   "codemirror_mode": {
    "name": "ipython",
    "version": 3
   },
   "file_extension": ".py",
   "mimetype": "text/x-python",
   "name": "python",
   "nbconvert_exporter": "python",
   "pygments_lexer": "ipython3",
   "version": "3.5.2"
  }
 },
 "nbformat": 4,
 "nbformat_minor": 1
}
