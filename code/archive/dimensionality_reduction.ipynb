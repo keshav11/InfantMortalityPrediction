{
 "cells": [
  {
   "cell_type": "markdown",
   "metadata": {
    "collapsed": true
   },
   "source": [
    "## CSE545-SDG3-Matrix\n"
   ]
  },
  {
   "cell_type": "code",
   "execution_count": 1,
   "metadata": {},
   "outputs": [],
   "source": [
    "import findspark\n",
    "findspark.init()\n",
    "import pyspark\n",
    "from pyspark.sql import SQLContext\n",
    "from pyspark.sql.types import *\n",
    "import numpy as np\n",
    "import pandas as pd\n",
    "import scipy\n",
    "import matplotlib.pyplot as plt\n",
    "import seaborn as sns\n",
    "from pyspark.sql.functions import *\n",
    "from pyspark.sql.window import *\n",
    "from pyspark.sql.types import *\n",
    "import os"
   ]
  },
  {
   "cell_type": "code",
   "execution_count": 2,
   "metadata": {},
   "outputs": [
    {
     "data": {
      "text/plain": [
       "'2.2.0'"
      ]
     },
     "execution_count": 2,
     "metadata": {},
     "output_type": "execute_result"
    }
   ],
   "source": [
    "sc = pyspark.SparkContext(appName=\"SDG3\")\n",
    "sqlCtx = SQLContext(sc)\n",
    "sc.version"
   ]
  },
  {
   "cell_type": "code",
   "execution_count": 3,
   "metadata": {},
   "outputs": [
    {
     "name": "stdout",
     "output_type": "stream",
     "text": [
      "../LinkPE14US/VS14LINK.USNUMPUB\n"
     ]
    },
    {
     "data": {
      "text/plain": [
       "DataFrame[value: string]"
      ]
     },
     "execution_count": 3,
     "metadata": {},
     "output_type": "execute_result"
    }
   ],
   "source": [
    "data_path = r'../LinkPE14US'\n",
    "print(os.path.join(data_path, \"VS14LINK.USNUMPUB\"))\n",
    "df = sqlCtx.read.text(os.path.join(data_path, \"VS14LINK.USNUMPUB\"))  #350 mb\n",
    "#df = sqlCtx.read.text(\"/VS14LINK.USDENPUB\") # 5gb\n",
    "#df = sqlCtx.read.text(\"/*.*PUB\") # both\n",
    "df"
   ]
  },
  {
   "cell_type": "code",
   "execution_count": 4,
   "metadata": {},
   "outputs": [],
   "source": [
    "def blank_as_null(x):\n",
    "    return when(col(x) != ' ', col(x)).otherwise(np.nan)"
   ]
  },
  {
   "cell_type": "code",
   "execution_count": 5,
   "metadata": {},
   "outputs": [],
   "source": [
    "# pandas data frame after adding column metadata\n",
    "#pndf type = pyspark.sql.dataframe.DataFrame\n",
    "pndf = df.select(\n",
    "    df.value.substr(9,4).cast(IntegerType()).alias('Birth_Year'),\n",
    "    df.value.substr(13,2).cast(IntegerType()).alias('Birth_Month'),\n",
    "    df.value.substr(75,2).cast(IntegerType()).alias('Mothers_Age'),\n",
    "    df.value.substr(299,3).cast(IntegerType()).alias('Delivery_Weight_lbs'),\n",
    "    df.value.substr(332,2).cast(IntegerType()).alias('Num_Prev_Cesareans'),\n",
    "    #435 - 870\n",
    "    df.value.substr(435,1).cast(IntegerType()).alias('Payment_Source'),\n",
    "    df.value.substr(436,1).cast(IntegerType()).alias('Payment_Recode'),\n",
    "    df.value.substr(444,2).cast(IntegerType()).alias('Five_Minute_APGAR_Score'),\n",
    "    df.value.substr(446,1).cast(IntegerType()).alias('Five_Minute_APGAR_Recode'),\n",
    "    df.value.substr(448,2).cast(IntegerType()).alias('Ten_Minute_APGAR_Score'),\n",
    "    df.value.substr(450,1).cast(IntegerType()).alias('Ten_Minute_APGAR_Recode'),\n",
    "    df.value.substr(454,1).cast(IntegerType()).alias('Plurality'),\n",
    "    df.value.substr(475,1).cast(StringType()).alias('Sex_Of_Infant'),\n",
    "    df.value.substr(477,2).cast(IntegerType()).alias('Last_Normal_Menses_Month'),\n",
    "    df.value.substr(481,4).cast(IntegerType()).alias('Last_Normal_Menses_Year'),\n",
    "    df.value.substr(489,1).cast(IntegerType()).alias('Obstetric_Estimate_of_Gestation_Used_Flag'),\n",
    "    df.value.substr(490,2).cast(IntegerType()).alias('Combined_Gestation_Detail_in_Weeks'),\n",
    "    df.value.substr(492,1).cast(IntegerType()).alias('Combined_Gestation_Recode_Weeks'),\n",
    "    df.value.substr(509,2).cast(IntegerType()).alias('Birth_Weight_Recode_14'),\n",
    "    df.value.substr(511,1).cast(IntegerType()).alias('Birth_Weight_Recode_4'),\n",
    "    df.value.substr(512,4).cast(IntegerType()).alias('Imputed_Birthwieght'),\n",
    "    #Abnormal Conditions of the Newborn\n",
    "    df.value.substr(517,1).cast(StringType()).alias('Assisted_Ventilation'),\n",
    "    df.value.substr(518,1).cast(StringType()).alias('Assisted_Ventilation_Greater_Than_6_Hours'),\n",
    "    df.value.substr(519,1).cast(StringType()).alias('Admission_to_NICU'),\n",
    "    df.value.substr(520,1).cast(StringType()).alias('Surfactant'),\n",
    "    df.value.substr(521,1).cast(StringType()).alias('Antibiotics'),\n",
    "    df.value.substr(522,1).cast(StringType()).alias('Seizures'),\n",
    "    df.value.substr(531,1).cast(IntegerType()).alias('No_Abnormal_Conditions_Checked'),\n",
    "    #Congenital Anomalies of the Newborn\n",
    "    df.value.substr(537,1).cast(StringType()).alias('Anencephaly'),\n",
    "    df.value.substr(538,1).cast(StringType()).alias('Meningomyelocele_or_Spina_Bifida'),\n",
    "    df.value.substr(539,1).cast(StringType()).alias('Cyanotic_Congenital_Heart_Disease'),\n",
    "    df.value.substr(540,1).cast(StringType()).alias('Congenital_Diaphragmatic_Hernia'),\n",
    "    df.value.substr(541,1).cast(StringType()).alias('Omphalocele'),\n",
    "    df.value.substr(542,1).cast(StringType()).alias('Gastroschisis'),\n",
    "    df.value.substr(549,1).cast(StringType()).alias('Limb_Reduction_Defect'),\n",
    "    df.value.substr(550,1).cast(StringType()).alias('Cleft_Lip_w_or_wo_Cleft_Palate'),\n",
    "    df.value.substr(551,1).cast(StringType()).alias('Cleft_Palate_alone'),\n",
    "    df.value.substr(553,1).cast(StringType()).alias('Suspected_Chromosomal_Disorder'),\n",
    "    df.value.substr(554,1).cast(StringType()).alias('Hypospadias'),\n",
    "    df.value.substr(561,1).cast(IntegerType()).alias('No_Congenital_Anomalies_Checked'),\n",
    "    df.value.substr(568,1).cast(StringType()).alias('Infant_Living_at_Time_of_Report'),\n",
    "    df.value.substr(569,1).cast(StringType()).alias('Infant_Being_Breastfed'),\n",
    "    #\n",
    "    #1330 - 1743\n",
    "    df.value.substr(1331,1).cast(IntegerType()).alias('Diabetes'),\n",
    "    df.value.substr(1332,1).cast(IntegerType()).alias('Chronic_Hypertension'),\n",
    "    df.value.substr(1333,1).cast(IntegerType()).alias('Prepregnacy_Associated_Hypertension'),\n",
    "    df.value.substr(1334,1).cast(IntegerType()).alias('Eclampsia'),\n",
    "    df.value.substr(1335,1).cast(IntegerType()).alias('Forceps'),\n",
    "    df.value.substr(1336,1).cast(IntegerType()).alias('Vacuum'),\n",
    "    df.value.substr(1337,1).cast(IntegerType()).alias('Induction_of_Labor'),\n",
    "    df.value.substr(1338,1).cast(IntegerType()).alias('Breech'),\n",
    "    df.value.substr(1341,1).cast(IntegerType()).alias('Spina_Bifida_Meningocele'),\n",
    "    df.value.substr(1342,1).cast(IntegerType()).alias('Omphalocele_Gastroschisis'),\n",
    "    \n",
    "    df.value.substr(1343,1).cast(IntegerType()).alias('Cleft_Lip_Palate'),\n",
    "    df.value.substr(1344,1).cast(IntegerType()).alias('Diaphragmatic_Hernia'),\n",
    "    df.value.substr(1345,1).cast(IntegerType()).alias('Down_Syndrome'),\n",
    "    df.value.substr(1356,3).cast(IntegerType()).alias('Age_at_Death_in_Days'),\n",
    "    df.value.substr(1359,1).cast(IntegerType()).alias('Infant_age_recode_5'),\n",
    "    df.value.substr(1360,2).cast(IntegerType()).alias('Infant_age_recode_22'),\n",
    "    df.value.substr(1362,1).cast(IntegerType()).alias('Manner_of_Death'),\n",
    "    \n",
    "    df.value.substr(1366,1).cast(IntegerType()).alias('Place_of_injury_for_causes_W00_Y34_except_Y06'),\n",
    "    df.value.substr(1671,1).cast(IntegerType()).alias('Day_of_Week_of_Death'),\n",
    "    df.value.substr(1672,4).cast(IntegerType()).alias('Data_Year'),\n",
    "    df.value.substr(1742,1).cast(IntegerType()).alias('Month_of_Death')\n",
    "    #\n",
    "    \n",
    ").withColumn(\"id\", monotonically_increasing_id())\n",
    "\n",
    "pndf.printSchema\n",
    "pndf = pndf.na.fill({'Num_Prev_Cesareans': 0.0})\n",
    "#pndf = pndf.withColumn(\"Infant_Living\", blank_as_null(\"Infant_Living\"))"
   ]
  },
  {
   "cell_type": "code",
   "execution_count": 6,
   "metadata": {},
   "outputs": [
    {
     "data": {
      "text/plain": [
       "[Row(Birth_Year=2013, Birth_Month=7, Mothers_Age=27, Delivery_Weight_lbs=229, Num_Prev_Cesareans=0, Payment_Source=1, Payment_Recode=1, Five_Minute_APGAR_Score=9, Five_Minute_APGAR_Recode=4, Ten_Minute_APGAR_Score=88, Ten_Minute_APGAR_Recode=5, Plurality=1, Sex_Of_Infant='M', Last_Normal_Menses_Month=99, Last_Normal_Menses_Year=9999, Obstetric_Estimate_of_Gestation_Used_Flag=1, Combined_Gestation_Detail_in_Weeks=39, Combined_Gestation_Recode_Weeks=0, Birth_Weight_Recode_14=10, Birth_Weight_Recode_4=3, Imputed_Birthwieght=3990, Assisted_Ventilation='N', Assisted_Ventilation_Greater_Than_6_Hours='N', Admission_to_NICU='N', Surfactant='N', Antibiotics='N', Seizures='N', No_Abnormal_Conditions_Checked=1, Anencephaly='N', Meningomyelocele_or_Spina_Bifida='N', Cyanotic_Congenital_Heart_Disease='N', Congenital_Diaphragmatic_Hernia='N', Omphalocele='N', Gastroschisis='N', Limb_Reduction_Defect='N', Cleft_Lip_w_or_wo_Cleft_Palate='N', Cleft_Palate_alone='N', Suspected_Chromosomal_Disorder='N', Hypospadias='N', No_Congenital_Anomalies_Checked=1, Infant_Living_at_Time_of_Report='Y', Infant_Being_Breastfed='U', Diabetes=2, Chronic_Hypertension=2, Prepregnacy_Associated_Hypertension=2, Eclampsia=2, Forceps=2, Vacuum=2, Induction_of_Labor=2, Breech=2, Spina_Bifida_Meningocele=2, Omphalocele_Gastroschisis=2, Cleft_Lip_Palate=2, Diaphragmatic_Hernia=2, Down_Syndrome=2, Age_at_Death_in_Days=221, Infant_age_recode_5=5, Infant_age_recode_22=18, Manner_of_Death=1, Place_of_injury_for_causes_W00_Y34_except_Y06=0, Day_of_Week_of_Death=2, Data_Year=2014, Month_of_Death=0, id=222, Surfactant_numeric=0.0, Suspected_Chromosomal_Disorder_numeric=0.0, Cyanotic_Congenital_Heart_Disease_numeric=0.0, Cleft_Lip_w_or_wo_Cleft_Palate_numeric=0.0, Assisted_Ventilation_Greater_Than_6_Hours_numeric=0.0, Anencephaly_numeric=0.0, Meningomyelocele_or_Spina_Bifida_numeric=0.0, Admission_to_NICU_numeric=0.0, Antibiotics_numeric=0.0, Hypospadias_numeric=0.0, Congenital_Diaphragmatic_Hernia_numeric=0.0, Infant_Being_Breastfed_numeric=2.0, Limb_Reduction_Defect_numeric=0.0, id_numeric=106.0, Omphalocele_numeric=0.0, Sex_Of_Infant_numeric=1.0, Gastroschisis_numeric=0.0, Cleft_Palate_alone_numeric=0.0, Assisted_Ventilation_numeric=0.0, Seizures_numeric=0.0, Infant_Living_at_Time_of_Report_numeric=0.0)]"
      ]
     },
     "execution_count": 6,
     "metadata": {},
     "output_type": "execute_result"
    }
   ],
   "source": [
    "from pyspark.ml.feature import StringIndexer\n",
    "from pyspark.ml import Pipeline\n",
    "\n",
    "pndf = pndf.na.drop()\n",
    "\n",
    "indexers = [StringIndexer(inputCol=column, outputCol=column+\"_numeric\").fit(pndf) for column in list(  set(pndf.columns) - set(['Birth_Year', 'Birth_Month', 'Mothers_Age', 'Delivery_Weight_lbs', 'Num_Prev_Cesareans', 'Payment_Source', 'Payment_Recode', 'Five_Minute_APGAR_Score', 'Five_Minute_APGAR_Recode', 'Ten_Minute_APGAR_Score', 'Ten_Minute_APGAR_Recode', 'Plurality', 'Plurality_Imputed', 'Imputed_Sex', 'Last_Normal_Menses_Month', 'Last_Normal_Menses_Year', 'Combined_Gestation_Imputed', 'Obstetric_Estimate_of_Gestation_Used_Flag', 'Combined_Gestation_Detail_in_Weeks', 'Combined_Gestation_Recode_Weeks', 'Birth_Weight_Recode_14', 'Birth_Weight_Recode_4', 'Imputed_Birthwieght', 'No_Abnormal_Conditions_Checked', 'No_Congenital_Anomalies_Checked',\n",
    "                                                                                                                               'Diabetes', 'Chronic_Hypertension', 'Prepregnacy_Associated_Hypertension','Eclampsia', 'Forceps', 'Vacuum', 'Induction_of_Labor', 'Breech', 'Spina_Bifida_Meningocele', 'Omphalocele_Gastroschisis', 'Cleft_Lip_Palate', 'Diaphragmatic_Hernia', 'Down_Syndrome', 'Age_at_Death_in_Days', 'Infant_age_recode_5', 'Infant_age_recode_22', 'Manner_of_Death', 'Place_of_injury_for_causes_W00_Y34_except_Y06', 'Day_of_Week_of_Death', 'Data_Year', 'Month_of_Death'])) ]\n",
    "pipeline = Pipeline(stages=indexers)\n",
    "pndf = pipeline.fit(pndf).transform(pndf)\n",
    "# print(pndf.select([column for column in pndf.columns if column not in drop_list]))\n",
    "# pca_cols = list(set(pca_cols).difference(set(drop_list)))\n",
    "# stringIndexer = StringIndexer(inputCol=\"Infant_Living_at_Time_of_Report\", outputCol='Infant_Living_Index')\n",
    "# pndf = stringIndexer.fit(pndf).transform(pndf)\n",
    "# pndf.count()\n",
    "pndf.head(1)"
   ]
  },
  {
   "cell_type": "code",
   "execution_count": 7,
   "metadata": {},
   "outputs": [
    {
     "data": {
      "text/plain": [
       "Row(Birth_Year=2013, Birth_Month=7, Mothers_Age=27, Delivery_Weight_lbs=229, Num_Prev_Cesareans=0, Payment_Source=1, Payment_Recode=1, Five_Minute_APGAR_Score=9, Five_Minute_APGAR_Recode=4, Ten_Minute_APGAR_Score=88, Ten_Minute_APGAR_Recode=5, Plurality=1, Sex_Of_Infant='M', Last_Normal_Menses_Month=99, Last_Normal_Menses_Year=9999, Obstetric_Estimate_of_Gestation_Used_Flag=1, Combined_Gestation_Detail_in_Weeks=39, Combined_Gestation_Recode_Weeks=0, Birth_Weight_Recode_14=10, Birth_Weight_Recode_4=3, Imputed_Birthwieght=3990, Assisted_Ventilation='N', Assisted_Ventilation_Greater_Than_6_Hours='N', Admission_to_NICU='N', Surfactant='N', Antibiotics='N', Seizures='N', No_Abnormal_Conditions_Checked=1, Anencephaly='N', Meningomyelocele_or_Spina_Bifida='N', Cyanotic_Congenital_Heart_Disease='N', Congenital_Diaphragmatic_Hernia='N', Omphalocele='N', Gastroschisis='N', Limb_Reduction_Defect='N', Cleft_Lip_w_or_wo_Cleft_Palate='N', Cleft_Palate_alone='N', Suspected_Chromosomal_Disorder='N', Hypospadias='N', No_Congenital_Anomalies_Checked=1, Infant_Living_at_Time_of_Report='Y', Infant_Being_Breastfed='U', Diabetes=2, Chronic_Hypertension=2, Prepregnacy_Associated_Hypertension=2, Eclampsia=2, Forceps=2, Vacuum=2, Induction_of_Labor=2, Breech=2, Spina_Bifida_Meningocele=2, Omphalocele_Gastroschisis=2, Cleft_Lip_Palate=2, Diaphragmatic_Hernia=2, Down_Syndrome=2, Age_at_Death_in_Days=221, Infant_age_recode_5=5, Infant_age_recode_22=18, Manner_of_Death=1, Place_of_injury_for_causes_W00_Y34_except_Y06=0, Day_of_Week_of_Death=2, Data_Year=2014, Month_of_Death=0, id=222, Surfactant_numeric=0.0, Suspected_Chromosomal_Disorder_numeric=0.0, Cyanotic_Congenital_Heart_Disease_numeric=0.0, Cleft_Lip_w_or_wo_Cleft_Palate_numeric=0.0, Assisted_Ventilation_Greater_Than_6_Hours_numeric=0.0, Anencephaly_numeric=0.0, Meningomyelocele_or_Spina_Bifida_numeric=0.0, Admission_to_NICU_numeric=0.0, Antibiotics_numeric=0.0, Hypospadias_numeric=0.0, Congenital_Diaphragmatic_Hernia_numeric=0.0, Infant_Being_Breastfed_numeric=2.0, Limb_Reduction_Defect_numeric=0.0, id_numeric=106.0, Omphalocele_numeric=0.0, Sex_Of_Infant_numeric=1.0, Gastroschisis_numeric=0.0, Cleft_Palate_alone_numeric=0.0, Assisted_Ventilation_numeric=0.0, Seizures_numeric=0.0, Infant_Living_at_Time_of_Report_numeric=0.0, features=DenseVector([2013.0, 7.0, 27.0, 229.0, 0.0, 1.0, 1.0, 9.0, 4.0, 88.0, 5.0, 1.0, 99.0, 9999.0, 1.0, 39.0, 0.0, 10.0, 3.0, 3990.0, 1.0, 1.0, 2.0, 2.0, 2.0, 2.0, 2.0, 2.0, 2.0, 2.0, 2.0, 2.0, 2.0, 2.0, 2.0, 221.0, 5.0, 18.0, 1.0, 0.0, 2.0, 2014.0, 0.0, 222.0, 0.0, 0.0, 0.0, 0.0, 0.0, 0.0, 0.0, 0.0, 0.0, 0.0, 0.0, 2.0, 0.0, 106.0, 0.0, 1.0, 0.0, 0.0, 0.0, 0.0, 0.0]))"
      ]
     },
     "execution_count": 7,
     "metadata": {},
     "output_type": "execute_result"
    }
   ],
   "source": [
    "from pyspark.ml.feature import VectorAssembler\n",
    "\n",
    "drop_list = ['Sex_Of_Infant', 'Assisted_Ventilation', 'Assisted_Ventilation_Greater_Than_6_Hours','Admission_to_NICU',\n",
    "            'Surfactant', 'Antibiotics', 'Seizures', 'Anencephaly', 'Meningomyelocele_or_Spina_Bifida', 'Cyanotic_Congenital_Heart_Disease',\n",
    "            'Congenital_Diaphragmatic_Hernia', 'Omphalocele', 'Gastroschisis', 'Limb_Reduction_Defect', 'Cleft_Lip_w_or_wo_Cleft_Palate',\n",
    "            'Cleft_Palate_alone', 'Suspected_Chromosomal_Disorder', 'Hypospadias', 'Infant_Living_at_Time_of_Report', 'Infant_Being_Breastfed']\n",
    "\n",
    "\n",
    "pca_cols = pndf.columns\n",
    "pca_cols = [e for e in pca_cols if e not in drop_list]\n",
    "\n",
    "assembler = VectorAssembler(inputCols=pca_cols, outputCol='features')\n",
    "vector_df = assembler.transform(pndf.na.drop())\n",
    "vector_df.head()"
   ]
  },
  {
   "cell_type": "markdown",
   "metadata": {},
   "source": [
    "### Scaling and Normalization"
   ]
  },
  {
   "cell_type": "code",
   "execution_count": 8,
   "metadata": {},
   "outputs": [
    {
     "data": {
      "text/plain": [
       "Row(Birth_Year=2013, Birth_Month=7, Mothers_Age=27, Delivery_Weight_lbs=229, Num_Prev_Cesareans=0, Payment_Source=1, Payment_Recode=1, Five_Minute_APGAR_Score=9, Five_Minute_APGAR_Recode=4, Ten_Minute_APGAR_Score=88, Ten_Minute_APGAR_Recode=5, Plurality=1, Sex_Of_Infant='M', Last_Normal_Menses_Month=99, Last_Normal_Menses_Year=9999, Obstetric_Estimate_of_Gestation_Used_Flag=1, Combined_Gestation_Detail_in_Weeks=39, Combined_Gestation_Recode_Weeks=0, Birth_Weight_Recode_14=10, Birth_Weight_Recode_4=3, Imputed_Birthwieght=3990, Assisted_Ventilation='N', Assisted_Ventilation_Greater_Than_6_Hours='N', Admission_to_NICU='N', Surfactant='N', Antibiotics='N', Seizures='N', No_Abnormal_Conditions_Checked=1, Anencephaly='N', Meningomyelocele_or_Spina_Bifida='N', Cyanotic_Congenital_Heart_Disease='N', Congenital_Diaphragmatic_Hernia='N', Omphalocele='N', Gastroschisis='N', Limb_Reduction_Defect='N', Cleft_Lip_w_or_wo_Cleft_Palate='N', Cleft_Palate_alone='N', Suspected_Chromosomal_Disorder='N', Hypospadias='N', No_Congenital_Anomalies_Checked=1, Infant_Living_at_Time_of_Report='Y', Infant_Being_Breastfed='U', Diabetes=2, Chronic_Hypertension=2, Prepregnacy_Associated_Hypertension=2, Eclampsia=2, Forceps=2, Vacuum=2, Induction_of_Labor=2, Breech=2, Spina_Bifida_Meningocele=2, Omphalocele_Gastroschisis=2, Cleft_Lip_Palate=2, Diaphragmatic_Hernia=2, Down_Syndrome=2, Age_at_Death_in_Days=221, Infant_age_recode_5=5, Infant_age_recode_22=18, Manner_of_Death=1, Place_of_injury_for_causes_W00_Y34_except_Y06=0, Day_of_Week_of_Death=2, Data_Year=2014, Month_of_Death=0, id=222, Surfactant_numeric=0.0, Suspected_Chromosomal_Disorder_numeric=0.0, Cyanotic_Congenital_Heart_Disease_numeric=0.0, Cleft_Lip_w_or_wo_Cleft_Palate_numeric=0.0, Assisted_Ventilation_Greater_Than_6_Hours_numeric=0.0, Anencephaly_numeric=0.0, Meningomyelocele_or_Spina_Bifida_numeric=0.0, Admission_to_NICU_numeric=0.0, Antibiotics_numeric=0.0, Hypospadias_numeric=0.0, Congenital_Diaphragmatic_Hernia_numeric=0.0, Infant_Being_Breastfed_numeric=2.0, Limb_Reduction_Defect_numeric=0.0, id_numeric=106.0, Omphalocele_numeric=0.0, Sex_Of_Infant_numeric=1.0, Gastroschisis_numeric=0.0, Cleft_Palate_alone_numeric=0.0, Assisted_Ventilation_numeric=0.0, Seizures_numeric=0.0, Infant_Living_at_Time_of_Report_numeric=0.0, features=DenseVector([2013.0, 7.0, 27.0, 229.0, 0.0, 1.0, 1.0, 9.0, 4.0, 88.0, 5.0, 1.0, 99.0, 9999.0, 1.0, 39.0, 0.0, 10.0, 3.0, 3990.0, 1.0, 1.0, 2.0, 2.0, 2.0, 2.0, 2.0, 2.0, 2.0, 2.0, 2.0, 2.0, 2.0, 2.0, 2.0, 221.0, 5.0, 18.0, 1.0, 0.0, 2.0, 2014.0, 0.0, 222.0, 0.0, 0.0, 0.0, 0.0, 0.0, 0.0, 0.0, 0.0, 0.0, 0.0, 0.0, 2.0, 0.0, 106.0, 0.0, 1.0, 0.0, 0.0, 0.0, 0.0, 0.0]), scaledFeatures=DenseVector([4186.2547, 2.0206, 4.5822, 0.847, 0.0, 0.4155, 0.5737, 0.4687, 5.4471, 4.5538, 6.8812, 4.7301, 3.5059, 3.3784, 0.0, 12.2304, 0.0, 5.8873, 5.3407, 5.2499, 0.5623, 0.7162, 2.168, 2.2755, 2.2122, 2.2893, 3.2451, 3.209, 1.5374, 1.3085, 1.6358, 1.6419, 1.6419, 1.6419, 1.6419, 2.5938, 5.1008, 4.036, 0.593, 0.0, 0.9882, 0.0, 0.0, 0.0, 0.0, 0.0, 0.0, 0.0, 0.0, 0.0, 0.0, 0.0, 0.0, 0.0, 0.0, 2.7771, 0.0, 2.8355, 0.0, 2.0024, 0.0, 0.0, 0.0, 0.0, 0.0]))"
      ]
     },
     "execution_count": 8,
     "metadata": {},
     "output_type": "execute_result"
    }
   ],
   "source": [
    "from pyspark.ml.feature import StandardScaler\n",
    "scaler = StandardScaler(inputCol='features', \n",
    "                        outputCol='scaledFeatures', withMean=False, withStd=True) # TODO: should withMean be True??\n",
    "scaled_df = scaler.fit(vector_df).transform(vector_df)\n",
    "scaled_df.head()"
   ]
  },
  {
   "cell_type": "code",
   "execution_count": 9,
   "metadata": {},
   "outputs": [
    {
     "data": {
      "text/plain": [
       "Row(Birth_Year=2013, Birth_Month=7, Mothers_Age=27, Delivery_Weight_lbs=229, Num_Prev_Cesareans=0, Payment_Source=1, Payment_Recode=1, Five_Minute_APGAR_Score=9, Five_Minute_APGAR_Recode=4, Ten_Minute_APGAR_Score=88, Ten_Minute_APGAR_Recode=5, Plurality=1, Sex_Of_Infant='M', Last_Normal_Menses_Month=99, Last_Normal_Menses_Year=9999, Obstetric_Estimate_of_Gestation_Used_Flag=1, Combined_Gestation_Detail_in_Weeks=39, Combined_Gestation_Recode_Weeks=0, Birth_Weight_Recode_14=10, Birth_Weight_Recode_4=3, Imputed_Birthwieght=3990, Assisted_Ventilation='N', Assisted_Ventilation_Greater_Than_6_Hours='N', Admission_to_NICU='N', Surfactant='N', Antibiotics='N', Seizures='N', No_Abnormal_Conditions_Checked=1, Anencephaly='N', Meningomyelocele_or_Spina_Bifida='N', Cyanotic_Congenital_Heart_Disease='N', Congenital_Diaphragmatic_Hernia='N', Omphalocele='N', Gastroschisis='N', Limb_Reduction_Defect='N', Cleft_Lip_w_or_wo_Cleft_Palate='N', Cleft_Palate_alone='N', Suspected_Chromosomal_Disorder='N', Hypospadias='N', No_Congenital_Anomalies_Checked=1, Infant_Living_at_Time_of_Report='Y', Infant_Being_Breastfed='U', Diabetes=2, Chronic_Hypertension=2, Prepregnacy_Associated_Hypertension=2, Eclampsia=2, Forceps=2, Vacuum=2, Induction_of_Labor=2, Breech=2, Spina_Bifida_Meningocele=2, Omphalocele_Gastroschisis=2, Cleft_Lip_Palate=2, Diaphragmatic_Hernia=2, Down_Syndrome=2, Age_at_Death_in_Days=221, Infant_age_recode_5=5, Infant_age_recode_22=18, Manner_of_Death=1, Place_of_injury_for_causes_W00_Y34_except_Y06=0, Day_of_Week_of_Death=2, Data_Year=2014, Month_of_Death=0, id=222, Surfactant_numeric=0.0, Suspected_Chromosomal_Disorder_numeric=0.0, Cyanotic_Congenital_Heart_Disease_numeric=0.0, Cleft_Lip_w_or_wo_Cleft_Palate_numeric=0.0, Assisted_Ventilation_Greater_Than_6_Hours_numeric=0.0, Anencephaly_numeric=0.0, Meningomyelocele_or_Spina_Bifida_numeric=0.0, Admission_to_NICU_numeric=0.0, Antibiotics_numeric=0.0, Hypospadias_numeric=0.0, Congenital_Diaphragmatic_Hernia_numeric=0.0, Infant_Being_Breastfed_numeric=2.0, Limb_Reduction_Defect_numeric=0.0, id_numeric=106.0, Omphalocele_numeric=0.0, Sex_Of_Infant_numeric=1.0, Gastroschisis_numeric=0.0, Cleft_Palate_alone_numeric=0.0, Assisted_Ventilation_numeric=0.0, Seizures_numeric=0.0, Infant_Living_at_Time_of_Report_numeric=0.0, features=DenseVector([2013.0, 7.0, 27.0, 229.0, 0.0, 1.0, 1.0, 9.0, 4.0, 88.0, 5.0, 1.0, 99.0, 9999.0, 1.0, 39.0, 0.0, 10.0, 3.0, 3990.0, 1.0, 1.0, 2.0, 2.0, 2.0, 2.0, 2.0, 2.0, 2.0, 2.0, 2.0, 2.0, 2.0, 2.0, 2.0, 221.0, 5.0, 18.0, 1.0, 0.0, 2.0, 2014.0, 0.0, 222.0, 0.0, 0.0, 0.0, 0.0, 0.0, 0.0, 0.0, 0.0, 0.0, 0.0, 0.0, 2.0, 0.0, 106.0, 0.0, 1.0, 0.0, 0.0, 0.0, 0.0, 0.0]), scaledFeatures=DenseVector([4186.2547, 2.0206, 4.5822, 0.847, 0.0, 0.4155, 0.5737, 0.4687, 5.4471, 4.5538, 6.8812, 4.7301, 3.5059, 3.3784, 0.0, 12.2304, 0.0, 5.8873, 5.3407, 5.2499, 0.5623, 0.7162, 2.168, 2.2755, 2.2122, 2.2893, 3.2451, 3.209, 1.5374, 1.3085, 1.6358, 1.6419, 1.6419, 1.6419, 1.6419, 2.5938, 5.1008, 4.036, 0.593, 0.0, 0.9882, 0.0, 0.0, 0.0, 0.0, 0.0, 0.0, 0.0, 0.0, 0.0, 0.0, 0.0, 0.0, 0.0, 0.0, 2.7771, 0.0, 2.8355, 0.0, 2.0024, 0.0, 0.0, 0.0, 0.0, 0.0]), normalizeFeatures=DenseVector([0.9733, 0.0005, 0.0011, 0.0002, 0.0, 0.0001, 0.0001, 0.0001, 0.0013, 0.0011, 0.0016, 0.0011, 0.0008, 0.0008, 0.0, 0.0028, 0.0, 0.0014, 0.0012, 0.0012, 0.0001, 0.0002, 0.0005, 0.0005, 0.0005, 0.0005, 0.0008, 0.0007, 0.0004, 0.0003, 0.0004, 0.0004, 0.0004, 0.0004, 0.0004, 0.0006, 0.0012, 0.0009, 0.0001, 0.0, 0.0002, 0.0, 0.0, 0.0, 0.0, 0.0, 0.0, 0.0, 0.0, 0.0, 0.0, 0.0, 0.0, 0.0, 0.0, 0.0006, 0.0, 0.0007, 0.0, 0.0005, 0.0, 0.0, 0.0, 0.0, 0.0]))"
      ]
     },
     "execution_count": 9,
     "metadata": {},
     "output_type": "execute_result"
    }
   ],
   "source": [
    "from pyspark.ml.feature import Normalizer\n",
    "nrmlzer = Normalizer(inputCol='scaledFeatures', outputCol='normalizeFeatures', p=1.0)\n",
    "l1Normalized = nrmlzer.transform(scaled_df)\n",
    "l1Normalized.head()"
   ]
  },
  {
   "cell_type": "markdown",
   "metadata": {},
   "source": [
    "### Dimensionality Reduction: PCA"
   ]
  },
  {
   "cell_type": "code",
   "execution_count": 10,
   "metadata": {},
   "outputs": [
    {
     "name": "stdout",
     "output_type": "stream",
     "text": [
      "+-------------------------------------------------------------------------------------+\n",
      "|features_pca                                                                         |\n",
      "+-------------------------------------------------------------------------------------+\n",
      "|[-0.9577598400503178,0.03720511494325743,0.036374767404697965,-0.05504422841012879]  |\n",
      "|[-0.9570688339022546,0.03733553325511225,0.0362725792072242,-0.055340974889166394]   |\n",
      "|[-0.9585887171142817,0.03762746678633663,0.0368320572778305,-0.055085734725543484]   |\n",
      "|[-0.9589016482175711,0.037104219392205,0.036517910696077335,-0.055174471624388675]   |\n",
      "|[-0.9600770002730321,0.037922662677021754,0.03680272146662527,-0.0553107925041583]   |\n",
      "|[-0.9613649180656479,0.03740299406996381,0.03647847014917686,-0.05529046387548215]   |\n",
      "|[-0.9590442785241452,0.03728954269124236,0.03650949903023406,-0.0553350098619327]    |\n",
      "|[-0.9585907025407802,0.03725902082767986,0.0364385232114858,-0.05524932360415631]    |\n",
      "|[-0.9581571154203995,0.037447720173880886,0.036670532871243576,-0.05488318241694637] |\n",
      "|[-0.9595886928045156,0.03747331717862059,0.03669149903132105,-0.05511489320146675]   |\n",
      "|[-0.9209727838573888,0.038268575863096295,0.03470616073193106,-0.05550670308937076]  |\n",
      "|[-0.9590097218549987,0.03762483024497408,0.03683994402050321,-0.05451790373668031]   |\n",
      "|[-0.9609693839044318,0.03854123810507375,0.03738005471134832,-0.05564054428899174]   |\n",
      "|[-0.9584835885356136,0.03750012057508012,0.03671373569125195,-0.054774351378811405]  |\n",
      "|[-0.9583031277928016,0.03743174574005556,0.03663995766529984,-0.055035296825051545]  |\n",
      "|[-0.9587402696141276,0.0376084641278024,0.03665724160923523,-0.054955827141394006]   |\n",
      "|[-0.9574815643498217,0.03702165818925035,0.03632430827720263,-0.055070716284013756]  |\n",
      "|[-0.9588035289232073,0.038342239533561674,0.037762459389788915,-0.055253453630405854]|\n",
      "|[-0.9591714039652274,0.03737799211208064,0.03654339296698273,-0.055078170143391836]  |\n",
      "|[-0.9559642729070832,0.03733476835109583,0.03664745125590024,-0.054335261109877936]  |\n",
      "+-------------------------------------------------------------------------------------+\n",
      "only showing top 20 rows\n",
      "\n"
     ]
    }
   ],
   "source": [
    "from pyspark.ml.feature import PCA\n",
    "num_principal_comp = 4\n",
    "pca = PCA(k=num_principal_comp, inputCol='normalizeFeatures', outputCol='features_pca')\n",
    "pca_model = pca.fit(l1Normalized)\n",
    "pca_feat = pca_model.transform(l1Normalized).select('features_pca')\n",
    "pca_feat.show(truncate=False)"
   ]
  },
  {
   "cell_type": "code",
   "execution_count": null,
   "metadata": {},
   "outputs": [],
   "source": []
  }
 ],
 "metadata": {
  "kernelspec": {
   "display_name": "Python 3",
   "language": "python",
   "name": "python3"
  },
  "language_info": {
   "codemirror_mode": {
    "name": "ipython",
    "version": 3
   },
   "file_extension": ".py",
   "mimetype": "text/x-python",
   "name": "python",
   "nbconvert_exporter": "python",
   "pygments_lexer": "ipython3",
   "version": "3.6.3"
  }
 },
 "nbformat": 4,
 "nbformat_minor": 1
}
