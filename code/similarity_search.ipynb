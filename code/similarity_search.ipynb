{
 "cells": [
  {
   "cell_type": "markdown",
   "metadata": {
    "collapsed": true
   },
   "source": [
    "## CSE545-SDG3-Team-Matrix\n"
   ]
  },
  {
   "cell_type": "code",
   "execution_count": 1,
   "metadata": {},
   "outputs": [],
   "source": [
    "import findspark\n",
    "findspark.init()\n",
    "import pyspark\n",
    "from pyspark.sql import SQLContext\n",
    "from pyspark.sql.types import *\n",
    "import numpy as np\n",
    "import pandas as pd\n",
    "import scipy\n",
    "import matplotlib.pyplot as plt\n",
    "import seaborn as sns\n",
    "from pyspark.sql.functions import *\n",
    "from pyspark.sql.window import *\n",
    "from pyspark.sql.types import *\n",
    "import os"
   ]
  },
  {
   "cell_type": "code",
   "execution_count": 2,
   "metadata": {},
   "outputs": [],
   "source": [
    "sconf = pyspark.SparkConf()\n",
    "sc = pyspark.SparkContext(appName=\"SDG3-TeamMatrix\")\n",
    "sqlCtx = SQLContext(sc)"
   ]
  },
  {
   "cell_type": "code",
   "execution_count": 3,
   "metadata": {},
   "outputs": [
    {
     "name": "stdout",
     "output_type": "stream",
     "text": [
      "../LinkPE14US/VS14LINK.USMERGEDPUB\n"
     ]
    },
    {
     "data": {
      "text/plain": [
       "5138"
      ]
     },
     "execution_count": 3,
     "metadata": {},
     "output_type": "execute_result"
    }
   ],
   "source": [
    "data_path = r'../LinkPE14US'\n",
    "#print(os.path.join(data_path, \"*.*PUB\"))#all\n",
    "print(os.path.join(data_path, \"VS14LINK.USMERGEDPUB\"))#*.*PUB\n",
    "#df = sqlCtx.read.text(os.path.join(data_path, \"*.*PUB\"))  #all #*.*PUB\n",
    "df = sqlCtx.read.text(os.path.join(data_path, \"VS14LINK.USMERGEDPUB\"))  #merged\n",
    "#df = sqlCtx.read.text(os.path.join(data_path, \"VS14LINK.USNUMPUB\"))  #350 mb\n",
    "#df = sqlCtx.read.text(\"/VS14LINK.USDENPUB\") # 5gb\n",
    "#df = sqlCtx.read.text(\"/*.*PUB\") # both\n",
    "df = df.sample(withReplacement=True,fraction=0.2, seed=42)\n",
    "df.count()\n"
   ]
  },
  {
   "cell_type": "code",
   "execution_count": 4,
   "metadata": {},
   "outputs": [],
   "source": [
    "def blank_as_Y(x):\n",
    "    return when(col(x) == '', 'Y').otherwise('N') # 1 == alive, 0 == demised for ICD10"
   ]
  },
  {
   "cell_type": "code",
   "execution_count": 5,
   "metadata": {},
   "outputs": [
    {
     "name": "stdout",
     "output_type": "stream",
     "text": [
      "root\n",
      " |-- Birth_Year: integer (nullable = true)\n",
      " |-- Birth_Month: integer (nullable = true)\n",
      " |-- Time_of_Birth: integer (nullable = true)\n",
      " |-- Birth_DOW: integer (nullable = true)\n",
      " |-- Birth_Place: integer (nullable = true)\n",
      " |-- Facility_Recode: integer (nullable = true)\n",
      " |-- Mothers_Age_Recode: integer (nullable = true)\n",
      " |-- Mothers_Nativity: integer (nullable = true)\n",
      " |-- Residence_Status: integer (nullable = true)\n",
      " |-- Mothers_Race: integer (nullable = true)\n",
      " |-- Bridge_Race_Mother: integer (nullable = true)\n",
      " |-- Mothers_Hispanic_Origin_Recode: integer (nullable = true)\n",
      " |-- Paternity_Ack: integer (nullable = true)\n",
      " |-- Marital_Status: integer (nullable = true)\n",
      " |-- Mothers_Education: integer (nullable = true)\n",
      " |-- Fathers_Age: integer (nullable = true)\n",
      " |-- Fathers_Age_Recode: integer (nullable = true)\n",
      " |-- Fathers_Race_Recode: integer (nullable = true)\n",
      " |-- Bridge_Race_Father: integer (nullable = true)\n",
      " |-- Fathers_Hispanic_Origin_Recode: integer (nullable = true)\n",
      " |-- Fathers_Education: integer (nullable = true)\n",
      " |-- Prior_Births_Living: integer (nullable = true)\n",
      " |-- Prior_Births_Dead: integer (nullable = true)\n",
      " |-- Prior_Other_Terminations: integer (nullable = true)\n",
      " |-- Live_Birth_Order_Recode: integer (nullable = true)\n",
      " |-- Total_Birth_Order_Recode: integer (nullable = true)\n",
      " |-- Interval_Last_Live_Birth_Recode: integer (nullable = true)\n",
      " |-- Interval_Last_Live_Birth_Recode11: integer (nullable = true)\n",
      " |-- Interval_Last_Other_Pregnancy_Recode: integer (nullable = true)\n",
      " |-- Interval_Last_Other_Pregnancy_Recode11: integer (nullable = true)\n",
      " |-- Interval_Last_Pregnancy_Recode: integer (nullable = true)\n",
      " |-- Interval_Last_Pregnancy_Recode11: integer (nullable = true)\n",
      " |-- Num_Prenatal_Visits: integer (nullable = true)\n",
      " |-- Num_Prenatal_Visits_Recode: integer (nullable = true)\n",
      " |-- Cigarettes_Before_Pregnancy: integer (nullable = true)\n",
      " |-- Cigarettes_1st_Trimester: integer (nullable = true)\n",
      " |-- Cigarettes_2nd_Trimester: integer (nullable = true)\n",
      " |-- Cigarettes_3rd_Trimester: integer (nullable = true)\n",
      " |-- Cigarettes_Before_Pregnancy_Recode: integer (nullable = true)\n",
      " |-- Cigarettes_1st_Trimester_Recode: integer (nullable = true)\n",
      " |-- Cigarettes_2nd_Trimester_Recode: integer (nullable = true)\n",
      " |-- Cigarettes_3rd_Trimester_Recode: integer (nullable = true)\n",
      " |-- Mothers_Height_Inches: integer (nullable = true)\n",
      " |-- BMI_Recode: integer (nullable = true)\n",
      " |-- Pre_Pregnancy_Weight_Recode: integer (nullable = true)\n",
      " |-- Delivery_Weight_Recode: integer (nullable = true)\n",
      " |-- Weight_Gain: integer (nullable = true)\n",
      " |-- Weight_Gain_Recode: integer (nullable = true)\n",
      " |-- Pre_Pregnancy_Diabetes: string (nullable = true)\n",
      " |-- Gestational_Diabetes: string (nullable = true)\n",
      " |-- Pre_Pregnancy_Hypertension: string (nullable = true)\n",
      " |-- Gestational_Hypertension: string (nullable = true)\n",
      " |-- Hypertension_Eclmapsia: string (nullable = true)\n",
      " |-- Previous_Preterm_Birth: string (nullable = true)\n",
      " |-- Infertility_Treatment: string (nullable = true)\n",
      " |-- Fertility_Enhancing_Drugs: string (nullable = true)\n",
      " |-- Assistive_Reproductive_Technology: string (nullable = true)\n",
      " |-- Prev_Cesareans: string (nullable = true)\n",
      " |-- Num_Prev_Cesareans: integer (nullable = true)\n",
      " |-- No_Risk_Factors_Checked: string (nullable = true)\n",
      " |-- Gonorrhea: string (nullable = true)\n",
      " |-- Syphillis: string (nullable = true)\n",
      " |-- Chlamydia: string (nullable = true)\n",
      " |-- HepatitisB: string (nullable = true)\n",
      " |-- HepatitisC: string (nullable = true)\n",
      " |-- No_Infections_Checked: string (nullable = true)\n",
      " |-- Sucessful_External_Cephalic_Version: string (nullable = true)\n",
      " |-- Failed_External_Cephalic_Version: string (nullable = true)\n",
      " |-- Induction_Of_Labor: string (nullable = true)\n",
      " |-- Augmentation_Of_Labor: string (nullable = true)\n",
      " |-- Steroids_Mother: string (nullable = true)\n",
      " |-- Antibiotics_Mother: string (nullable = true)\n",
      " |-- Chorioamnionitis_Mother: string (nullable = true)\n",
      " |-- Anesthesia_Mother: string (nullable = true)\n",
      " |-- No_Labor_Checked: string (nullable = true)\n",
      " |-- Fetal_Presentation: integer (nullable = true)\n",
      " |-- Final_Route_and_Method_Of_Delivery: integer (nullable = true)\n",
      " |-- Trail_Of_Labor_Attempted: integer (nullable = true)\n",
      " |-- Delivery_Method_Recode: integer (nullable = true)\n",
      " |-- Maternal_Transfusion: string (nullable = true)\n",
      " |-- Perineal_Laceration: string (nullable = true)\n",
      " |-- Ruptured_Uterus: string (nullable = true)\n",
      " |-- Unplanned_Hysterectomy: string (nullable = true)\n",
      " |-- Admit_to_Intensive_Care: string (nullable = true)\n",
      " |-- No_Maternal_Morbidity_Checked: integer (nullable = true)\n",
      " |-- Attendant: integer (nullable = true)\n",
      " |-- Mother_Transferred: string (nullable = true)\n",
      " |-- Payment_Source: integer (nullable = true)\n",
      " |-- Payment_Recode: integer (nullable = true)\n",
      " |-- Five_Minute_APGAR_Score: integer (nullable = true)\n",
      " |-- Five_Minute_APGAR_Recode: integer (nullable = true)\n",
      " |-- Ten_Minute_APGAR_Score: integer (nullable = true)\n",
      " |-- Ten_Minute_APGAR_Recode: integer (nullable = true)\n",
      " |-- Plurality: integer (nullable = true)\n",
      " |-- Sex_Of_Infant: string (nullable = true)\n",
      " |-- Last_Normal_Menses_Month: integer (nullable = true)\n",
      " |-- Last_Normal_Menses_Year: integer (nullable = true)\n",
      " |-- Obstetric_Estimate_of_Gestation_Used_Flag: integer (nullable = true)\n",
      " |-- Combined_Gestation_Detail_in_Weeks: integer (nullable = true)\n",
      " |-- Combined_Gestation_Recode_Weeks: integer (nullable = true)\n",
      " |-- Birth_Weight_Recode_14: integer (nullable = true)\n",
      " |-- Birth_Weight_Recode_4: integer (nullable = true)\n",
      " |-- Imputed_Birthwieght: integer (nullable = true)\n",
      " |-- Assisted_Ventilation: string (nullable = true)\n",
      " |-- Assisted_Ventilation_Greater_Than_6_Hours: string (nullable = true)\n",
      " |-- Admission_to_NICU: string (nullable = true)\n",
      " |-- Surfactant: string (nullable = true)\n",
      " |-- Antibiotics: string (nullable = true)\n",
      " |-- Seizures: string (nullable = true)\n",
      " |-- No_Abnormal_Conditions_Checked: integer (nullable = true)\n",
      " |-- Anencephaly: string (nullable = true)\n",
      " |-- Meningomyelocele_or_Spina_Bifida: string (nullable = true)\n",
      " |-- Cyanotic_Congenital_Heart_Disease: string (nullable = true)\n",
      " |-- Congenital_Diaphragmatic_Hernia: string (nullable = true)\n",
      " |-- Omphalocele: string (nullable = true)\n",
      " |-- Gastroschisis: string (nullable = true)\n",
      " |-- Limb_Reduction_Defect: string (nullable = true)\n",
      " |-- Cleft_Lip_w_or_wo_Cleft_Palate: string (nullable = true)\n",
      " |-- Cleft_Palate_alone: string (nullable = true)\n",
      " |-- Suspected_Chromosomal_Disorder: string (nullable = true)\n",
      " |-- Hypospadias: string (nullable = true)\n",
      " |-- No_Congenital_Anomalies_Checked: integer (nullable = true)\n",
      " |-- Infant_Living_at_Time_of_Report: string (nullable = true)\n",
      " |-- Infant_Being_Breastfed: string (nullable = true)\n",
      " |-- Diabetes: integer (nullable = true)\n",
      " |-- Chronic_Hypertension: integer (nullable = true)\n",
      " |-- Prepregnacy_Associated_Hypertension: integer (nullable = true)\n",
      " |-- Eclampsia: integer (nullable = true)\n",
      " |-- Forceps: integer (nullable = true)\n",
      " |-- Vacuum: integer (nullable = true)\n",
      " |-- Induction_of_Labor1: integer (nullable = true)\n",
      " |-- Breech1: integer (nullable = true)\n",
      " |-- Spina_Bifida_Meningocele1: integer (nullable = true)\n",
      " |-- Omphalocele_Gastroschisis1: integer (nullable = true)\n",
      " |-- Cleft_Lip_Palate1: integer (nullable = true)\n",
      " |-- Diaphragmatic_Herni1a: integer (nullable = true)\n",
      " |-- Down_Syndrome1: integer (nullable = true)\n",
      " |-- Age_at_Death_in_Days: integer (nullable = true)\n",
      " |-- Infant_age_recode_5: integer (nullable = true)\n",
      " |-- Infant_age_recode_22: integer (nullable = true)\n",
      " |-- Manner_of_Death: integer (nullable = true)\n",
      " |-- Place_of_injury_for_causes_W00_Y34_except_Y06: integer (nullable = true)\n",
      " |-- ICD10: string (nullable = true)\n",
      " |-- Day_of_Week_of_Death: integer (nullable = true)\n",
      " |-- Data_Year: integer (nullable = true)\n",
      " |-- Month_of_Death: integer (nullable = true)\n",
      " |-- id: long (nullable = false)\n",
      "\n",
      "number of features  1\n"
     ]
    }
   ],
   "source": [
    "# pandas data frame after adding column metadata\n",
    "#pndf type = pyspark.sql.dataframe.DataFrame\n",
    "pndf = df.select(\n",
    "    df.value.substr(9,4).cast(IntegerType()).alias('Birth_Year'),\n",
    "    df.value.substr(13,2).cast(IntegerType()).alias('Birth_Month'),\n",
    "    df.value.substr(19,4).cast(IntegerType()).alias('Time_of_Birth'),\n",
    "    df.value.substr(23,1).cast(IntegerType()).alias('Birth_DOW'),\n",
    "    df.value.substr(32,1).cast(IntegerType()).alias('Birth_Place'),\n",
    "    df.value.substr(50,1).cast(IntegerType()).alias('Facility_Recode'),\n",
    "    df.value.substr(75,2).cast(IntegerType()).alias('Mothers_Age_Recode'),\n",
    "    df.value.substr(84,1).cast(IntegerType()).alias('Mothers_Nativity'),\n",
    "    df.value.substr(104,1).cast(IntegerType()).alias('Residence_Status'),\n",
    "    df.value.substr(105,2).cast(IntegerType()).alias('Mothers_Race'),\n",
    "    df.value.substr(110,1).cast(IntegerType()).alias('Bridge_Race_Mother'),\n",
    "    df.value.substr(115,1).cast(IntegerType()).alias('Mothers_Hispanic_Origin_Recode'),\n",
    "    df.value.substr(119,1).cast(IntegerType()).alias('Paternity_Ack'),\n",
    "    df.value.substr(120,1).cast(IntegerType()).alias('Marital_Status'),\n",
    "    df.value.substr(124,1).cast(IntegerType()).alias('Mothers_Education'),\n",
    "    df.value.substr(147,2).cast(IntegerType()).alias('Fathers_Age'),\n",
    "    df.value.substr(149,2).cast(IntegerType()).alias('Fathers_Age_Recode'),\n",
    "    df.value.substr(151,2).cast(IntegerType()).alias('Fathers_Race_Recode'),\n",
    "    df.value.substr(156,1).cast(IntegerType()).alias('Bridge_Race_Father'),\n",
    "    df.value.substr(160,1).cast(IntegerType()).alias('Fathers_Hispanic_Origin_Recode'),\n",
    "    df.value.substr(163,1).cast(IntegerType()).alias('Fathers_Education'),\n",
    "    df.value.substr(171,2).cast(IntegerType()).alias('Prior_Births_Living'),\n",
    "    df.value.substr(173,2).cast(IntegerType()).alias('Prior_Births_Dead'),\n",
    "    df.value.substr(175,2).cast(IntegerType()).alias('Prior_Other_Terminations'),\n",
    "    df.value.substr(179,1).cast(IntegerType()).alias('Live_Birth_Order_Recode'),\n",
    "    df.value.substr(182,1).cast(IntegerType()).alias('Total_Birth_Order_Recode'),\n",
    "    df.value.substr(198,3).cast(IntegerType()).alias('Interval_Last_Live_Birth_Recode'),\n",
    "    df.value.substr(201,2).cast(IntegerType()).alias('Interval_Last_Live_Birth_Recode11'),\n",
    "    df.value.substr(206,3).cast(IntegerType()).alias('Interval_Last_Other_Pregnancy_Recode'),\n",
    "    df.value.substr(209,2).cast(IntegerType()).alias('Interval_Last_Other_Pregnancy_Recode11'),\n",
    "    df.value.substr(214,3).cast(IntegerType()).alias('Interval_Last_Pregnancy_Recode'),\n",
    "    df.value.substr(217,2).cast(IntegerType()).alias('Interval_Last_Pregnancy_Recode11'),\n",
    "    df.value.substr(238,2).cast(IntegerType()).alias('Num_Prenatal_Visits'),\n",
    "    df.value.substr(242,2).cast(IntegerType()).alias('Num_Prenatal_Visits_Recode'),\n",
    "    df.value.substr(253,2).cast(IntegerType()).alias('Cigarettes_Before_Pregnancy'),\n",
    "    df.value.substr(255,2).cast(IntegerType()).alias('Cigarettes_1st_Trimester'),\n",
    "    df.value.substr(257,2).cast(IntegerType()).alias('Cigarettes_2nd_Trimester'),\n",
    "    df.value.substr(259,2).cast(IntegerType()).alias('Cigarettes_3rd_Trimester'),\n",
    "    df.value.substr(261,1).cast(IntegerType()).alias('Cigarettes_Before_Pregnancy_Recode'),\n",
    "    df.value.substr(262,1).cast(IntegerType()).alias('Cigarettes_1st_Trimester_Recode'),\n",
    "    df.value.substr(263,1).cast(IntegerType()).alias('Cigarettes_2nd_Trimester_Recode'),\n",
    "    df.value.substr(264,1).cast(IntegerType()).alias('Cigarettes_3rd_Trimester_Recode'),\n",
    "    df.value.substr(280,2).cast(IntegerType()).alias('Mothers_Height_Inches'),\n",
    "    df.value.substr(287,1).cast(IntegerType()).alias('BMI_Recode'),\n",
    "    df.value.substr(292,3).cast(IntegerType()).alias('Pre_Pregnancy_Weight_Recode'),\n",
    "    df.value.substr(299,3).cast(IntegerType()).alias('Delivery_Weight_Recode'),\n",
    "    df.value.substr(304,2).cast(IntegerType()).alias('Weight_Gain'),\n",
    "    df.value.substr(306,1).cast(IntegerType()).alias('Weight_Gain_Recode'),\n",
    "    df.value.substr(313,1).cast(StringType()).alias('Pre_Pregnancy_Diabetes'),\n",
    "    df.value.substr(314,1).cast(StringType()).alias('Gestational_Diabetes'),\n",
    "    df.value.substr(315,1).cast(StringType()).alias('Pre_Pregnancy_Hypertension'),\n",
    "    df.value.substr(316,1).cast(StringType()).alias('Gestational_Hypertension'),\n",
    "    df.value.substr(317,1).cast(StringType()).alias('Hypertension_Eclmapsia'),\n",
    "    df.value.substr(318,1).cast(StringType()).alias('Previous_Preterm_Birth'),\n",
    "    df.value.substr(325,1).cast(StringType()).alias('Infertility_Treatment'),\n",
    "    df.value.substr(326,1).cast(StringType()).alias('Fertility_Enhancing_Drugs'),\n",
    "    df.value.substr(327,1).cast(StringType()).alias('Assistive_Reproductive_Technology'),\n",
    "    df.value.substr(331,1).cast(StringType()).alias('Prev_Cesareans'),\n",
    "    df.value.substr(332,2).cast(IntegerType()).alias('Num_Prev_Cesareans'),\n",
    "    df.value.substr(337,1).cast(StringType()).alias('No_Risk_Factors_Checked'),\n",
    "    \n",
    "    df.value.substr(343,1).cast(StringType()).alias('Gonorrhea'),\n",
    "    df.value.substr(344,1).cast(StringType()).alias('Syphillis'),\n",
    "    df.value.substr(345,1).cast(StringType()).alias('Chlamydia'),\n",
    "    df.value.substr(346,1).cast(StringType()).alias('HepatitisB'),\n",
    "    df.value.substr(347,1).cast(StringType()).alias('HepatitisC'),\n",
    "    df.value.substr(353,1).cast(StringType()).alias('No_Infections_Checked'),\n",
    "    df.value.substr(360,1).cast(StringType()).alias('Sucessful_External_Cephalic_Version'),\n",
    "    df.value.substr(361,1).cast(StringType()).alias('Failed_External_Cephalic_Version'),\n",
    "    \n",
    "    df.value.substr(383,1).cast(StringType()).alias('Induction_Of_Labor'),\n",
    "    df.value.substr(384,1).cast(StringType()).alias('Augmentation_Of_Labor'),\n",
    "    df.value.substr(385,1).cast(StringType()).alias('Steroids_Mother'),\n",
    "    df.value.substr(386,1).cast(StringType()).alias('Antibiotics_Mother'),\n",
    "    df.value.substr(386,1).cast(StringType()).alias('Chorioamnionitis_Mother'),\n",
    "    df.value.substr(387,1).cast(StringType()).alias('Anesthesia_Mother'),\n",
    "    df.value.substr(395,1).cast(StringType()).alias('No_Labor_Checked'),\n",
    "    df.value.substr(401,1).cast(IntegerType()).alias('Fetal_Presentation'),\n",
    "    df.value.substr(402,1).cast(IntegerType()).alias('Final_Route_and_Method_Of_Delivery'),\n",
    "    df.value.substr(403,1).cast(IntegerType()).alias('Trail_Of_Labor_Attempted'),\n",
    "    df.value.substr(407,1).cast(IntegerType()).alias('Delivery_Method_Recode'),\n",
    "    df.value.substr(415,1).cast(StringType()).alias('Maternal_Transfusion'),\n",
    "    df.value.substr(416,1).cast(StringType()).alias('Perineal_Laceration'),\n",
    "    df.value.substr(417,1).cast(StringType()).alias('Ruptured_Uterus'),\n",
    "    df.value.substr(418,1).cast(StringType()).alias('Unplanned_Hysterectomy'),\n",
    "    df.value.substr(419,1).cast(StringType()).alias('Admit_to_Intensive_Care'),\n",
    "    df.value.substr(427,1).cast(IntegerType()).alias('No_Maternal_Morbidity_Checked'),\n",
    "    df.value.substr(433,1).cast(IntegerType()).alias('Attendant'),\n",
    "    df.value.substr(434,1).cast(StringType()).alias('Mother_Transferred'),\n",
    "\n",
    "    \n",
    "    #435 - 870\n",
    "    df.value.substr(435,1).cast(IntegerType()).alias('Payment_Source'),\n",
    "    df.value.substr(436,1).cast(IntegerType()).alias('Payment_Recode'),\n",
    "    df.value.substr(444,2).cast(IntegerType()).alias('Five_Minute_APGAR_Score'),\n",
    "    df.value.substr(446,1).cast(IntegerType()).alias('Five_Minute_APGAR_Recode'),\n",
    "    df.value.substr(448,2).cast(IntegerType()).alias('Ten_Minute_APGAR_Score'),\n",
    "    df.value.substr(450,1).cast(IntegerType()).alias('Ten_Minute_APGAR_Recode'),\n",
    "    df.value.substr(454,1).cast(IntegerType()).alias('Plurality'),\n",
    "    df.value.substr(475,1).cast(StringType()).alias('Sex_Of_Infant'),\n",
    "    df.value.substr(477,2).cast(IntegerType()).alias('Last_Normal_Menses_Month'),\n",
    "    df.value.substr(481,4).cast(IntegerType()).alias('Last_Normal_Menses_Year'),\n",
    "    df.value.substr(489,1).cast(IntegerType()).alias('Obstetric_Estimate_of_Gestation_Used_Flag'),\n",
    "    df.value.substr(490,2).cast(IntegerType()).alias('Combined_Gestation_Detail_in_Weeks'),\n",
    "    df.value.substr(492,1).cast(IntegerType()).alias('Combined_Gestation_Recode_Weeks'),\n",
    "    df.value.substr(509,2).cast(IntegerType()).alias('Birth_Weight_Recode_14'),\n",
    "    df.value.substr(511,1).cast(IntegerType()).alias('Birth_Weight_Recode_4'),\n",
    "    df.value.substr(512,4).cast(IntegerType()).alias('Imputed_Birthwieght'),\n",
    "    #Abnormal Conditions of the Newborn\n",
    "    df.value.substr(517,1).cast(StringType()).alias('Assisted_Ventilation'),\n",
    "    df.value.substr(518,1).cast(StringType()).alias('Assisted_Ventilation_Greater_Than_6_Hours'),\n",
    "    df.value.substr(519,1).cast(StringType()).alias('Admission_to_NICU'),\n",
    "    df.value.substr(520,1).cast(StringType()).alias('Surfactant'),\n",
    "    df.value.substr(521,1).cast(StringType()).alias('Antibiotics'),\n",
    "    df.value.substr(522,1).cast(StringType()).alias('Seizures'),\n",
    "    df.value.substr(531,1).cast(IntegerType()).alias('No_Abnormal_Conditions_Checked'),\n",
    "    #Congenital Anomalies of the Newborn\n",
    "    df.value.substr(537,1).cast(StringType()).alias('Anencephaly'),\n",
    "    df.value.substr(538,1).cast(StringType()).alias('Meningomyelocele_or_Spina_Bifida'),\n",
    "    df.value.substr(539,1).cast(StringType()).alias('Cyanotic_Congenital_Heart_Disease'),\n",
    "    df.value.substr(540,1).cast(StringType()).alias('Congenital_Diaphragmatic_Hernia'),\n",
    "    df.value.substr(541,1).cast(StringType()).alias('Omphalocele'),\n",
    "    df.value.substr(542,1).cast(StringType()).alias('Gastroschisis'),\n",
    "    df.value.substr(549,1).cast(StringType()).alias('Limb_Reduction_Defect'),\n",
    "    df.value.substr(550,1).cast(StringType()).alias('Cleft_Lip_w_or_wo_Cleft_Palate'),\n",
    "    df.value.substr(551,1).cast(StringType()).alias('Cleft_Palate_alone'),\n",
    "    df.value.substr(553,1).cast(StringType()).alias('Suspected_Chromosomal_Disorder'),\n",
    "    df.value.substr(554,1).cast(StringType()).alias('Hypospadias'),\n",
    "    df.value.substr(561,1).cast(IntegerType()).alias('No_Congenital_Anomalies_Checked'),\n",
    "    df.value.substr(568,1).cast(StringType()).alias('Infant_Living_at_Time_of_Report'),\n",
    "    df.value.substr(569,1).cast(StringType()).alias('Infant_Being_Breastfed'), \n",
    "    #\n",
    "    #1330 - 1743\n",
    "    df.value.substr(1331,1).cast(IntegerType()).alias('Diabetes'),\n",
    "    df.value.substr(1332,1).cast(IntegerType()).alias('Chronic_Hypertension'),\n",
    "    df.value.substr(1333,1).cast(IntegerType()).alias('Prepregnacy_Associated_Hypertension'),\n",
    "    df.value.substr(1334,1).cast(IntegerType()).alias('Eclampsia'),\n",
    "    df.value.substr(1335,1).cast(IntegerType()).alias('Forceps'),\n",
    "    df.value.substr(1336,1).cast(IntegerType()).alias('Vacuum'),\n",
    "    df.value.substr(1337,1).cast(IntegerType()).alias('Induction_of_Labor1'),\n",
    "    df.value.substr(1338,1).cast(IntegerType()).alias('Breech1'),\n",
    "    df.value.substr(1341,1).cast(IntegerType()).alias('Spina_Bifida_Meningocele1'),\n",
    "    df.value.substr(1342,1).cast(IntegerType()).alias('Omphalocele_Gastroschisis1'),\n",
    "    \n",
    "    df.value.substr(1343,1).cast(IntegerType()).alias('Cleft_Lip_Palate1'), \n",
    "    df.value.substr(1344,1).cast(IntegerType()).alias('Diaphragmatic_Herni1a'),\n",
    "    df.value.substr(1345,1).cast(IntegerType()).alias('Down_Syndrome1'),\n",
    "    df.value.substr(1356,3).cast(IntegerType()).alias('Age_at_Death_in_Days'),\n",
    "    df.value.substr(1359,1).cast(IntegerType()).alias('Infant_age_recode_5'),\n",
    "    df.value.substr(1360,2).cast(IntegerType()).alias('Infant_age_recode_22'), \n",
    "    df.value.substr(1362,1).cast(IntegerType()).alias('Manner_of_Death'),\n",
    "    \n",
    "    df.value.substr(1366,1).cast(IntegerType()).alias('Place_of_injury_for_causes_W00_Y34_except_Y06'),\n",
    "    df.value.substr(1368,4).cast(StringType()).alias('ICD10'), #underlying cause of death - this is used to determine the LABEL for ML\n",
    "    df.value.substr(1671,1).cast(IntegerType()).alias('Day_of_Week_of_Death'),\n",
    "    df.value.substr(1672,4).cast(IntegerType()).alias('Data_Year'),\n",
    "    df.value.substr(1742,1).cast(IntegerType()).alias('Month_of_Death')\n",
    "    \n",
    "    \n",
    ").withColumn(\"id\", monotonically_increasing_id())\n",
    "\n",
    "pndf.printSchema()\n",
    "pndf = pndf.na.fill({'Num_Prev_Cesareans': 0.0})\n",
    "\n",
    "# derive the infant_living column from ICD10 - must for ML prediction\n",
    "pndf = pndf.withColumn(\"Infant_Living\", blank_as_Y(\"ICD10\")) # dervied 0/1 label  # 1 == alive, 0 == demised for ICD10\n",
    "print(\"number of features \", len(df.columns))"
   ]
  },
  {
   "cell_type": "code",
   "execution_count": 6,
   "metadata": {},
   "outputs": [
    {
     "name": "stdout",
     "output_type": "stream",
     "text": [
      "2229\n",
      "+-------+-----+\n",
      "|summary|ICD10|\n",
      "+-------+-----+\n",
      "|  count| 5138|\n",
      "|   mean| null|\n",
      "| stddev| null|\n",
      "|    min|     |\n",
      "|    max| Y839|\n",
      "+-------+-----+\n",
      "\n",
      "# Infants Living >>  574\n"
     ]
    }
   ],
   "source": [
    "print(pndf.filter(pndf['Infant_Living_at_Time_of_Report']!='Y').count())\n",
    "pndf.describe(['ICD10']).show()\n",
    "print(\"# Infants Living >> \",pndf.filter(pndf['Infant_Living']=='Y').count())"
   ]
  },
  {
   "cell_type": "code",
   "execution_count": 7,
   "metadata": {},
   "outputs": [
    {
     "name": "stdout",
     "output_type": "stream",
     "text": [
      "Before cleanup count of PNDF  5138\n",
      "After fill count of PNDF  5138\n",
      "After cleanup count of PNDF  5138\n"
     ]
    },
    {
     "data": {
      "text/plain": [
       "[Row(Birth_Year=2013, Birth_Month=11, Time_of_Birth=2156, Birth_DOW=5, Birth_Place=1, Facility_Recode=1, Mothers_Age_Recode=29, Mothers_Nativity=1, Residence_Status=1, Mothers_Race=None, Bridge_Race_Mother=1, Mothers_Hispanic_Origin_Recode=0, Paternity_Ack=None, Marital_Status=1, Mothers_Education=6, Fathers_Age=32, Fathers_Age_Recode=5, Fathers_Race_Recode=None, Bridge_Race_Father=1, Fathers_Hispanic_Origin_Recode=0, Fathers_Education=4, Prior_Births_Living=2, Prior_Births_Dead=0, Prior_Other_Terminations=0, Live_Birth_Order_Recode=3, Total_Birth_Order_Recode=3, Interval_Last_Live_Birth_Recode=31, Interval_Last_Live_Birth_Recode11=4, Interval_Last_Other_Pregnancy_Recode=888, Interval_Last_Other_Pregnancy_Recode11=88, Interval_Last_Pregnancy_Recode=31, Interval_Last_Pregnancy_Recode11=4, Num_Prenatal_Visits=13, Num_Prenatal_Visits_Recode=8, Cigarettes_Before_Pregnancy=0, Cigarettes_1st_Trimester=0, Cigarettes_2nd_Trimester=0, Cigarettes_3rd_Trimester=0, Cigarettes_Before_Pregnancy_Recode=None, Cigarettes_1st_Trimester_Recode=None, Cigarettes_2nd_Trimester_Recode=None, Cigarettes_3rd_Trimester_Recode=None, Mothers_Height_Inches=68, BMI_Recode=2, Pre_Pregnancy_Weight_Recode=155, Delivery_Weight_Recode=193, Weight_Gain=38, Weight_Gain_Recode=4, Pre_Pregnancy_Diabetes='N', Gestational_Diabetes='N', Pre_Pregnancy_Hypertension='N', Gestational_Hypertension='N', Hypertension_Eclmapsia='N', Previous_Preterm_Birth='N', Infertility_Treatment='N', Fertility_Enhancing_Drugs='X', Assistive_Reproductive_Technology='X', Prev_Cesareans='N', Num_Prev_Cesareans=0, No_Risk_Factors_Checked='1', Gonorrhea='N', Syphillis='N', Chlamydia='N', HepatitisB='N', HepatitisC='N', No_Infections_Checked='1', Sucessful_External_Cephalic_Version='N', Failed_External_Cephalic_Version='N', Induction_Of_Labor='N', Augmentation_Of_Labor='N', Steroids_Mother='N', Antibiotics_Mother='N', Chorioamnionitis_Mother='N', Anesthesia_Mother='N', No_Labor_Checked='1', Fetal_Presentation=1, Final_Route_and_Method_Of_Delivery=1, Trail_Of_Labor_Attempted=None, Delivery_Method_Recode=1, Maternal_Transfusion='N', Perineal_Laceration='N', Ruptured_Uterus='N', Unplanned_Hysterectomy='N', Admit_to_Intensive_Care='N', No_Maternal_Morbidity_Checked=1, Attendant=3, Mother_Transferred='N', Payment_Source=5, Payment_Recode=4, Five_Minute_APGAR_Score=9, Five_Minute_APGAR_Recode=4, Ten_Minute_APGAR_Score=88, Ten_Minute_APGAR_Recode=5, Plurality=1, Sex_Of_Infant='F', Last_Normal_Menses_Month=1, Last_Normal_Menses_Year=2013, Obstetric_Estimate_of_Gestation_Used_Flag=None, Combined_Gestation_Detail_in_Weeks=40, Combined_Gestation_Recode_Weeks=0, Birth_Weight_Recode_14=10, Birth_Weight_Recode_4=3, Imputed_Birthwieght=3799, Assisted_Ventilation='N', Assisted_Ventilation_Greater_Than_6_Hours='N', Admission_to_NICU='N', Surfactant='N', Antibiotics='N', Seizures='N', No_Abnormal_Conditions_Checked=1, Anencephaly='N', Meningomyelocele_or_Spina_Bifida='N', Cyanotic_Congenital_Heart_Disease='N', Congenital_Diaphragmatic_Hernia='N', Omphalocele='N', Gastroschisis='N', Limb_Reduction_Defect='N', Cleft_Lip_w_or_wo_Cleft_Palate='N', Cleft_Palate_alone='N', Suspected_Chromosomal_Disorder='N', Hypospadias='N', No_Congenital_Anomalies_Checked=1, Infant_Living_at_Time_of_Report='Y', Infant_Being_Breastfed='U', Diabetes=2, Chronic_Hypertension=2, Prepregnacy_Associated_Hypertension=2, Eclampsia=2, Forceps=2, Vacuum=2, Induction_of_Labor1=2, Breech1=2, Spina_Bifida_Meningocele1=2, Omphalocele_Gastroschisis1=2, Cleft_Lip_Palate1=2, Diaphragmatic_Herni1a=2, Down_Syndrome1=2, Age_at_Death_in_Days=108, Infant_age_recode_5=5, Infant_age_recode_22=14, Manner_of_Death=7, Place_of_injury_for_causes_W00_Y34_except_Y06=None, ICD10='G129', Day_of_Week_of_Death=1, Data_Year=2014, Month_of_Death=0, id=0, Infant_Living='N', No_Labor_Checked_numeric=1.0, Sex_Of_Infant_numeric=1.0, Gestational_Diabetes_numeric=0.0, Cleft_Lip_w_or_wo_Cleft_Palate_numeric=0.0, Chorioamnionitis_Mother_numeric=0.0, Chlamydia_numeric=0.0, Gestational_Hypertension_numeric=0.0, Omphalocele_numeric=0.0, No_Infections_Checked_numeric=0.0, Admission_to_NICU_numeric=0.0, Anencephaly_numeric=0.0, Infertility_Treatment_numeric=0.0, Seizures_numeric=0.0, Infant_Being_Breastfed_numeric=2.0, Steroids_Mother_numeric=0.0, Fertility_Enhancing_Drugs_numeric=0.0, Unplanned_Hysterectomy_numeric=0.0, Cyanotic_Congenital_Heart_Disease_numeric=0.0, Prev_Cesareans_numeric=0.0, Anesthesia_Mother_numeric=0.0, Surfactant_numeric=0.0, Previous_Preterm_Birth_numeric=0.0, Mother_Transferred_numeric=0.0, Assisted_Ventilation_Greater_Than_6_Hours_numeric=0.0, Failed_External_Cephalic_Version_numeric=0.0, Gonorrhea_numeric=0.0, Augmentation_Of_Labor_numeric=0.0, Admit_to_Intensive_Care_numeric=0.0, Limb_Reduction_Defect_numeric=0.0, Cleft_Palate_alone_numeric=0.0, Antibiotics_Mother_numeric=0.0, Pre_Pregnancy_Diabetes_numeric=0.0, Assisted_Ventilation_numeric=0.0, Antibiotics_numeric=0.0, Hypospadias_numeric=0.0, Meningomyelocele_or_Spina_Bifida_numeric=0.0, HepatitisB_numeric=0.0, Perineal_Laceration_numeric=0.0, Ruptured_Uterus_numeric=0.0, Infant_Living_at_Time_of_Report_numeric=0.0, Assistive_Reproductive_Technology_numeric=0.0, Sucessful_External_Cephalic_Version_numeric=0.0, Maternal_Transfusion_numeric=0.0, Induction_Of_Labor_numeric=0.0, Congenital_Diaphragmatic_Hernia_numeric=0.0, Gastroschisis_numeric=0.0, Suspected_Chromosomal_Disorder_numeric=0.0, No_Risk_Factors_Checked_numeric=0.0, Hypertension_Eclmapsia_numeric=0.0, Infant_Living_numeric=0.0, HepatitisC_numeric=0.0, Syphillis_numeric=0.0, ICD10_numeric=60.0, Pre_Pregnancy_Hypertension_numeric=0.0, label=0.0)]"
      ]
     },
     "execution_count": 7,
     "metadata": {},
     "output_type": "execute_result"
    }
   ],
   "source": [
    "from pyspark.ml.feature import StringIndexer\n",
    "from pyspark.ml import Pipeline\n",
    "\n",
    "print(\"Before cleanup count of PNDF \",pndf.count())\n",
    "pndf = pndf.na.fill(\"NA\") #pndf.na.fill(\"0.0\") pndf.na.drop()\n",
    "print(\"After fill count of PNDF \",pndf.count())\n",
    "\n",
    "# String Indexer .setHandleInvalid(\"keep\")\n",
    "stringColumns = ['Pre_Pregnancy_Diabetes','Gestational_Diabetes','Pre_Pregnancy_Hypertension', 'Gestational_Hypertension',\\\n",
    "                'Hypertension_Eclmapsia','Previous_Preterm_Birth','Infertility_Treatment','Fertility_Enhancing_Drugs',\\\n",
    "                'Assistive_Reproductive_Technology', 'Prev_Cesareans','No_Risk_Factors_Checked','Sex_Of_Infant','Assisted_Ventilation',\\\n",
    "                'Assisted_Ventilation_Greater_Than_6_Hours', 'Admission_to_NICU','Surfactant','Antibiotics','Seizures','Anencephaly',\\\n",
    "                'Meningomyelocele_or_Spina_Bifida','Cyanotic_Congenital_Heart_Disease','Congenital_Diaphragmatic_Hernia',\\\n",
    "                'Omphalocele','Gastroschisis','Limb_Reduction_Defect','Cleft_Lip_w_or_wo_Cleft_Palate','Cleft_Palate_alone',\\\n",
    "                'Suspected_Chromosomal_Disorder','Hypospadias','Infant_Living_at_Time_of_Report','Infant_Being_Breastfed',\\\n",
    "                 'Gonorrhea','Syphillis','Chlamydia','HepatitisB','HepatitisC','No_Infections_Checked','Sucessful_External_Cephalic_Version',\\\n",
    "                 'Failed_External_Cephalic_Version','Induction_Of_Labor','Augmentation_Of_Labor','Steroids_Mother','Antibiotics_Mother','Chorioamnionitis_Mother',\\\n",
    "                 'Anesthesia_Mother','No_Labor_Checked','Maternal_Transfusion','Perineal_Laceration','Ruptured_Uterus','Unplanned_Hysterectomy',\\\n",
    "                 'Admit_to_Intensive_Care','Mother_Transferred','ICD10', 'Infant_Living']\n",
    "indexers = [StringIndexer(inputCol=column, outputCol=column+\"_numeric\").fit(pndf) for column in list(  set(stringColumns)) ]\n",
    "label_stringIndexer = StringIndexer(inputCol=\"Infant_Living\", outputCol='label') # TODO Change to 'Infant_Living' after fixing cleanup\n",
    "indexers.append(label_stringIndexer)\n",
    "\n",
    "pipeline = Pipeline(stages=indexers)\n",
    "pndf = pipeline.fit(pndf).transform(pndf)\n",
    "print(\"After cleanup count of PNDF \",pndf.count())\n",
    "pndf.head(1)\n"
   ]
  },
  {
   "cell_type": "code",
   "execution_count": 8,
   "metadata": {},
   "outputs": [
    {
     "data": {
      "text/plain": [
       "Row(Birth_Year=2013, Birth_Month=11, Time_of_Birth=2156, Birth_DOW=5, Birth_Place=1, Facility_Recode=1, Mothers_Age_Recode=29, Mothers_Nativity=1, Residence_Status=1, Mothers_Race=-1, Bridge_Race_Mother=1, Mothers_Hispanic_Origin_Recode=0, Paternity_Ack=-1, Marital_Status=1, Mothers_Education=6, Fathers_Age=32, Fathers_Age_Recode=5, Fathers_Race_Recode=-1, Bridge_Race_Father=1, Fathers_Hispanic_Origin_Recode=0, Fathers_Education=4, Prior_Births_Living=2, Prior_Births_Dead=0, Prior_Other_Terminations=0, Live_Birth_Order_Recode=3, Total_Birth_Order_Recode=3, Interval_Last_Live_Birth_Recode=31, Interval_Last_Live_Birth_Recode11=4, Interval_Last_Other_Pregnancy_Recode=888, Interval_Last_Other_Pregnancy_Recode11=88, Interval_Last_Pregnancy_Recode=31, Interval_Last_Pregnancy_Recode11=4, Num_Prenatal_Visits=13, Num_Prenatal_Visits_Recode=8, Cigarettes_Before_Pregnancy=0, Cigarettes_1st_Trimester=0, Cigarettes_2nd_Trimester=0, Cigarettes_3rd_Trimester=0, Cigarettes_Before_Pregnancy_Recode=-1, Cigarettes_1st_Trimester_Recode=-1, Cigarettes_2nd_Trimester_Recode=-1, Cigarettes_3rd_Trimester_Recode=-1, Mothers_Height_Inches=68, BMI_Recode=2, Pre_Pregnancy_Weight_Recode=155, Delivery_Weight_Recode=193, Weight_Gain=38, Weight_Gain_Recode=4, Pre_Pregnancy_Diabetes='N', Gestational_Diabetes='N', Pre_Pregnancy_Hypertension='N', Gestational_Hypertension='N', Hypertension_Eclmapsia='N', Previous_Preterm_Birth='N', Infertility_Treatment='N', Fertility_Enhancing_Drugs='X', Assistive_Reproductive_Technology='X', Prev_Cesareans='N', Num_Prev_Cesareans=0, No_Risk_Factors_Checked='1', Gonorrhea='N', Syphillis='N', Chlamydia='N', HepatitisB='N', HepatitisC='N', No_Infections_Checked='1', Sucessful_External_Cephalic_Version='N', Failed_External_Cephalic_Version='N', Induction_Of_Labor='N', Augmentation_Of_Labor='N', Steroids_Mother='N', Antibiotics_Mother='N', Chorioamnionitis_Mother='N', Anesthesia_Mother='N', No_Labor_Checked='1', Fetal_Presentation=1, Final_Route_and_Method_Of_Delivery=1, Trail_Of_Labor_Attempted=-1, Delivery_Method_Recode=1, Maternal_Transfusion='N', Perineal_Laceration='N', Ruptured_Uterus='N', Unplanned_Hysterectomy='N', Admit_to_Intensive_Care='N', No_Maternal_Morbidity_Checked=1, Attendant=3, Mother_Transferred='N', Payment_Source=5, Payment_Recode=4, Five_Minute_APGAR_Score=9, Five_Minute_APGAR_Recode=4, Ten_Minute_APGAR_Score=88, Ten_Minute_APGAR_Recode=5, Plurality=1, Sex_Of_Infant='F', Last_Normal_Menses_Month=1, Last_Normal_Menses_Year=2013, Obstetric_Estimate_of_Gestation_Used_Flag=-1, Combined_Gestation_Detail_in_Weeks=40, Combined_Gestation_Recode_Weeks=0, Birth_Weight_Recode_14=10, Birth_Weight_Recode_4=3, Imputed_Birthwieght=3799, Assisted_Ventilation='N', Assisted_Ventilation_Greater_Than_6_Hours='N', Admission_to_NICU='N', Surfactant='N', Antibiotics='N', Seizures='N', No_Abnormal_Conditions_Checked=1, Anencephaly='N', Meningomyelocele_or_Spina_Bifida='N', Cyanotic_Congenital_Heart_Disease='N', Congenital_Diaphragmatic_Hernia='N', Omphalocele='N', Gastroschisis='N', Limb_Reduction_Defect='N', Cleft_Lip_w_or_wo_Cleft_Palate='N', Cleft_Palate_alone='N', Suspected_Chromosomal_Disorder='N', Hypospadias='N', No_Congenital_Anomalies_Checked=1, Infant_Living_at_Time_of_Report='Y', Infant_Being_Breastfed='U', Diabetes=2, Chronic_Hypertension=2, Prepregnacy_Associated_Hypertension=2, Eclampsia=2, Forceps=2, Vacuum=2, Induction_of_Labor1=2, Breech1=2, Spina_Bifida_Meningocele1=2, Omphalocele_Gastroschisis1=2, Cleft_Lip_Palate1=2, Diaphragmatic_Herni1a=2, Down_Syndrome1=2, Age_at_Death_in_Days=108, Infant_age_recode_5=5, Infant_age_recode_22=14, Manner_of_Death=7, Place_of_injury_for_causes_W00_Y34_except_Y06=-1, ICD10='G129', Day_of_Week_of_Death=1, Data_Year=2014, Month_of_Death=0, id=0, Infant_Living='N', No_Labor_Checked_numeric=1.0, Sex_Of_Infant_numeric=1.0, Gestational_Diabetes_numeric=0.0, Cleft_Lip_w_or_wo_Cleft_Palate_numeric=0.0, Chorioamnionitis_Mother_numeric=0.0, Chlamydia_numeric=0.0, Gestational_Hypertension_numeric=0.0, Omphalocele_numeric=0.0, No_Infections_Checked_numeric=0.0, Admission_to_NICU_numeric=0.0, Anencephaly_numeric=0.0, Infertility_Treatment_numeric=0.0, Seizures_numeric=0.0, Infant_Being_Breastfed_numeric=2.0, Steroids_Mother_numeric=0.0, Fertility_Enhancing_Drugs_numeric=0.0, Unplanned_Hysterectomy_numeric=0.0, Cyanotic_Congenital_Heart_Disease_numeric=0.0, Prev_Cesareans_numeric=0.0, Anesthesia_Mother_numeric=0.0, Surfactant_numeric=0.0, Previous_Preterm_Birth_numeric=0.0, Mother_Transferred_numeric=0.0, Assisted_Ventilation_Greater_Than_6_Hours_numeric=0.0, Failed_External_Cephalic_Version_numeric=0.0, Gonorrhea_numeric=0.0, Augmentation_Of_Labor_numeric=0.0, Admit_to_Intensive_Care_numeric=0.0, Limb_Reduction_Defect_numeric=0.0, Cleft_Palate_alone_numeric=0.0, Antibiotics_Mother_numeric=0.0, Pre_Pregnancy_Diabetes_numeric=0.0, Assisted_Ventilation_numeric=0.0, Antibiotics_numeric=0.0, Hypospadias_numeric=0.0, Meningomyelocele_or_Spina_Bifida_numeric=0.0, HepatitisB_numeric=0.0, Perineal_Laceration_numeric=0.0, Ruptured_Uterus_numeric=0.0, Infant_Living_at_Time_of_Report_numeric=0.0, Assistive_Reproductive_Technology_numeric=0.0, Sucessful_External_Cephalic_Version_numeric=0.0, Maternal_Transfusion_numeric=0.0, Induction_Of_Labor_numeric=0.0, Congenital_Diaphragmatic_Hernia_numeric=0.0, Gastroschisis_numeric=0.0, Suspected_Chromosomal_Disorder_numeric=0.0, No_Risk_Factors_Checked_numeric=0.0, Hypertension_Eclmapsia_numeric=0.0, Infant_Living_numeric=0.0, HepatitisC_numeric=0.0, Syphillis_numeric=0.0, ICD10_numeric=60.0, Pre_Pregnancy_Hypertension_numeric=0.0, label=0.0, features=SparseVector(146, {0: 2013.0, 1: 11.0, 2: 2156.0, 3: 5.0, 4: 1.0, 5: 1.0, 6: 29.0, 7: 1.0, 8: 1.0, 9: -1.0, 10: 1.0, 12: -1.0, 13: 1.0, 14: 6.0, 15: 32.0, 16: 5.0, 17: -1.0, 18: 1.0, 20: 4.0, 21: 2.0, 24: 3.0, 25: 3.0, 26: 31.0, 27: 4.0, 28: 888.0, 29: 88.0, 30: 31.0, 31: 4.0, 32: 13.0, 33: 8.0, 38: -1.0, 39: -1.0, 40: -1.0, 41: -1.0, 42: 68.0, 43: 2.0, 44: 155.0, 45: 193.0, 46: 38.0, 47: 4.0, 49: 1.0, 50: 1.0, 51: -1.0, 52: 1.0, 53: 1.0, 54: 3.0, 55: 5.0, 56: 4.0, 57: 9.0, 58: 4.0, 59: 88.0, 60: 5.0, 61: 1.0, 62: 1.0, 63: 2013.0, 64: -1.0, 65: 40.0, 67: 10.0, 68: 3.0, 69: 3799.0, 70: 1.0, 71: 1.0, 72: 2.0, 73: 2.0, 74: 2.0, 75: 2.0, 76: 2.0, 77: 2.0, 78: 2.0, 79: 2.0, 80: 2.0, 81: 2.0, 82: 2.0, 83: 2.0, 84: 2.0, 85: 108.0, 86: 5.0, 87: 14.0, 88: 7.0, 89: -1.0, 90: 1.0, 91: 2014.0, 94: 1.0, 95: 1.0, 107: 2.0, 144: 60.0}))"
      ]
     },
     "execution_count": 8,
     "metadata": {},
     "output_type": "execute_result"
    }
   ],
   "source": [
    "from pyspark.ml.feature import VectorAssembler\n",
    "\n",
    "pca_cols = pndf.columns\n",
    "pca_cols = [e for e in pca_cols if e not in stringColumns]\n",
    "no_label_pca_cols = [e for e in pca_cols if e not in ['Infant_Living_at_Time_of_Report_numeric','Infant_Living_at_Time_of_Report',\\\n",
    "                                                    'Infant_Living','Infant_Living_numeric','label']] #removed labels\n",
    "\n",
    "assembler = VectorAssembler(inputCols=no_label_pca_cols, outputCol='features' )\n",
    "vector_df = assembler.transform(pndf.na.fill(-1.0)) #pndf.na.drop()\n",
    "vector_df.head()"
   ]
  },
  {
   "cell_type": "markdown",
   "metadata": {},
   "source": [
    "### Scaling and Normalization"
   ]
  },
  {
   "cell_type": "code",
   "execution_count": 9,
   "metadata": {},
   "outputs": [
    {
     "data": {
      "text/plain": [
       "Row(Birth_Year=2013, Birth_Month=11, Time_of_Birth=2156, Birth_DOW=5, Birth_Place=1, Facility_Recode=1, Mothers_Age_Recode=29, Mothers_Nativity=1, Residence_Status=1, Mothers_Race=-1, Bridge_Race_Mother=1, Mothers_Hispanic_Origin_Recode=0, Paternity_Ack=-1, Marital_Status=1, Mothers_Education=6, Fathers_Age=32, Fathers_Age_Recode=5, Fathers_Race_Recode=-1, Bridge_Race_Father=1, Fathers_Hispanic_Origin_Recode=0, Fathers_Education=4, Prior_Births_Living=2, Prior_Births_Dead=0, Prior_Other_Terminations=0, Live_Birth_Order_Recode=3, Total_Birth_Order_Recode=3, Interval_Last_Live_Birth_Recode=31, Interval_Last_Live_Birth_Recode11=4, Interval_Last_Other_Pregnancy_Recode=888, Interval_Last_Other_Pregnancy_Recode11=88, Interval_Last_Pregnancy_Recode=31, Interval_Last_Pregnancy_Recode11=4, Num_Prenatal_Visits=13, Num_Prenatal_Visits_Recode=8, Cigarettes_Before_Pregnancy=0, Cigarettes_1st_Trimester=0, Cigarettes_2nd_Trimester=0, Cigarettes_3rd_Trimester=0, Cigarettes_Before_Pregnancy_Recode=-1, Cigarettes_1st_Trimester_Recode=-1, Cigarettes_2nd_Trimester_Recode=-1, Cigarettes_3rd_Trimester_Recode=-1, Mothers_Height_Inches=68, BMI_Recode=2, Pre_Pregnancy_Weight_Recode=155, Delivery_Weight_Recode=193, Weight_Gain=38, Weight_Gain_Recode=4, Pre_Pregnancy_Diabetes='N', Gestational_Diabetes='N', Pre_Pregnancy_Hypertension='N', Gestational_Hypertension='N', Hypertension_Eclmapsia='N', Previous_Preterm_Birth='N', Infertility_Treatment='N', Fertility_Enhancing_Drugs='X', Assistive_Reproductive_Technology='X', Prev_Cesareans='N', Num_Prev_Cesareans=0, No_Risk_Factors_Checked='1', Gonorrhea='N', Syphillis='N', Chlamydia='N', HepatitisB='N', HepatitisC='N', No_Infections_Checked='1', Sucessful_External_Cephalic_Version='N', Failed_External_Cephalic_Version='N', Induction_Of_Labor='N', Augmentation_Of_Labor='N', Steroids_Mother='N', Antibiotics_Mother='N', Chorioamnionitis_Mother='N', Anesthesia_Mother='N', No_Labor_Checked='1', Fetal_Presentation=1, Final_Route_and_Method_Of_Delivery=1, Trail_Of_Labor_Attempted=-1, Delivery_Method_Recode=1, Maternal_Transfusion='N', Perineal_Laceration='N', Ruptured_Uterus='N', Unplanned_Hysterectomy='N', Admit_to_Intensive_Care='N', No_Maternal_Morbidity_Checked=1, Attendant=3, Mother_Transferred='N', Payment_Source=5, Payment_Recode=4, Five_Minute_APGAR_Score=9, Five_Minute_APGAR_Recode=4, Ten_Minute_APGAR_Score=88, Ten_Minute_APGAR_Recode=5, Plurality=1, Sex_Of_Infant='F', Last_Normal_Menses_Month=1, Last_Normal_Menses_Year=2013, Obstetric_Estimate_of_Gestation_Used_Flag=-1, Combined_Gestation_Detail_in_Weeks=40, Combined_Gestation_Recode_Weeks=0, Birth_Weight_Recode_14=10, Birth_Weight_Recode_4=3, Imputed_Birthwieght=3799, Assisted_Ventilation='N', Assisted_Ventilation_Greater_Than_6_Hours='N', Admission_to_NICU='N', Surfactant='N', Antibiotics='N', Seizures='N', No_Abnormal_Conditions_Checked=1, Anencephaly='N', Meningomyelocele_or_Spina_Bifida='N', Cyanotic_Congenital_Heart_Disease='N', Congenital_Diaphragmatic_Hernia='N', Omphalocele='N', Gastroschisis='N', Limb_Reduction_Defect='N', Cleft_Lip_w_or_wo_Cleft_Palate='N', Cleft_Palate_alone='N', Suspected_Chromosomal_Disorder='N', Hypospadias='N', No_Congenital_Anomalies_Checked=1, Infant_Living_at_Time_of_Report='Y', Infant_Being_Breastfed='U', Diabetes=2, Chronic_Hypertension=2, Prepregnacy_Associated_Hypertension=2, Eclampsia=2, Forceps=2, Vacuum=2, Induction_of_Labor1=2, Breech1=2, Spina_Bifida_Meningocele1=2, Omphalocele_Gastroschisis1=2, Cleft_Lip_Palate1=2, Diaphragmatic_Herni1a=2, Down_Syndrome1=2, Age_at_Death_in_Days=108, Infant_age_recode_5=5, Infant_age_recode_22=14, Manner_of_Death=7, Place_of_injury_for_causes_W00_Y34_except_Y06=-1, ICD10='G129', Day_of_Week_of_Death=1, Data_Year=2014, Month_of_Death=0, id=0, Infant_Living='N', No_Labor_Checked_numeric=1.0, Sex_Of_Infant_numeric=1.0, Gestational_Diabetes_numeric=0.0, Cleft_Lip_w_or_wo_Cleft_Palate_numeric=0.0, Chorioamnionitis_Mother_numeric=0.0, Chlamydia_numeric=0.0, Gestational_Hypertension_numeric=0.0, Omphalocele_numeric=0.0, No_Infections_Checked_numeric=0.0, Admission_to_NICU_numeric=0.0, Anencephaly_numeric=0.0, Infertility_Treatment_numeric=0.0, Seizures_numeric=0.0, Infant_Being_Breastfed_numeric=2.0, Steroids_Mother_numeric=0.0, Fertility_Enhancing_Drugs_numeric=0.0, Unplanned_Hysterectomy_numeric=0.0, Cyanotic_Congenital_Heart_Disease_numeric=0.0, Prev_Cesareans_numeric=0.0, Anesthesia_Mother_numeric=0.0, Surfactant_numeric=0.0, Previous_Preterm_Birth_numeric=0.0, Mother_Transferred_numeric=0.0, Assisted_Ventilation_Greater_Than_6_Hours_numeric=0.0, Failed_External_Cephalic_Version_numeric=0.0, Gonorrhea_numeric=0.0, Augmentation_Of_Labor_numeric=0.0, Admit_to_Intensive_Care_numeric=0.0, Limb_Reduction_Defect_numeric=0.0, Cleft_Palate_alone_numeric=0.0, Antibiotics_Mother_numeric=0.0, Pre_Pregnancy_Diabetes_numeric=0.0, Assisted_Ventilation_numeric=0.0, Antibiotics_numeric=0.0, Hypospadias_numeric=0.0, Meningomyelocele_or_Spina_Bifida_numeric=0.0, HepatitisB_numeric=0.0, Perineal_Laceration_numeric=0.0, Ruptured_Uterus_numeric=0.0, Infant_Living_at_Time_of_Report_numeric=0.0, Assistive_Reproductive_Technology_numeric=0.0, Sucessful_External_Cephalic_Version_numeric=0.0, Maternal_Transfusion_numeric=0.0, Induction_Of_Labor_numeric=0.0, Congenital_Diaphragmatic_Hernia_numeric=0.0, Gastroschisis_numeric=0.0, Suspected_Chromosomal_Disorder_numeric=0.0, No_Risk_Factors_Checked_numeric=0.0, Hypertension_Eclmapsia_numeric=0.0, Infant_Living_numeric=0.0, HepatitisC_numeric=0.0, Syphillis_numeric=0.0, ICD10_numeric=60.0, Pre_Pregnancy_Hypertension_numeric=0.0, label=0.0, features=SparseVector(146, {0: 2013.0, 1: 11.0, 2: 2156.0, 3: 5.0, 4: 1.0, 5: 1.0, 6: 29.0, 7: 1.0, 8: 1.0, 9: -1.0, 10: 1.0, 12: -1.0, 13: 1.0, 14: 6.0, 15: 32.0, 16: 5.0, 17: -1.0, 18: 1.0, 20: 4.0, 21: 2.0, 24: 3.0, 25: 3.0, 26: 31.0, 27: 4.0, 28: 888.0, 29: 88.0, 30: 31.0, 31: 4.0, 32: 13.0, 33: 8.0, 38: -1.0, 39: -1.0, 40: -1.0, 41: -1.0, 42: 68.0, 43: 2.0, 44: 155.0, 45: 193.0, 46: 38.0, 47: 4.0, 49: 1.0, 50: 1.0, 51: -1.0, 52: 1.0, 53: 1.0, 54: 3.0, 55: 5.0, 56: 4.0, 57: 9.0, 58: 4.0, 59: 88.0, 60: 5.0, 61: 1.0, 62: 1.0, 63: 2013.0, 64: -1.0, 65: 40.0, 67: 10.0, 68: 3.0, 69: 3799.0, 70: 1.0, 71: 1.0, 72: 2.0, 73: 2.0, 74: 2.0, 75: 2.0, 76: 2.0, 77: 2.0, 78: 2.0, 79: 2.0, 80: 2.0, 81: 2.0, 82: 2.0, 83: 2.0, 84: 2.0, 85: 108.0, 86: 5.0, 87: 14.0, 88: 7.0, 89: -1.0, 90: 1.0, 91: 2014.0, 94: 1.0, 95: 1.0, 107: 2.0, 144: 60.0}), scaledFeatures=SparseVector(146, {0: 6606.5971, 1: 3.3498, 2: 2.9823, 3: 2.6182, 4: 1.6669, 5: 7.5721, 6: 4.5709, 7: 2.3035, 8: 1.7708, 9: -0.5248, 10: 1.3075, 12: -0.0, 13: 2.0011, 14: 2.8989, 15: 1.0617, 16: 1.707, 17: -0.0236, 18: 0.2861, 20: 1.3975, 21: 0.2446, 24: 1.9134, 25: 1.5313, 26: 0.0725, 27: 0.0944, 28: 2.4626, 29: 2.4509, 30: 0.0697, 31: 0.091, 32: 0.5454, 33: 2.7403, 38: -0.8017, 39: -0.8477, 40: -0.8758, 41: -0.8776, 42: 5.0324, 43: 0.9578, 44: 0.7444, 45: 1.0753, 46: 1.4354, 47: 1.8209, 49: 0.6677, 50: 0.6379, 51: -0.0, 52: 0.7737, 53: 1.4331, 54: 3.9912, 55: 3.0879, 56: 3.1163, 57: 0.5329, 58: 2.9788, 59: 2.0452, 60: 2.546, 61: 2.3767, 62: 0.0367, 63: 0.8794, 64: -1.5763, 65: 4.0223, 67: 2.8554, 68: 3.2167, 69: 2.7039, 70: 0.9898, 71: 0.8826, 72: 3.5159, 73: 3.6566, 74: 3.5272, 75: 3.8416, 76: 6.2819, 77: 6.0957, 78: 3.4113, 79: 1.5219, 80: 2.0658, 81: 2.0615, 82: 2.0498, 83: 2.0594, 84: 2.0623, 85: 1.5372, 86: 2.5779, 87: 2.2625, 88: 2.0613, 89: -1.0726, 90: 0.4062, 91: 3.1725, 94: 1.786, 95: 2.0147, 107: 2.3014, 144: 0.7573}))"
      ]
     },
     "execution_count": 9,
     "metadata": {},
     "output_type": "execute_result"
    }
   ],
   "source": [
    "from pyspark.ml.feature import StandardScaler\n",
    "scaler = StandardScaler(inputCol='features', \n",
    "                        outputCol='scaledFeatures', withMean=False, withStd=True) # TODO: should withMean be True??\n",
    "scaled_df = scaler.fit(vector_df).transform(vector_df)\n",
    "scaled_df.head()"
   ]
  },
  {
   "cell_type": "code",
   "execution_count": 10,
   "metadata": {},
   "outputs": [
    {
     "data": {
      "text/plain": [
       "Row(Birth_Year=2013, Birth_Month=11, Time_of_Birth=2156, Birth_DOW=5, Birth_Place=1, Facility_Recode=1, Mothers_Age_Recode=29, Mothers_Nativity=1, Residence_Status=1, Mothers_Race=-1, Bridge_Race_Mother=1, Mothers_Hispanic_Origin_Recode=0, Paternity_Ack=-1, Marital_Status=1, Mothers_Education=6, Fathers_Age=32, Fathers_Age_Recode=5, Fathers_Race_Recode=-1, Bridge_Race_Father=1, Fathers_Hispanic_Origin_Recode=0, Fathers_Education=4, Prior_Births_Living=2, Prior_Births_Dead=0, Prior_Other_Terminations=0, Live_Birth_Order_Recode=3, Total_Birth_Order_Recode=3, Interval_Last_Live_Birth_Recode=31, Interval_Last_Live_Birth_Recode11=4, Interval_Last_Other_Pregnancy_Recode=888, Interval_Last_Other_Pregnancy_Recode11=88, Interval_Last_Pregnancy_Recode=31, Interval_Last_Pregnancy_Recode11=4, Num_Prenatal_Visits=13, Num_Prenatal_Visits_Recode=8, Cigarettes_Before_Pregnancy=0, Cigarettes_1st_Trimester=0, Cigarettes_2nd_Trimester=0, Cigarettes_3rd_Trimester=0, Cigarettes_Before_Pregnancy_Recode=-1, Cigarettes_1st_Trimester_Recode=-1, Cigarettes_2nd_Trimester_Recode=-1, Cigarettes_3rd_Trimester_Recode=-1, Mothers_Height_Inches=68, BMI_Recode=2, Pre_Pregnancy_Weight_Recode=155, Delivery_Weight_Recode=193, Weight_Gain=38, Weight_Gain_Recode=4, Pre_Pregnancy_Diabetes='N', Gestational_Diabetes='N', Pre_Pregnancy_Hypertension='N', Gestational_Hypertension='N', Hypertension_Eclmapsia='N', Previous_Preterm_Birth='N', Infertility_Treatment='N', Fertility_Enhancing_Drugs='X', Assistive_Reproductive_Technology='X', Prev_Cesareans='N', Num_Prev_Cesareans=0, No_Risk_Factors_Checked='1', Gonorrhea='N', Syphillis='N', Chlamydia='N', HepatitisB='N', HepatitisC='N', No_Infections_Checked='1', Sucessful_External_Cephalic_Version='N', Failed_External_Cephalic_Version='N', Induction_Of_Labor='N', Augmentation_Of_Labor='N', Steroids_Mother='N', Antibiotics_Mother='N', Chorioamnionitis_Mother='N', Anesthesia_Mother='N', No_Labor_Checked='1', Fetal_Presentation=1, Final_Route_and_Method_Of_Delivery=1, Trail_Of_Labor_Attempted=-1, Delivery_Method_Recode=1, Maternal_Transfusion='N', Perineal_Laceration='N', Ruptured_Uterus='N', Unplanned_Hysterectomy='N', Admit_to_Intensive_Care='N', No_Maternal_Morbidity_Checked=1, Attendant=3, Mother_Transferred='N', Payment_Source=5, Payment_Recode=4, Five_Minute_APGAR_Score=9, Five_Minute_APGAR_Recode=4, Ten_Minute_APGAR_Score=88, Ten_Minute_APGAR_Recode=5, Plurality=1, Sex_Of_Infant='F', Last_Normal_Menses_Month=1, Last_Normal_Menses_Year=2013, Obstetric_Estimate_of_Gestation_Used_Flag=-1, Combined_Gestation_Detail_in_Weeks=40, Combined_Gestation_Recode_Weeks=0, Birth_Weight_Recode_14=10, Birth_Weight_Recode_4=3, Imputed_Birthwieght=3799, Assisted_Ventilation='N', Assisted_Ventilation_Greater_Than_6_Hours='N', Admission_to_NICU='N', Surfactant='N', Antibiotics='N', Seizures='N', No_Abnormal_Conditions_Checked=1, Anencephaly='N', Meningomyelocele_or_Spina_Bifida='N', Cyanotic_Congenital_Heart_Disease='N', Congenital_Diaphragmatic_Hernia='N', Omphalocele='N', Gastroschisis='N', Limb_Reduction_Defect='N', Cleft_Lip_w_or_wo_Cleft_Palate='N', Cleft_Palate_alone='N', Suspected_Chromosomal_Disorder='N', Hypospadias='N', No_Congenital_Anomalies_Checked=1, Infant_Living_at_Time_of_Report='Y', Infant_Being_Breastfed='U', Diabetes=2, Chronic_Hypertension=2, Prepregnacy_Associated_Hypertension=2, Eclampsia=2, Forceps=2, Vacuum=2, Induction_of_Labor1=2, Breech1=2, Spina_Bifida_Meningocele1=2, Omphalocele_Gastroschisis1=2, Cleft_Lip_Palate1=2, Diaphragmatic_Herni1a=2, Down_Syndrome1=2, Age_at_Death_in_Days=108, Infant_age_recode_5=5, Infant_age_recode_22=14, Manner_of_Death=7, Place_of_injury_for_causes_W00_Y34_except_Y06=-1, ICD10='G129', Day_of_Week_of_Death=1, Data_Year=2014, Month_of_Death=0, id=0, Infant_Living='N', No_Labor_Checked_numeric=1.0, Sex_Of_Infant_numeric=1.0, Gestational_Diabetes_numeric=0.0, Cleft_Lip_w_or_wo_Cleft_Palate_numeric=0.0, Chorioamnionitis_Mother_numeric=0.0, Chlamydia_numeric=0.0, Gestational_Hypertension_numeric=0.0, Omphalocele_numeric=0.0, No_Infections_Checked_numeric=0.0, Admission_to_NICU_numeric=0.0, Anencephaly_numeric=0.0, Infertility_Treatment_numeric=0.0, Seizures_numeric=0.0, Infant_Being_Breastfed_numeric=2.0, Steroids_Mother_numeric=0.0, Fertility_Enhancing_Drugs_numeric=0.0, Unplanned_Hysterectomy_numeric=0.0, Cyanotic_Congenital_Heart_Disease_numeric=0.0, Prev_Cesareans_numeric=0.0, Anesthesia_Mother_numeric=0.0, Surfactant_numeric=0.0, Previous_Preterm_Birth_numeric=0.0, Mother_Transferred_numeric=0.0, Assisted_Ventilation_Greater_Than_6_Hours_numeric=0.0, Failed_External_Cephalic_Version_numeric=0.0, Gonorrhea_numeric=0.0, Augmentation_Of_Labor_numeric=0.0, Admit_to_Intensive_Care_numeric=0.0, Limb_Reduction_Defect_numeric=0.0, Cleft_Palate_alone_numeric=0.0, Antibiotics_Mother_numeric=0.0, Pre_Pregnancy_Diabetes_numeric=0.0, Assisted_Ventilation_numeric=0.0, Antibiotics_numeric=0.0, Hypospadias_numeric=0.0, Meningomyelocele_or_Spina_Bifida_numeric=0.0, HepatitisB_numeric=0.0, Perineal_Laceration_numeric=0.0, Ruptured_Uterus_numeric=0.0, Infant_Living_at_Time_of_Report_numeric=0.0, Assistive_Reproductive_Technology_numeric=0.0, Sucessful_External_Cephalic_Version_numeric=0.0, Maternal_Transfusion_numeric=0.0, Induction_Of_Labor_numeric=0.0, Congenital_Diaphragmatic_Hernia_numeric=0.0, Gastroschisis_numeric=0.0, Suspected_Chromosomal_Disorder_numeric=0.0, No_Risk_Factors_Checked_numeric=0.0, Hypertension_Eclmapsia_numeric=0.0, Infant_Living_numeric=0.0, HepatitisC_numeric=0.0, Syphillis_numeric=0.0, ICD10_numeric=60.0, Pre_Pregnancy_Hypertension_numeric=0.0, label=0.0, features=SparseVector(146, {0: 2013.0, 1: 11.0, 2: 2156.0, 3: 5.0, 4: 1.0, 5: 1.0, 6: 29.0, 7: 1.0, 8: 1.0, 9: -1.0, 10: 1.0, 12: -1.0, 13: 1.0, 14: 6.0, 15: 32.0, 16: 5.0, 17: -1.0, 18: 1.0, 20: 4.0, 21: 2.0, 24: 3.0, 25: 3.0, 26: 31.0, 27: 4.0, 28: 888.0, 29: 88.0, 30: 31.0, 31: 4.0, 32: 13.0, 33: 8.0, 38: -1.0, 39: -1.0, 40: -1.0, 41: -1.0, 42: 68.0, 43: 2.0, 44: 155.0, 45: 193.0, 46: 38.0, 47: 4.0, 49: 1.0, 50: 1.0, 51: -1.0, 52: 1.0, 53: 1.0, 54: 3.0, 55: 5.0, 56: 4.0, 57: 9.0, 58: 4.0, 59: 88.0, 60: 5.0, 61: 1.0, 62: 1.0, 63: 2013.0, 64: -1.0, 65: 40.0, 67: 10.0, 68: 3.0, 69: 3799.0, 70: 1.0, 71: 1.0, 72: 2.0, 73: 2.0, 74: 2.0, 75: 2.0, 76: 2.0, 77: 2.0, 78: 2.0, 79: 2.0, 80: 2.0, 81: 2.0, 82: 2.0, 83: 2.0, 84: 2.0, 85: 108.0, 86: 5.0, 87: 14.0, 88: 7.0, 89: -1.0, 90: 1.0, 91: 2014.0, 94: 1.0, 95: 1.0, 107: 2.0, 144: 60.0}), scaledFeatures=SparseVector(146, {0: 6606.5971, 1: 3.3498, 2: 2.9823, 3: 2.6182, 4: 1.6669, 5: 7.5721, 6: 4.5709, 7: 2.3035, 8: 1.7708, 9: -0.5248, 10: 1.3075, 12: -0.0, 13: 2.0011, 14: 2.8989, 15: 1.0617, 16: 1.707, 17: -0.0236, 18: 0.2861, 20: 1.3975, 21: 0.2446, 24: 1.9134, 25: 1.5313, 26: 0.0725, 27: 0.0944, 28: 2.4626, 29: 2.4509, 30: 0.0697, 31: 0.091, 32: 0.5454, 33: 2.7403, 38: -0.8017, 39: -0.8477, 40: -0.8758, 41: -0.8776, 42: 5.0324, 43: 0.9578, 44: 0.7444, 45: 1.0753, 46: 1.4354, 47: 1.8209, 49: 0.6677, 50: 0.6379, 51: -0.0, 52: 0.7737, 53: 1.4331, 54: 3.9912, 55: 3.0879, 56: 3.1163, 57: 0.5329, 58: 2.9788, 59: 2.0452, 60: 2.546, 61: 2.3767, 62: 0.0367, 63: 0.8794, 64: -1.5763, 65: 4.0223, 67: 2.8554, 68: 3.2167, 69: 2.7039, 70: 0.9898, 71: 0.8826, 72: 3.5159, 73: 3.6566, 74: 3.5272, 75: 3.8416, 76: 6.2819, 77: 6.0957, 78: 3.4113, 79: 1.5219, 80: 2.0658, 81: 2.0615, 82: 2.0498, 83: 2.0594, 84: 2.0623, 85: 1.5372, 86: 2.5779, 87: 2.2625, 88: 2.0613, 89: -1.0726, 90: 0.4062, 91: 3.1725, 94: 1.786, 95: 2.0147, 107: 2.3014, 144: 0.7573}), normalizeFeatures=SparseVector(146, {0: 0.9752, 1: 0.0005, 2: 0.0004, 3: 0.0004, 4: 0.0002, 5: 0.0011, 6: 0.0007, 7: 0.0003, 8: 0.0003, 9: -0.0001, 10: 0.0002, 12: -0.0, 13: 0.0003, 14: 0.0004, 15: 0.0002, 16: 0.0003, 17: -0.0, 18: 0.0, 20: 0.0002, 21: 0.0, 24: 0.0003, 25: 0.0002, 26: 0.0, 27: 0.0, 28: 0.0004, 29: 0.0004, 30: 0.0, 31: 0.0, 32: 0.0001, 33: 0.0004, 38: -0.0001, 39: -0.0001, 40: -0.0001, 41: -0.0001, 42: 0.0007, 43: 0.0001, 44: 0.0001, 45: 0.0002, 46: 0.0002, 47: 0.0003, 49: 0.0001, 50: 0.0001, 51: -0.0, 52: 0.0001, 53: 0.0002, 54: 0.0006, 55: 0.0005, 56: 0.0005, 57: 0.0001, 58: 0.0004, 59: 0.0003, 60: 0.0004, 61: 0.0004, 62: 0.0, 63: 0.0001, 64: -0.0002, 65: 0.0006, 67: 0.0004, 68: 0.0005, 69: 0.0004, 70: 0.0001, 71: 0.0001, 72: 0.0005, 73: 0.0005, 74: 0.0005, 75: 0.0006, 76: 0.0009, 77: 0.0009, 78: 0.0005, 79: 0.0002, 80: 0.0003, 81: 0.0003, 82: 0.0003, 83: 0.0003, 84: 0.0003, 85: 0.0002, 86: 0.0004, 87: 0.0003, 88: 0.0003, 89: -0.0002, 90: 0.0001, 91: 0.0005, 94: 0.0003, 95: 0.0003, 107: 0.0003, 144: 0.0001}))"
      ]
     },
     "execution_count": 10,
     "metadata": {},
     "output_type": "execute_result"
    }
   ],
   "source": [
    "from pyspark.ml.feature import Normalizer\n",
    "nrmlzer = Normalizer(inputCol='scaledFeatures', outputCol='normalizeFeatures', p=1.0)\n",
    "l1Normalized = nrmlzer.transform(scaled_df)\n",
    "l1Normalized.head()"
   ]
  },
  {
   "cell_type": "markdown",
   "metadata": {},
   "source": [
    "### Dimensionality Reduction: PCA and Similarity Search(Cosine similarity using DIMSUM)"
   ]
  },
  {
   "cell_type": "code",
   "execution_count": 18,
   "metadata": {
    "scrolled": false
   },
   "outputs": [
    {
     "name": "stdout",
     "output_type": "stream",
     "text": [
      "Record     29  is similar to record     46  and have  0.999306111  similarity\n",
      "Record     12  is similar to record     26  and have  0.998786961  similarity\n",
      "Record     18  is similar to record     28  and have  0.997806325  similarity\n",
      "Record      6  is similar to record     32  and have  0.997281804  similarity\n",
      "Record      4  is similar to record     20  and have  0.996616032  similarity\n",
      "Record      6  is similar to record     41  and have  0.997673526  similarity\n",
      "Record      3  is similar to record     31  and have  0.994019706  similarity\n",
      "Record     10  is similar to record     27  and have  0.682148123  similarity\n",
      "Record     35  is similar to record     48  and have  0.999389452  similarity\n",
      "Record     11  is similar to record     24  and have  0.997325095  similarity\n",
      "Record     19  is similar to record     24  and have  0.698558498  similarity\n",
      "Record     27  is similar to record     32  and have  0.681731487  similarity\n",
      "Record      8  is similar to record     34  and have  0.999235999  similarity\n",
      "Record     33  is similar to record     39  and have  0.995297090  similarity\n",
      "Record     11  is similar to record     22  and have  0.992455160  similarity\n",
      "Record     14  is similar to record     26  and have  0.995160633  similarity\n",
      "Record     23  is similar to record     32  and have  0.993453507  similarity\n",
      "Record     28  is similar to record     33  and have  0.995988588  similarity\n"
     ]
    }
   ],
   "source": [
    "import pprint\n",
    "from pyspark.ml.feature import PCA\n",
    "from pyspark.mllib.linalg.distributed import RowMatrix\n",
    "num_principal_comp = 50\n",
    "pca = PCA(k=num_principal_comp, inputCol='normalizeFeatures', outputCol='features_pca')\n",
    "pca_model = pca.fit(l1Normalized)\n",
    "pca_feat = pca_model.transform(l1Normalized)\n",
    "rddVector = pca_feat.select('features_pca').rdd.map(lambda row : list(row[0]))\n",
    "mat = RowMatrix(rddVector)\n",
    "exact = mat.columnSimilarities(0.5)\n",
    "similarCases = exact.entries.take(50)\n",
    "for case in similarCases:\n",
    "    if case.value > 0.5:\n",
    "        print(\"Record \", '%5s' % case.i, \" is similar to record \", '%5s' % case.j, \" and have \", \"{:1.9f}\".format(case.value), \" similarity\")"
   ]
  },
  {
   "cell_type": "code",
   "execution_count": null,
   "metadata": {},
   "outputs": [],
   "source": []
  }
 ],
 "metadata": {
  "kernelspec": {
   "display_name": "Python 3",
   "language": "python",
   "name": "python3"
  },
  "language_info": {
   "codemirror_mode": {
    "name": "ipython",
    "version": 3
   },
   "file_extension": ".py",
   "mimetype": "text/x-python",
   "name": "python",
   "nbconvert_exporter": "python",
   "pygments_lexer": "ipython3",
   "version": "3.6.3"
  }
 },
 "nbformat": 4,
 "nbformat_minor": 1
}
